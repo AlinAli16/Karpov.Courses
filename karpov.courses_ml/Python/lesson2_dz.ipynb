{
 "cells": [
  {
   "cell_type": "code",
   "execution_count": 6,
   "id": "64ed1fa6-6cad-4105-959a-a0a9950a4155",
   "metadata": {},
   "outputs": [
    {
     "data": {
      "text/plain": [
       "12.56"
      ]
     },
     "execution_count": 6,
     "metadata": {},
     "output_type": "execute_result"
    }
   ],
   "source": [
    "\"\"\"\n",
    "Напишите функцию circle_square, которая принимает на вход радиус radius и возвращает (через return) площадь круга. \n",
    "Напомним, что для круга с радиусом r площадь S считается по формуле S=πr^2. Считайте π=3.14\n",
    "\"\"\"\n",
    "\n",
    "def circle_square(radius,pi=3.14):\n",
    "    return pi*radius**2\n",
    "\n",
    "circle_square(2)"
   ]
  },
  {
   "cell_type": "code",
   "execution_count": 16,
   "id": "e784a4d3-c1bd-4ca5-8c2e-9e0e74655ceb",
   "metadata": {},
   "outputs": [
    {
     "data": {
      "text/plain": [
       "[(1, 2), (5, 7), (3, 9)]"
      ]
     },
     "execution_count": 16,
     "metadata": {},
     "output_type": "execute_result"
    }
   ],
   "source": [
    "\"\"\"\n",
    "Напишите функцию zip_, которая принимает на вход два списка и «сшивает» их следующим образом, например:\n",
    "\n",
    "Списки [1, 5, 3, 8, 35] и [2, 7, 9] превратятся в [(1, 2), (5, 7), (3, 9)], \n",
    "т. е. сначала берутся первые элементы первого и второго списков и собираются в кортеж, \n",
    "затем вторые элементы первого и второго списков и собираются в кортеж и т. д., пока не дошли до конца самого короткого списка. \n",
    "\n",
    "На выходе функция должна возвращать (return) «сшитый» список. Вам понадобится использовать цикл.\n",
    "\"\"\"\n",
    "\n",
    "def zip_(s1, s2):\n",
    "    s=[]\n",
    "    for i in range(len(s2)):\n",
    "        s.append((s1[i],s2[i]))\n",
    "    return s\n",
    "\n",
    "zip_([1, 5, 3, 8, 35],[2, 7, 9])"
   ]
  },
  {
   "cell_type": "code",
   "execution_count": 27,
   "id": "6ff0b762-226a-41fc-91f6-3647f30cbce3",
   "metadata": {},
   "outputs": [
    {
     "data": {
      "text/plain": [
       "1377.01"
      ]
     },
     "execution_count": 27,
     "metadata": {},
     "output_type": "execute_result"
    }
   ],
   "source": [
    "\"\"\"\n",
    "Напишите функцию final_balance, которая на вход принимает начальную сумму init_sum, процентную ставку interest_rate, \n",
    "количество лет years и округление round_num. \n",
    "Функция должна возвращать сумму по истечении этого срока.\n",
    "Поставьте значение по умолчанию round_num, равное 2. Это соответствует округлению до копеек.\n",
    "\"\"\"\n",
    "\n",
    "def final_balance(init_sum,interest_rate,years,round_num=2):\n",
    "    \"\"\"Подсчет баланса через years лет\"\"\"\n",
    "    final_sum = init_sum*((100+interest_rate)/100)**years\n",
    "    return round(final_sum,round_num)\n",
    "\n",
    "final_balance(1000,5,10)\n",
    "final_balance(700,7,10)"
   ]
  },
  {
   "cell_type": "code",
   "execution_count": 36,
   "id": "4f1b56b8-dd9c-4cbb-abda-4698527ed895",
   "metadata": {},
   "outputs": [
    {
     "name": "stdout",
     "output_type": "stream",
     "text": [
      "###\n",
      "[1, 64, 125, 729]\n",
      "###\n",
      "[1, 1, 6, 1]\n",
      "###\n",
      "[2, 5, 11, 10]\n",
      "###\n"
     ]
    },
    {
     "data": {
      "text/plain": [
       "[2, 5, 11, 10]"
      ]
     },
     "execution_count": 36,
     "metadata": {},
     "output_type": "execute_result"
    }
   ],
   "source": [
    "\"\"\"\n",
    "Распечатайте answer после каждого цикла и попробуйте найти ошибки в коде. \n",
    "Отправьте в LMS исправленную версию функции math_task  и её вызов с данными test_data.  \n",
    "В вашей функции должна происходить печать answer после каждого цикла.\n",
    "\n",
    "Не забудьте вызвать функцию math_task в конце!\n",
    "\"\"\"\n",
    "\n",
    "# много другого кода, который тоже печатает\n",
    "# ...\n",
    "# Код коллеги\n",
    "\n",
    "def math_task(data):\n",
    "    answer = []\n",
    "    # возводим в третью степень\n",
    "    for elem in data:\n",
    "        answer += [elem ** 3]\n",
    "    print(\"###\")\n",
    "    print(answer)\n",
    "    print(\"###\")  \n",
    "    # берем остаток от деления на 7\n",
    "    for i in range(len(answer)):\n",
    "        answer[i] = answer[i] % 7\n",
    "    print(\"###\")\n",
    "    print(answer)\n",
    "    print(\"###\")  \n",
    "    # прибавляем к остатку изначальный массив\n",
    "    for i in range(len(answer)):\n",
    "        answer[i] = answer[i] + data[i]\n",
    "    print(\"###\")\n",
    "    print(answer)\n",
    "    print(\"###\")    \n",
    "    # возвращаем результат\n",
    "    return answer\n",
    "\n",
    "math_task(test_data)\n",
    "#print(math_task([1, 4, 5, 9]))"
   ]
  },
  {
   "cell_type": "code",
   "execution_count": 38,
   "id": "4fb1b8d4-d605-4b20-bc76-ff2231829f70",
   "metadata": {},
   "outputs": [
    {
     "name": "stdout",
     "output_type": "stream",
     "text": [
      "###\n",
      "[1, 64, 125, 729]\n",
      "###\n",
      "###\n",
      "[1, 1, 6, 1]\n",
      "###\n",
      "###\n",
      "[2, 5, 11, 10]\n",
      "###\n"
     ]
    },
    {
     "data": {
      "text/plain": [
       "[2, 5, 11, 10]"
      ]
     },
     "execution_count": 38,
     "metadata": {},
     "output_type": "execute_result"
    }
   ],
   "source": [
    "\"\"\"\n",
    "Вынесите код печати массива в функцию print_array, затем поменяйте вашу исправленную реализацию math_task так, \n",
    "чтобы она использовала функцию print_array для печати массива. \n",
    "Ваш код в math_task станет меньше и не будет пестрить кучей строк с print.\n",
    "\n",
    "Отправьте в LMS две функции: print_array и math_task.\n",
    "\n",
    "Вызовите функцию math_task с данными test_data.\n",
    "\"\"\"\n",
    "\n",
    "def print_array(answer):\n",
    "    print(\"###\")\n",
    "    print(answer)\n",
    "    print(\"###\") \n",
    "\n",
    "# много другого кода, который тоже печатает\n",
    "# ...\n",
    "# Код коллеги\n",
    "\n",
    "def math_task(data):\n",
    "    answer = []\n",
    "    # возводим в третью степень\n",
    "    for elem in data:\n",
    "        answer += [elem ** 3]\n",
    "    print_array(answer)  \n",
    "    # берем остаток от деления на 7\n",
    "    for i in range(len(answer)):\n",
    "        answer[i] = answer[i] % 7\n",
    "    print_array(answer)  \n",
    "    # прибавляем к остатку изначальный массив\n",
    "    for i in range(len(answer)):\n",
    "        answer[i] = answer[i] + data[i]\n",
    "    print_array(answer) \n",
    "    # возвращаем результат\n",
    "    return answer\n",
    "\n",
    "math_task(test_data)"
   ]
  },
  {
   "cell_type": "code",
   "execution_count": 57,
   "id": "a347acd4-7fcd-4cbb-838f-c8271bd1c603",
   "metadata": {},
   "outputs": [],
   "source": [
    "\"\"\"\n",
    "Напишите функцию sum_as_ints, которая принимает на вход список из строк, пытается привести их к целому числу через int(element) и считает сумму. \n",
    "Список может содержать любые данные, но если они не приводятся через int(element), то программа должна их отбросить.\n",
    "\n",
    "Вы можете попробовать выполнить int(\"hello\"), int(\"3.14\"), int(\"2,2\") и увидеть, какие исключения выбрасывает программа. \n",
    "После этого можно обработать эти исключения у себя в функции.\n",
    "\"\"\"\n",
    "\n",
    "def sum_as_ints(lst):\n",
    "    total = 0\n",
    "    for element in lst:\n",
    "        try:\n",
    "            total += int(element)\n",
    "        except (ValueError, TypeError):\n",
    "            print(\"Can't be converted to int\")\n",
    "    return total\n",
    "\n",
    "sum_as_ints([\"hello\",\"3.14\",\"2,2\"])"
   ]
  },
  {
   "cell_type": "code",
   "execution_count": 4,
   "id": "54563557-828a-4f86-b8ad-ee418cddab04",
   "metadata": {},
   "outputs": [
    {
     "name": "stdout",
     "output_type": "stream",
     "text": [
      "Все хорошо\n"
     ]
    },
    {
     "ename": "RuntimeError",
     "evalue": "Ошибка, после обращения дважды не получается исходный массив!",
     "output_type": "error",
     "traceback": [
      "\u001b[0;31m---------------------------------------------------------------------------\u001b[0m",
      "\u001b[0;31mRuntimeError\u001b[0m                              Traceback (most recent call last)",
      "\u001b[0;32m/tmp/ipykernel_46/3261442968.py\u001b[0m in \u001b[0;36m<module>\u001b[0;34m\u001b[0m\n\u001b[1;32m     27\u001b[0m     \u001b[0mprint\u001b[0m\u001b[0;34m(\u001b[0m\u001b[0;34m\"Все хорошо\"\u001b[0m\u001b[0;34m)\u001b[0m\u001b[0;34m\u001b[0m\u001b[0;34m\u001b[0m\u001b[0m\n\u001b[1;32m     28\u001b[0m \u001b[0;32melse\u001b[0m\u001b[0;34m:\u001b[0m\u001b[0;34m\u001b[0m\u001b[0;34m\u001b[0m\u001b[0m\n\u001b[0;32m---> 29\u001b[0;31m     \u001b[0;32mraise\u001b[0m \u001b[0mRuntimeError\u001b[0m\u001b[0;34m(\u001b[0m\u001b[0;34m\"Ошибка, после обращения дважды не получается исходный массив!\"\u001b[0m\u001b[0;34m)\u001b[0m\u001b[0;34m\u001b[0m\u001b[0;34m\u001b[0m\u001b[0m\n\u001b[0m",
      "\u001b[0;31mRuntimeError\u001b[0m: Ошибка, после обращения дважды не получается исходный массив!"
     ]
    }
   ],
   "source": [
    "\"\"\"\n",
    "Вам на код-ревью поступила такая реализация функции для разворота списка. \n",
    "Ваш коллега не очень любит срезы, поэтому он написал несколько элегантнее: поскольку pop() всегда возвращает последний элемент, \n",
    "можно его использовать для прочтения списка с конца:\n",
    "\"\"\"\n",
    "def reversed_(array):\n",
    "    rv = []\n",
    "    while array:\n",
    "        rv.append(array.pop())\n",
    "    return rv\n",
    "\n",
    "\"\"\"\n",
    "Вы тестируете этот код и хотите проверить следующее свойство: если дважды применить эту функцию, то ничего не изменится. \n",
    "Для этого вы пишете проверочный код:\n",
    "\"\"\"\n",
    "if reversed_(reversed_([1, 2, 3])) == [1, 2, 3]:\n",
    "    print(\"Все хорошо\")\n",
    "else:\n",
    "    raise RuntimeError(\"Ошибка, после обращения дважды не получается исходный массив!\")\n",
    "\n",
    "    \n",
    "\"\"\"\n",
    "Вы замечаете, что повторяете самого себя: массив [1, 2, 3] написан дважды! Кажется, его лучше вынести в переменную:\n",
    "\"\"\"\n",
    "arr = [1, 2, 3]\n",
    "if reversed_(reversed_(arr)) == arr:\n",
    "    print(\"Все хорошо\")\n",
    "else:\n",
    "    raise RuntimeError(\"Ошибка, после обращения дважды не получается исходный массив!\")"
   ]
  },
  {
   "cell_type": "code",
   "execution_count": 12,
   "id": "c23845ce-b52d-470c-a45c-84e9d4b27ce6",
   "metadata": {},
   "outputs": [
    {
     "name": "stdout",
     "output_type": "stream",
     "text": [
      "Все хорошо\n",
      "Все хорошо\n"
     ]
    }
   ],
   "source": [
    "\"\"\"\n",
    "Напишите реализацию reversed_, в которой не будет проблемы из прошлого пункта.\n",
    "\n",
    "Оба варианта проверочного кода должны выдать Все хорошо.\n",
    "\"\"\"\n",
    "def reversed_(array):\n",
    "    array_copy=array.copy()\n",
    "    rv = []\n",
    "    while array_copy:\n",
    "        rv.append(array_copy.pop())\n",
    "    return rv\n",
    "\n",
    "if reversed_(reversed_([1, 2, 3])) == [1, 2, 3]:\n",
    "    print(\"Все хорошо\")\n",
    "else:\n",
    "    raise RuntimeError(\"Ошибка, после обращения дважды не получается исходный массив!\")\n",
    "\n",
    "\n",
    "arr = [1, 2, 3]\n",
    "if reversed_(reversed_(arr)) == arr:\n",
    "    print(\"Все хорошо\")\n",
    "else:\n",
    "    raise RuntimeError(\"Ошибка, после обращения дважды не получается исходный массив!\")"
   ]
  },
  {
   "cell_type": "code",
   "execution_count": 18,
   "id": "7935adaf-04d9-4bad-b3db-6540babe5903",
   "metadata": {},
   "outputs": [
    {
     "name": "stdout",
     "output_type": "stream",
     "text": [
      "(6, 8)\n",
      "(0, 2)\n"
     ]
    }
   ],
   "source": [
    "\"\"\"\n",
    "В этом задании Вам понадобится написать функцию find_substr,  которая принимает на вход два аргумента: подстроку (любой длины) и строку, \n",
    "в которой нужно ее искать, и возвращает кортеж, представляющий собой пару [start, stop) первой позиции, где найдено слово.\n",
    "\n",
    "find_substr(\"мы\", \"Летом мы хотим отдыхать на море\")\n",
    "Output:\n",
    "(6, 8) \n",
    "\n",
    "find_substr(\"ма\", \"маленькая машина\")\n",
    "Output:\n",
    "(0, 2)\n",
    "\"\"\"\n",
    "def find_substr(substring, string):\n",
    "    start = string.find(substring)\n",
    "    end = start + len(substring)\n",
    "    return start, end\n",
    "\n",
    "print(find_substr(\"мы\", \"Летом мы хотим отдыхать на море\")) # (6, 8)\n",
    "print(find_substr(\"ма\", \"маленькая машина\")) # (0, 2)"
   ]
  },
  {
   "cell_type": "code",
   "execution_count": 22,
   "id": "635aad41-24c1-4352-94b2-117b20957ae5",
   "metadata": {},
   "outputs": [
    {
     "name": "stdout",
     "output_type": "stream",
     "text": [
      "< K / C >\n"
     ]
    }
   ],
   "source": [
    "\"\"\"\n",
    "В этом задании вам потребуется написать функцию fifth_element, которая берет каждый пятый элемент списка в обратном порядке, \n",
    "начиная с пятого с конца и возвращает .\n",
    "\n",
    "Пример, как должна выглядить функция для сдачи задания\n",
    "\n",
    "def fifth_element(some_list: list) -> list:\n",
    "    ...\n",
    " \n",
    "Конструкция -> list в этом примере определяет тип возвращаемого значения. \n",
    "Это означает, что на выходе функции мы ожидаем получить список. \n",
    "\n",
    "Не в качестве ответа на задачу, а для самопроверки, попробуйте использовать написанную вами функцию fifth_element для расшифровки следующего кода: \n",
    "\n",
    "['e',6,8,'A','>','^','S','$','R','C',6,'+','#',9,'/',1,'T','!','%','K',7,'-','O','*','<',2,'h',4,'g']\n",
    "\"\"\"\n",
    "def fifth_element(some_list: list) -> list:\n",
    "    return some_list[-5::-5]\n",
    "\n",
    "print(*fifth_element(['e',6,8,'A','>','^','S','$','R','C',6,'+','#',9,'/',1,'T','!','%','K',7,'-','O','*','<',2,'h',4,'g']))"
   ]
  },
  {
   "cell_type": "code",
   "execution_count": 24,
   "id": "2f55b771-27cd-4185-ba57-f273b044f8b8",
   "metadata": {},
   "outputs": [
    {
     "data": {
      "text/plain": [
       "'junior reads a lot of books'"
      ]
     },
     "execution_count": 24,
     "metadata": {},
     "output_type": "execute_result"
    }
   ],
   "source": [
    "\"\"\"\n",
    "В этом задании потребуется написать функцию process_string, которая приводит строку[1:] к нижнему регистру и заменяет все слова 'intern' на 'junior'.\n",
    "\n",
    "def process_string(string):\n",
    "    <...>\n",
    "    return result\n",
    "\n",
    "process_string('IIntern reads a lot of books')\n",
    "\n",
    "Output:\n",
    "'junior reads a lot of books'\n",
    "\"\"\"\n",
    "def process_string(string):\n",
    "    result = string[1:].lower().replace('intern', 'junior')\n",
    "    return result\n",
    "\n",
    "process_string('IIntern reads a lot of books')"
   ]
  },
  {
   "cell_type": "code",
   "execution_count": 43,
   "id": "05c76ee5-40dc-46fb-995b-1b4ac0a3c89f",
   "metadata": {},
   "outputs": [
    {
     "data": {
      "text/plain": [
       "False"
      ]
     },
     "execution_count": 43,
     "metadata": {},
     "output_type": "execute_result"
    }
   ],
   "source": [
    "\"\"\"\n",
    "В этом задании необходимо написать функцию check_string, которая сначала проверят наличие лишних символов пробела слева и справа. \n",
    "Если есть лишние пробелы, то тогда мы считаем строку неверной. \n",
    "Затем проверяет, что только первое слово начинается с большой буквы, а остальные с маленькой, и в конце проводит проверку, \n",
    "что последний символ последнего элемента является точкой.\n",
    "\n",
    "def check_string(string):\n",
    "    <...>\n",
    "    return result\n",
    "\n",
    "check_string('В этом году будет особенно теплое море.')\n",
    "True\n",
    "check_string('В этом году будет особенно теплое Mоре.')\n",
    "False\n",
    "check_string('В этом году будет особенно теплое море')\n",
    "False\n",
    "check_string(' В этом году будет особенно теплое море')\n",
    "False\n",
    "\"\"\"\n",
    "def check_string(string):\n",
    "    result = True\n",
    "    # Проверяем лишние пробелы в начале и конце строки\n",
    "    if string[0] == \" \" or string[-1]==\" \":\n",
    "        result = False\n",
    "    \n",
    "    #string = string.strip()\n",
    "\n",
    "    # Проверяем, что первая буква первого слова - заглавная\n",
    "    if string[0].islower():\n",
    "        result = False\n",
    "\n",
    "    # Проверяем, что все остальные буквы в словах - строчные\n",
    "    words = string.split()\n",
    "    for word in words[1:]:\n",
    "        if word[0].isupper():\n",
    "            result = False\n",
    "\n",
    "    # Проверяем, что последний символ последнего слова - точка\n",
    "    if words[-1][-1] != '.':\n",
    "        result = False\n",
    "\n",
    "    return result\n",
    "\n",
    "check_string(' В этом году будет особенно теплое море.')"
   ]
  },
  {
   "cell_type": "code",
   "execution_count": null,
   "id": "ef581c93-bf1a-443b-9d95-fbb2ccbde9b6",
   "metadata": {},
   "outputs": [],
   "source": []
  }
 ],
 "metadata": {
  "kernelspec": {
   "display_name": "Python 3 (ipykernel)",
   "language": "python",
   "name": "python3"
  },
  "language_info": {
   "codemirror_mode": {
    "name": "ipython",
    "version": 3
   },
   "file_extension": ".py",
   "mimetype": "text/x-python",
   "name": "python",
   "nbconvert_exporter": "python",
   "pygments_lexer": "ipython3",
   "version": "3.8.10"
  }
 },
 "nbformat": 4,
 "nbformat_minor": 5
}
