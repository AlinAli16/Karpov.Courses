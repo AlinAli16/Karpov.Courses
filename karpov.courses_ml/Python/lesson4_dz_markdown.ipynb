{
 "cells": [
  {
   "cell_type": "markdown",
   "id": "f213e2f7-45b2-4240-af82-e25c42a14c3f",
   "metadata": {},
   "source": [
    "## Урок 4 ОБЗОР NUMPY, PANDAS, JUPYTER. ОСНОВЫ JUPYTER\n",
    "В четвертом уроке задания будут разбиты на 4 блока:\n",
    "\n",
    "1. __Markdown__. Сначала мы научимся работать с Markdown, используя _`jupyter notebook`_.\n",
    "\n",
    "2. __Ошибки в коде__. Здесь мы поработаем с чужим кодом, отредактируем и запустим его.\n",
    "\n",
    "3. __Numpy__. Мы сравненим время работы цикла for и функции из библиотеки numpy для вычислении скалярного произведения векторов.\n",
    "\n",
    "4. __Непонятная [*]__. _В заключение, мы столкнемся с зависающим кодом и применим наши знания о ядрах jupyter для решения проблемы._\n"
   ]
  },
  {
   "cell_type": "markdown",
   "id": "217938e3-6c26-42de-9498-6b29575c9646",
   "metadata": {},
   "source": [
    "## Задание 1 Markdown"
   ]
  },
  {
   "cell_type": "markdown",
   "id": "60f48b76-599b-499d-922e-81f5c450453d",
   "metadata": {},
   "source": [
    "### _**Степ 1**_ `Создаем ноутбук в jupyter и учимся работать с Markdown`"
   ]
  },
  {
   "cell_type": "markdown",
   "id": "a9d2321c-11e0-444e-b8d9-77e677483ad1",
   "metadata": {},
   "source": [
    "Jupyter Notebook поддерживает язык разметки Markdown. Это простой способ создания красиво выглядящих документов с небольшим количеством команд, которые нужно запомнить.\n",
    "Данный ноутбук офрмлен с использованием Markdown. \n",
    "В ноутбуке создано несколько ячеек: с markdown-разметкой и с кодом. В markdown-ячейке использован синтаксис для __полужирного текста__, _курсива_ и `monospace`.\n",
    "\n",
    "__Таким образом, весь этот ноутбук ответ на задание степа 1.__"
   ]
  },
  {
   "cell_type": "markdown",
   "id": "a71a7452-9c85-46dd-a8dc-2cb64c4345fd",
   "metadata": {},
   "source": [
    "## Задание 2 Ошибки в коде"
   ]
  },
  {
   "cell_type": "markdown",
   "id": "680e1c05-132a-4364-bb00-03ad949a3900",
   "metadata": {},
   "source": [
    "### _**Степ 2**_ `Фиксим баги в коде коллеги` \n",
    "Код из задания по поиску ошибок:"
   ]
  },
  {
   "cell_type": "code",
   "execution_count": 1,
   "id": "72c4b9b3-cdb9-4d2a-860f-863a88762ac1",
   "metadata": {},
   "outputs": [],
   "source": [
    "credit_payments = []"
   ]
  },
  {
   "cell_type": "code",
   "execution_count": 2,
   "id": "a4ac781f-609f-4cd1-9cbc-c90b4ba34a11",
   "metadata": {},
   "outputs": [
    {
     "name": "stdout",
     "output_type": "stream",
     "text": [
      "num_records    5\n",
      "value          7\n",
      "total          9\n",
      "dtype: int64\n",
      "1    1\n",
      "4    1\n",
      "Name: num_records, dtype: int64\n"
     ]
    },
    {
     "data": {
      "text/html": [
       "<div>\n",
       "<style scoped>\n",
       "    .dataframe tbody tr th:only-of-type {\n",
       "        vertical-align: middle;\n",
       "    }\n",
       "\n",
       "    .dataframe tbody tr th {\n",
       "        vertical-align: top;\n",
       "    }\n",
       "\n",
       "    .dataframe thead th {\n",
       "        text-align: right;\n",
       "    }\n",
       "</style>\n",
       "<table border=\"1\" class=\"dataframe\">\n",
       "  <thead>\n",
       "    <tr style=\"text-align: right;\">\n",
       "      <th></th>\n",
       "      <th>num_records</th>\n",
       "      <th>value</th>\n",
       "      <th>total</th>\n",
       "    </tr>\n",
       "  </thead>\n",
       "  <tbody>\n",
       "    <tr>\n",
       "      <th>0</th>\n",
       "      <td>1</td>\n",
       "      <td>2</td>\n",
       "      <td>3</td>\n",
       "    </tr>\n",
       "    <tr>\n",
       "      <th>1</th>\n",
       "      <td>4</td>\n",
       "      <td>5</td>\n",
       "      <td>6</td>\n",
       "    </tr>\n",
       "  </tbody>\n",
       "</table>\n",
       "</div>"
      ],
      "text/plain": [
       "   num_records  value  total\n",
       "0            1      2      3\n",
       "1            4      5      6"
      ]
     },
     "execution_count": 2,
     "metadata": {},
     "output_type": "execute_result"
    }
   ],
   "source": [
    "# OLD experiment. todo: remove it\n",
    "import pandas as pd\n",
    "\n",
    "\n",
    "df = pd.DataFrame(\n",
    "    [[1, 2, 3],\n",
    "    [4, 5, 6]],\n",
    "    columns=['num_records', 'value', 'total']\n",
    ")\n",
    "print(df.sum())\n",
    "\n",
    "print(df['num_records'].value_counts())\n",
    "\n",
    "df.head()"
   ]
  },
  {
   "cell_type": "code",
   "execution_count": 3,
   "id": "ad0e9f8b-fa55-4588-87c8-ae8e4d4a209d",
   "metadata": {},
   "outputs": [
    {
     "name": "stdout",
     "output_type": "stream",
     "text": [
      "0.025843381881713867\n",
      "1666.916662\n"
     ]
    }
   ],
   "source": [
    "import time\n",
    "\n",
    "start = time.time()\n",
    "# Исправим указанную в задании ошибку\n",
    "# credit_payments.append(5)\n",
    "for i in range(int(1e5)):\n",
    "    credit_payments.append((i % 7 + i // 3) / 1e6)\n",
    "\n",
    "end = time.time()\n",
    "print(end - start)\n",
    "print(sum(credit_payments))"
   ]
  },
  {
   "cell_type": "markdown",
   "id": "4d1b3d15-40c8-409f-a034-da7d9a2e9427",
   "metadata": {},
   "source": [
    "### _**Степ 3**_ `Пишем воспроизводимый код`\n",
    "\n",
    "Что можно сделать, чтобы после перезапуска последней ячейки всегда получился одинаковый результат?\n",
    "\n",
    "__Перенести credit_payments = [] в ячейку с циклом for.__ Таким образом, каждый раз в цикле будет очищаться `credit_payments` и результат будет одинаков."
   ]
  },
  {
   "cell_type": "markdown",
   "id": "d03a18bc-d56c-4fe5-8ebc-4c2b6f4ecf59",
   "metadata": {},
   "source": [
    "### _**Степ 4**_ `Строим графики`\n",
    "Код из задания (__не работает из-за ошибки, которую надо определить!__):"
   ]
  },
  {
   "cell_type": "code",
   "execution_count": 4,
   "id": "5f6a978e-2dcd-4f41-9bc3-2879da851d32",
   "metadata": {},
   "outputs": [
    {
     "ename": "NameError",
     "evalue": "name 'plt' is not defined",
     "output_type": "error",
     "traceback": [
      "\u001b[0;31m---------------------------------------------------------------------------\u001b[0m",
      "\u001b[0;31mNameError\u001b[0m                                 Traceback (most recent call last)",
      "\u001b[0;32m/tmp/ipykernel_294/1250214432.py\u001b[0m in \u001b[0;36m<module>\u001b[0;34m\u001b[0m\n\u001b[1;32m     13\u001b[0m     \u001b[0mres1\u001b[0m\u001b[0;34m.\u001b[0m\u001b[0mappend\u001b[0m\u001b[0;34m(\u001b[0m\u001b[0mp\u001b[0m\u001b[0;34m)\u001b[0m\u001b[0;34m\u001b[0m\u001b[0;34m\u001b[0m\u001b[0m\n\u001b[1;32m     14\u001b[0m \u001b[0;31m# рисуем графики на p-value (в модуле статистики узнаете, что это такое)\u001b[0m\u001b[0;34m\u001b[0m\u001b[0;34m\u001b[0m\u001b[0;34m\u001b[0m\u001b[0m\n\u001b[0;32m---> 15\u001b[0;31m \u001b[0m_\u001b[0m \u001b[0;34m=\u001b[0m \u001b[0mplt\u001b[0m\u001b[0;34m.\u001b[0m\u001b[0mhist\u001b[0m\u001b[0;34m(\u001b[0m\u001b[0mres1\u001b[0m\u001b[0;34m,\u001b[0m \u001b[0mbins\u001b[0m\u001b[0;34m=\u001b[0m\u001b[0;36m100\u001b[0m\u001b[0;34m)\u001b[0m\u001b[0;34m\u001b[0m\u001b[0;34m\u001b[0m\u001b[0m\n\u001b[0m",
      "\u001b[0;31mNameError\u001b[0m: name 'plt' is not defined"
     ]
    }
   ],
   "source": [
    "import numpy as np\n",
    "from scipy.stats import ttest_ind, mannwhitneyu\n",
    "\n",
    "res, res1 = [], []\n",
    "for i in range(int(1e4)):\n",
    "    # сгенерируем два массива из нормального распределения\n",
    "    sample_1 = np.random.normal(0.3, 3, size=int(1e3))\n",
    "    sample_2 = np.random.normal(0, 3, size=int(1e3))\n",
    "    # тест на гипотезу: а равны ли мат.ожидания? (0.3 против 0)\n",
    "    stat, p = ttest_ind(sample_1, sample_2)\n",
    "    #stat, p = mannwhitneyu(sample_1, sample_2)\n",
    "    res.append(stat)\n",
    "    res1.append(p)\n",
    "# рисуем графики на p-value (в модуле статистики узнаете, что это такое)\n",
    "_ = plt.hist(res1, bins=100)"
   ]
  },
  {
   "cell_type": "code",
   "execution_count": 5,
   "id": "c3150d3e-28a9-4279-a9e8-3cbf9f50f9ae",
   "metadata": {},
   "outputs": [
    {
     "data": {
      "image/png": "[encoded data removed]",
      "text/plain": [
       "<Figure size 432x288 with 1 Axes>"
      ]
     },
     "metadata": {
      "needs_background": "light"
     },
     "output_type": "display_data"
    }
   ],
   "source": [
    "import matplotlib.pyplot as plt\n",
    "# рисуем получающуюся статистику\n",
    "_ = plt.hist(res, bins=100)"
   ]
  },
  {
   "cell_type": "markdown",
   "id": "ba5ae3ca-4bbd-4f94-ba2d-4d4a343b5b1a",
   "metadata": {},
   "source": [
    "Данный код по построению графиков работает с ошибкой, т.к. в ячейке 4 используется библиотека, которая объявляется в следующей ячейке. А в ячейке 5 происходит обращение к `res`, которая пришла из 4 ячейки, что делает невозможным изменить порядок запуска ячеек. __`Решением здесь будет вставить обращение к matplotlib в начало 4 ячейки (т.е. вставить в начало к другим import'ам).`__"
   ]
  },
  {
   "cell_type": "markdown",
   "id": "dc26ed5e-cacc-484d-b33e-e6f145be987a",
   "metadata": {},
   "source": [
    "## Задание 3 Numpy"
   ]
  },
  {
   "cell_type": "markdown",
   "id": "d5f5b6e1-4b3d-4fbe-ab5e-1e34667f0a54",
   "metadata": {},
   "source": [
    "### _**Степ 5**_ `Применяем магические команды jupyter`\n",
    "\n",
    "Реализуем скалярное произведение двух векторов размера `1e5` через цикл `for` в ноутбуке и замерем скорость выполнения кода с использованием магической команды `%%timeit`. Используем для быстрой генерации вектора такой трюк: `vec1 = list(range(int(1e5)))`."
   ]
  },
  {
   "cell_type": "code",
   "execution_count": 6,
   "id": "bd1cee3d-8f6f-493f-b5db-d9cb2e6f3b51",
   "metadata": {},
   "outputs": [],
   "source": [
    "def scalar_product(vec1, vec2):\n",
    "    res = 0\n",
    "    for i in range(len(vec1)):\n",
    "        res += vec1[i]*vec2[i]\n",
    "    return res\n",
    "\n",
    "vec1 = list(range(int(1e5)))\n",
    "vec2 = list(range(int(1e5)))\n",
    "result = scalar_product(vec1, vec2)"
   ]
  },
  {
   "cell_type": "code",
   "execution_count": 7,
   "id": "9e99ca2f-dcad-49fa-83ed-b89e4bf4abb0",
   "metadata": {},
   "outputs": [
    {
     "name": "stdout",
     "output_type": "stream",
     "text": [
      "10.5 ms ± 296 µs per loop (mean ± std. dev. of 7 runs, 100 loops each)\n"
     ]
    }
   ],
   "source": [
    "%%timeit\n",
    "scalar_product(vec1, vec2)"
   ]
  },
  {
   "cell_type": "markdown",
   "id": "dc5c2331-379a-4f13-80a6-be9b1223d3df",
   "metadata": {},
   "source": [
    "### _**Степ 6**_ `Результат \"магического\" умножения`\n",
    "\n",
    "Какой порядок (т.е. число после e+...) имеет результат скалярного произведения двух векторов из предыдущего степа?"
   ]
  },
  {
   "cell_type": "code",
   "execution_count": 8,
   "id": "9e9ce74c-b3da-488e-9e0e-7446035c8fc7",
   "metadata": {},
   "outputs": [
    {
     "data": {
      "text/plain": [
       "'3.33e+14'"
      ]
     },
     "execution_count": 8,
     "metadata": {},
     "output_type": "execute_result"
    }
   ],
   "source": [
    "\"{:.2e}\".format(result)"
   ]
  },
  {
   "cell_type": "markdown",
   "id": "cd5085e9-bd44-4756-af60-9e4fbcf6921e",
   "metadata": {},
   "source": [
    "### _**Степ 7**_ `Замеряем время работы функций в Numpy`\n",
    "\n",
    "Теперь подключим библиотеку numpy, обернем списки, созданные на степе 5, в np.array(), затем воспользуемся встроенной функцией np.dot() для их скалярного произведения. Замерем время выполнения кода через %%timeit. Какое оно стало?"
   ]
  },
  {
   "cell_type": "code",
   "execution_count": 9,
   "id": "a30267bf-090c-4775-bfd2-659000b4db58",
   "metadata": {},
   "outputs": [],
   "source": [
    "import numpy as np\n",
    "\n",
    "vec1 = np.array(list(range(int(1e5))))\n",
    "vec2 = np.array(list(range(int(1e5))))"
   ]
  },
  {
   "cell_type": "code",
   "execution_count": 10,
   "id": "7445f0af-9b9c-424e-8443-d6276d221f57",
   "metadata": {},
   "outputs": [
    {
     "name": "stdout",
     "output_type": "stream",
     "text": [
      "101 µs ± 1.15 µs per loop (mean ± std. dev. of 7 runs, 10000 loops each)\n"
     ]
    }
   ],
   "source": [
    "%%timeit\n",
    "dot_product = np.dot(vec1, vec2)"
   ]
  },
  {
   "cell_type": "markdown",
   "id": "41fbc5a7-e09e-404f-9612-3a02cb543c6b",
   "metadata": {},
   "source": [
    "## Задание 4 Непонятная [*]"
   ]
  },
  {
   "cell_type": "markdown",
   "id": "cfce5590-3c0d-4783-bbbf-50325c79cdfc",
   "metadata": {},
   "source": [
    "### _**Степ 8**_ `Фиксим баги в коде коллеги [2]`\n",
    "\n",
    "Код из задания:"
   ]
  },
  {
   "cell_type": "code",
   "execution_count": 11,
   "id": "271bb87c-c8e4-4a8b-b8f0-2823636de430",
   "metadata": {},
   "outputs": [],
   "source": [
    "def gcd(a, b):\n",
    "    if a < b:\n",
    "        b, a = a, b\n",
    "    while a != 0: # --место исправления (изначально стояла переменная b)\n",
    "        a, b = a % b, b\n",
    "    print(a)"
   ]
  },
  {
   "cell_type": "code",
   "execution_count": 12,
   "id": "23165335-4302-4e90-a41f-c4e3acc4c301",
   "metadata": {},
   "outputs": [
    {
     "name": "stdout",
     "output_type": "stream",
     "text": [
      "0\n"
     ]
    }
   ],
   "source": [
    "gcd(121, 11) # запустим функцию выше на числах 121,11"
   ]
  },
  {
   "cell_type": "code",
   "execution_count": 13,
   "id": "9e153ccd-9b53-4d39-9091-4aa04788b6bb",
   "metadata": {},
   "outputs": [
    {
     "name": "stdout",
     "output_type": "stream",
     "text": [
      "success\n"
     ]
    }
   ],
   "source": [
    "print('success')"
   ]
  },
  {
   "cell_type": "markdown",
   "id": "a88a3f3c-e8f7-4807-8364-839d9739c758",
   "metadata": {},
   "source": [
    "Код выполнялся слишком долго из-за __ошибки в присваивании переменных a, b внутри цикла while__. После исправления (замена переменной b на a), все успешно отработало."
   ]
  }
 ],
 "metadata": {
  "kernelspec": {
   "display_name": "Python 3 (ipykernel)",
   "language": "python",
   "name": "python3"
  },
  "language_info": {
   "codemirror_mode": {
    "name": "ipython",
    "version": 3
   },
   "file_extension": ".py",
   "mimetype": "text/x-python",
   "name": "python",
   "nbconvert_exporter": "python",
   "pygments_lexer": "ipython3",
   "version": "3.8.10"
  }
 },
 "nbformat": 4,
 "nbformat_minor": 5
}
