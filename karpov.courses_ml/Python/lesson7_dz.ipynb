{
 "cells": [
  {
   "cell_type": "code",
   "execution_count": 4,
   "id": "99baf084-cb9a-4cec-ba18-7e5c428f2c8e",
   "metadata": {},
   "outputs": [],
   "source": [
    "'''\n",
    "Напишите класс Triangle, который будет иметь 3 поля: a, b, c (стороны треугольника) и n_dots = 3 (количество точек). \n",
    "Поле n_dots объявите на уровне класса, не в конструкторе — чтобы оно было доступно без создания объекта (т.е. работал вызов Triangle.n_dots). \n",
    "Добавьте в класс простой конструктор, принимающий на вход все три стороны и сохраняющий эти стороны в соответсвующие поля класса.\n",
    "\n",
    "Создайте объекты этого класса со следующими названиями: tr_1, tr_2 и любыми значениями длин сторон.\n",
    "'''\n",
    "class Triangle():\n",
    "    n_dots=3\n",
    "    def __init__(self, a,b,c):\n",
    "        self.a = a\n",
    "        self.b = b\n",
    "        self.c = c"
   ]
  },
  {
   "cell_type": "code",
   "execution_count": 10,
   "id": "ed970078-fd30-412c-bcc3-a9fd457a35e3",
   "metadata": {},
   "outputs": [],
   "source": [
    "tr_1 = Triangle(1, 2, 2.5)\n",
    "tr_2 = Triangle(3, 4, 4.5)"
   ]
  },
  {
   "cell_type": "code",
   "execution_count": 11,
   "id": "980ed4ab-87e1-4a8d-b5b0-89153bf62721",
   "metadata": {},
   "outputs": [
    {
     "data": {
      "text/plain": [
       "3"
      ]
     },
     "execution_count": 11,
     "metadata": {},
     "output_type": "execute_result"
    }
   ],
   "source": [
    "Triangle.n_dots"
   ]
  },
  {
   "cell_type": "code",
   "execution_count": 32,
   "id": "724f65b1-3d19-4cca-b55f-f5993de064e8",
   "metadata": {},
   "outputs": [],
   "source": [
    "'''\n",
    "Возьмите класс Triangle из предыдущего задания и добавьте метод area(), возвращающий площадь треугольника. \n",
    "Напомним, что при известных трех сторонах площадь треугольника можно подсчитать по формуле Герона: \n",
    "Затем поменяйте конструктор: он должен проверять, что выполнено неравенство треугольника - каждая сторона меньше  суммы двух других. \n",
    "Если это условие не выполнено, выбрасывайте ValueError с текстом \"triangle inequality does not hold\" (передайте эту строку в конструктор ValueError).\n",
    "\n",
    "Наконец, создайте два объекта данного класса с названиями tr_1 и tr_2 , в которых соблюдается неравенство треугольника. \n",
    "Также, сохраните в переменные square_1 и square_2 результаты вызовов методов .area() для объектов tr_1 и tr_2 соответственно.\n",
    "'''\n",
    "class Triangle():\n",
    "    n_dots=3\n",
    "    def __init__(self,a,b,c):\n",
    "        self.a = a\n",
    "        self.b = b\n",
    "        self.c = c\n",
    "        self.p = (a + b + c) / 2\n",
    "        if a + b <= c or a + c <= b or b + c <= a:\n",
    "            raise ValueError(\"triangle inequality does not hold\")\n",
    "        \n",
    "    def area(self):\n",
    "        return (self.p * (self.p - self.a) * (self.p - self.b) * (self.p - self.c)) ** 0.5"
   ]
  },
  {
   "cell_type": "code",
   "execution_count": 33,
   "id": "3947e432-e3d5-4ef7-8b60-e538b600a6a1",
   "metadata": {},
   "outputs": [],
   "source": [
    "tr_1 = Triangle(3, 4, 5)\n",
    "tr_2 = Triangle(5, 7, 9)"
   ]
  },
  {
   "cell_type": "code",
   "execution_count": 35,
   "id": "ac1ca1d7-dca6-4236-b831-7a1042baaa25",
   "metadata": {},
   "outputs": [],
   "source": [
    "square_1 = tr_1.area()\n",
    "square_2 = tr_2.area()"
   ]
  },
  {
   "cell_type": "code",
   "execution_count": 36,
   "id": "478d62b1-8c08-4e74-b9de-85cbe65571a4",
   "metadata": {},
   "outputs": [],
   "source": [
    "'''\n",
    "Создайте класс Rectangle (прямоугольник), который будет наследоваться от класса Triangle. Сделайте так, чтобы area(), конструктор и поле n_dots были верными. А именно:\n",
    "\n",
    "- Конструктор должен принимать 2 стороны: a, b\n",
    "- area() должен считать площадь как произведение смежных сторон: S=ab\n",
    "- Неравенство треугольника не нужно проверять.\n",
    "- n_dots должен быть объявлен на уровне класса и равняться 4.\n",
    "\n",
    "Отправьте реализацию класса Rectangle в LMS. Класс Triangle отправлять не нужно.\n",
    "'''\n",
    "'''\n",
    "class Triangle():\n",
    "    n_dots=3\n",
    "    def __init__(self,a,b,c):\n",
    "        self.a = a\n",
    "        self.b = b\n",
    "        self.c = c\n",
    "        self.p = (a + b + c) / 2\n",
    "        if a + b <= c or a + c <= b or b + c <= a:\n",
    "            raise ValueError(\"triangle inequality does not hold\")\n",
    "        \n",
    "    def area(self):\n",
    "        return (self.p * (self.p - self.a) * (self.p - self.b) * (self.p - self.c)) ** 0.5\n",
    "'''\n",
    "class Rectangle(Triangle):\n",
    "    n_dots = 4\n",
    "    def __init__(self, a, b):\n",
    "        super().__init__(a, b, (a ** 2 + b ** 2) ** 0.5)\n",
    "\n",
    "    def area(self):\n",
    "        return self.a * self.b"
   ]
  },
  {
   "cell_type": "code",
   "execution_count": 39,
   "id": "d00705d8-dc03-4ed3-88ae-e41bcf9a95aa",
   "metadata": {},
   "outputs": [
    {
     "name": "stdout",
     "output_type": "stream",
     "text": [
      "12\n"
     ]
    }
   ],
   "source": [
    "# Проверка\n",
    "rect_1 = Rectangle(3, 4)\n",
    "square_r1 = rect_1.area()\n",
    "print(square_r1)"
   ]
  },
  {
   "cell_type": "code",
   "execution_count": 40,
   "id": "70a9cfec-f9f3-47a3-975d-baead259ed38",
   "metadata": {},
   "outputs": [],
   "source": [
    "'''\n",
    "Вы, наверно, заметили, что при наследовании в прошлом задании мы переписали почти всю логику. Это плохо: при наследовании нужно расширять класс, а не переписывать его.\n",
    "\n",
    "Но все же хочется использовать наследование, ведь треугольники и прямоугольники имеют общие свойства:\n",
    "\n",
    "1) Оба характеризуются количеством точек n_dots.\n",
    "2) Оба имеют метод area().\n",
    "3) Оба имеют проверки на валидность данных. \n",
    "В случае прямоугольника это было равенство противоположных сторон, которое мы пропустили благодаря трюку: \n",
    "вместо принятия четырех сторон a, b, c, d на вход мы принимали две и далее держали в уме a=c, b=d. \n",
    "В случае треугольника это было неравенство треугольника.\n",
    "\n",
    "Тут нам поможет создание некой \"базовой фигуры\". \n",
    "Это будет сборник общих свойств, который сам по себе не будет представлять никакую фигуру, но послужит хорошим плацдармом для следующих классов.\n",
    "\n",
    "Напишите класс BaseFigure, который имеет поле класса (т.е. на уровне класса) n_dots = None, метод area() \"без реализации\", метод validate() \"без реализации\". \n",
    "Сделайте так, чтобы методы \"без реализации\" выбрасывали исключение NotImplementedError при их вызове и ничего другого не делали. \n",
    "Создайте также конструктор класса, который не принимает дополнительных аргументов и в реализации только лишь вызывает self.validate().\n",
    "'''\n",
    "class BaseFigure():\n",
    "    n_dots = None\n",
    "    \n",
    "    def __init__(self):\n",
    "        self.validate()\n",
    "    \n",
    "    def area(self):\n",
    "        raise NotImplementedError\n",
    "    \n",
    "    def validate(self):    \n",
    "        raise NotImplementedError"
   ]
  },
  {
   "cell_type": "code",
   "execution_count": 41,
   "id": "d6de8292-b50a-4de2-abaf-d2f9e8fcdd6f",
   "metadata": {},
   "outputs": [],
   "source": [
    "'''\n",
    "Перепишите классы Triangle, Rectangle так, чтобы они наследовались от BaseFigure. Затем уберите реализацию всех методов и конструкторов в классах-потомках.\n",
    "\n",
    "Есть ли у Triangle, Rectangle методы area, validate? Если есть, то что они возвращают при вызове?\n",
    "'''\n",
    "class BaseFigure:\n",
    "    pass\n",
    "\n",
    "class Triangle(BaseFigure):\n",
    "    pass\n",
    "\n",
    "class Rectangle(BaseFigure):\n",
    "    pass"
   ]
  },
  {
   "cell_type": "code",
   "execution_count": 56,
   "id": "eba13ffb-abad-488b-9348-472d5fc9845e",
   "metadata": {},
   "outputs": [],
   "source": [
    "'''\n",
    "Возьмите классы Triangle и Rectangle из прошлого задания.\n",
    "\n",
    "Переопределите метод area в каждом случае.\n",
    "\n",
    "Переопределите конструктор в каждом случае (число аргументов тоже меняется). Не забудьте в конструкторе дочернего класса вызвать конструктор родительского класса!\n",
    "\n",
    "Переопределите метод validate в каждом случае. Метод validate должен принимать только аргумент self и использовать созданные в конструкторе переменные. \n",
    "Для этого вы можете сначала сохранять в конструкторе входные данные в self.переменная, а затем вызывать конструктор суперкласса. \n",
    "\n",
    "Для Triangle данный метод должен проверять неравенство треугольника и выбрасывать ошибку ValueError(\"triangle inequality does not hold\") либо возвращать значения сторон. \n",
    "\n",
    "Для Rectangle данный метод должен возвращать значения сторон.\n",
    "\n",
    "В итоге вы получите два класса, которые построены по схожему шаблону. Этот общий шаблон был задан в классе BaseFigure. \n",
    "Создайте несколько объектов этих классов и попробуйте вызвать у них .area(), .validate(). \n",
    "Если вы пользуетесь IDE, то увидите интерактивные подсказки: она скажет, что такие методы есть и что эти методы перегружают (overload) методы из родительского класса. \n",
    "При этом вызов методов будет работать коррректно.\n",
    "\n",
    "Загрузите в LMS реализацию классов Triangle, Rectangle. Используйте для отступов 4 пробела. ОБРАТИТЕ ВНИМАНИЕ, что реализацию класса BaseFigure загружать не надо.\n",
    "'''\n",
    "class BaseFigure:\n",
    "    n_dots = None\n",
    "    def area(self):\n",
    "        raise NotImplemented()\n",
    "\n",
    "    def validate(self):\n",
    "        raise NotImplemented()\n",
    "\n",
    "    def __init__(self):\n",
    "        self.validate()\n",
    "\n",
    "class Triangle(BaseFigure):\n",
    "    n_dots=3\n",
    "    def __init__(self,a,b,c):\n",
    "        self.a = a\n",
    "        self.b = b\n",
    "        self.c = c\n",
    "        self.p = (a + b + c) / 2\n",
    "        super().__init__()  \n",
    "        \n",
    "    def validate(self):\n",
    "        if self.a + self.b <= self.c or self.a + self.c <= self.b or self.b + self.c <= self.a:\n",
    "            raise ValueError(\"triangle inequality does not hold\")\n",
    "          \n",
    "    def area(self):\n",
    "        return (self.p * (self.p - self.a) * (self.p - self.b) * (self.p - self.c)) ** 0.5\n",
    "\n",
    "class Rectangle(BaseFigure):\n",
    "    n_dots = 4\n",
    "    def __init__(self, a, b):\n",
    "        self.a = a\n",
    "        self.b = b\n",
    "        super().__init__()\n",
    "        \n",
    "    def validate(self):\n",
    "        return (self.a, self.b)\n",
    "\n",
    "    def area(self):\n",
    "        return self.a * self.b\n"
   ]
  },
  {
   "cell_type": "code",
   "execution_count": 57,
   "id": "9367c4eb-598c-412f-9c45-bca376681110",
   "metadata": {},
   "outputs": [
    {
     "name": "stdout",
     "output_type": "stream",
     "text": [
      "17.41228014936585\n",
      "None\n",
      "10\n",
      "(2, 5)\n"
     ]
    }
   ],
   "source": [
    "triangle = Triangle(5, 7, 9)\n",
    "print(triangle.area()) \n",
    "print(triangle.validate()) \n",
    "\n",
    "rectangle = Rectangle(2, 5)\n",
    "print(rectangle.area()) \n",
    "print(rectangle.validate())"
   ]
  },
  {
   "cell_type": "code",
   "execution_count": 62,
   "id": "dfbc76c2-81ca-4cda-977c-5606940bd71c",
   "metadata": {},
   "outputs": [],
   "source": [
    "'''\n",
    "Попробуем собрать совершенно новый класс, используя BaseFigure в качестве шаблона.\n",
    "\n",
    "Напишите класс Circle, в котором в качестве n_dots будет float('inf'), area будет считаться как 3.14 * r^2, а конструктор будет принимать только один аргумент - r. \n",
    "Метод validate не должен принимать никаких аргументов и не должен осуществлять никаких проверок.\n",
    "\n",
    "Отправьте в LMS реализацию этого класса. Отправлять реализацию BaseFigure не нужно.\n",
    "'''\n",
    "class Circle(BaseFigure):\n",
    "    n_dots = float('inf')\n",
    "    def __init__(self, r):\n",
    "        self.r = r\n",
    "        super().__init__()\n",
    "\n",
    "    def area(self):\n",
    "        return 3.14 * self.r ** 2\n",
    "\n",
    "    def validate(self):\n",
    "        pass"
   ]
  },
  {
   "cell_type": "code",
   "execution_count": 155,
   "id": "8944b381-5aa5-43a5-8700-66a3f3607f08",
   "metadata": {},
   "outputs": [],
   "source": [
    "'''\n",
    "Напишите класс Vector, который на вход будет принимать список координат (x1,…,xn). Положите все координаты вектора в список self.coords.\n",
    "\n",
    "Добейтесь того, чтобы объекты класса Vector можно было складывать через оператор + и получать на выходе тоже объект этого же класса. Например:\n",
    "\n",
    "# Будет работать\n",
    "Vector([1, 2, 3]) + Vector((2, 3, 4)) # даст Vector([3, 5, 7])\n",
    "\n",
    "# НЕ будет работать\n",
    "Vector([1, 2]) + Vector([1, 2, 3])  # нельзя складывать векторы разной длины\n",
    "# Должно возвращать ошибку (сообщение тоже!)\n",
    "# ValueError: left and right lengths differ: 2 != 3\n",
    "'''\n",
    "class Vector:\n",
    "    def __init__(self,coords):\n",
    "        self.coords=coords\n",
    "        \n",
    "    def __add__(self,other):\n",
    "        new_coords=[]\n",
    "        if len(self.coords) != len(other.coords):\n",
    "            raise ValueError(f'left and right lengths differ: {len(self.coords)} != {len(other.coords)}')\n",
    "        for i in range(len(self.coords)):\n",
    "            new_coords.append(self.coords[i] + other.coords[i])\n",
    "        return Vector(new_coords)    "
   ]
  },
  {
   "cell_type": "code",
   "execution_count": 156,
   "id": "cba73670-b75e-45fd-93e6-87626b1c464d",
   "metadata": {},
   "outputs": [
    {
     "data": {
      "text/plain": [
       "<__main__.Vector at 0x7fa77414cf70>"
      ]
     },
     "execution_count": 156,
     "metadata": {},
     "output_type": "execute_result"
    }
   ],
   "source": [
    "Vector([1, 2, 3]) + Vector((2, 3, 4))"
   ]
  },
  {
   "cell_type": "code",
   "execution_count": 157,
   "id": "a0a1961a-499f-4da4-9bd1-b688910a63e1",
   "metadata": {},
   "outputs": [
    {
     "ename": "ValueError",
     "evalue": "left and right lengths differ: 2 != 3",
     "output_type": "error",
     "traceback": [
      "\u001b[0;31m---------------------------------------------------------------------------\u001b[0m",
      "\u001b[0;31mValueError\u001b[0m                                Traceback (most recent call last)",
      "\u001b[0;32m/tmp/ipykernel_63/3222591718.py\u001b[0m in \u001b[0;36m<module>\u001b[0;34m\u001b[0m\n\u001b[0;32m----> 1\u001b[0;31m \u001b[0mVector\u001b[0m\u001b[0;34m(\u001b[0m\u001b[0;34m[\u001b[0m\u001b[0;36m1\u001b[0m\u001b[0;34m,\u001b[0m \u001b[0;36m2\u001b[0m\u001b[0;34m]\u001b[0m\u001b[0;34m)\u001b[0m \u001b[0;34m+\u001b[0m \u001b[0mVector\u001b[0m\u001b[0;34m(\u001b[0m\u001b[0;34m[\u001b[0m\u001b[0;36m1\u001b[0m\u001b[0;34m,\u001b[0m \u001b[0;36m2\u001b[0m\u001b[0;34m,\u001b[0m \u001b[0;36m3\u001b[0m\u001b[0;34m]\u001b[0m\u001b[0;34m)\u001b[0m\u001b[0;34m\u001b[0m\u001b[0;34m\u001b[0m\u001b[0m\n\u001b[0m",
      "\u001b[0;32m/tmp/ipykernel_63/2865286238.py\u001b[0m in \u001b[0;36m__add__\u001b[0;34m(self, other)\u001b[0m\n\u001b[1;32m     19\u001b[0m         \u001b[0mnew_coords\u001b[0m\u001b[0;34m=\u001b[0m\u001b[0;34m[\u001b[0m\u001b[0;34m]\u001b[0m\u001b[0;34m\u001b[0m\u001b[0;34m\u001b[0m\u001b[0m\n\u001b[1;32m     20\u001b[0m         \u001b[0;32mif\u001b[0m \u001b[0mlen\u001b[0m\u001b[0;34m(\u001b[0m\u001b[0mself\u001b[0m\u001b[0;34m.\u001b[0m\u001b[0mcoords\u001b[0m\u001b[0;34m)\u001b[0m \u001b[0;34m!=\u001b[0m \u001b[0mlen\u001b[0m\u001b[0;34m(\u001b[0m\u001b[0mother\u001b[0m\u001b[0;34m.\u001b[0m\u001b[0mcoords\u001b[0m\u001b[0;34m)\u001b[0m\u001b[0;34m:\u001b[0m\u001b[0;34m\u001b[0m\u001b[0;34m\u001b[0m\u001b[0m\n\u001b[0;32m---> 21\u001b[0;31m             \u001b[0;32mraise\u001b[0m \u001b[0mValueError\u001b[0m\u001b[0;34m(\u001b[0m\u001b[0;34mf'left and right lengths differ: {len(self.coords)} != {len(other.coords)}'\u001b[0m\u001b[0;34m)\u001b[0m\u001b[0;34m\u001b[0m\u001b[0;34m\u001b[0m\u001b[0m\n\u001b[0m\u001b[1;32m     22\u001b[0m         \u001b[0;32mfor\u001b[0m \u001b[0mi\u001b[0m \u001b[0;32min\u001b[0m \u001b[0mrange\u001b[0m\u001b[0;34m(\u001b[0m\u001b[0mlen\u001b[0m\u001b[0;34m(\u001b[0m\u001b[0mself\u001b[0m\u001b[0;34m.\u001b[0m\u001b[0mcoords\u001b[0m\u001b[0;34m)\u001b[0m\u001b[0;34m)\u001b[0m\u001b[0;34m:\u001b[0m\u001b[0;34m\u001b[0m\u001b[0;34m\u001b[0m\u001b[0m\n\u001b[1;32m     23\u001b[0m             \u001b[0mnew_coords\u001b[0m\u001b[0;34m.\u001b[0m\u001b[0mappend\u001b[0m\u001b[0;34m(\u001b[0m\u001b[0mself\u001b[0m\u001b[0;34m.\u001b[0m\u001b[0mcoords\u001b[0m\u001b[0;34m[\u001b[0m\u001b[0mi\u001b[0m\u001b[0;34m]\u001b[0m \u001b[0;34m+\u001b[0m \u001b[0mother\u001b[0m\u001b[0;34m.\u001b[0m\u001b[0mcoords\u001b[0m\u001b[0;34m[\u001b[0m\u001b[0mi\u001b[0m\u001b[0;34m]\u001b[0m\u001b[0;34m)\u001b[0m\u001b[0;34m\u001b[0m\u001b[0;34m\u001b[0m\u001b[0m\n",
      "\u001b[0;31mValueError\u001b[0m: left and right lengths differ: 2 != 3"
     ]
    }
   ],
   "source": [
    "Vector([1, 2]) + Vector([1, 2, 3])"
   ]
  },
  {
   "cell_type": "code",
   "execution_count": 167,
   "id": "e1579cd9-87f0-472a-b7fa-eec2ed7fb0db",
   "metadata": {},
   "outputs": [],
   "source": [
    "'''\n",
    "Добавим могущества нашему вектору.\n",
    "\n",
    "Добавьте методу красивый вывод при передаче его в print(...). Пример:\n",
    "\n",
    "print(Vector([1, 2, 3]))\n",
    "# Напечатает: \"[1, 2, 3]\" без кавычек\n",
    "\n",
    "vec = Vector([1])\n",
    "print(vec)\n",
    "# Напечатает \"[1]\" без кавычек\n",
    "\n",
    "'''\n",
    "class Vector:\n",
    "    def __init__(self,coords):\n",
    "        self.coords=coords\n",
    "        \n",
    "    def __add__(self,other):\n",
    "        new_coords=[]\n",
    "        if len(self.coords) != len(other.coords):\n",
    "            raise ValueError(f'left and right lengths differ: {len(self.coords)} != {len(other.coords)}')\n",
    "        for i in range(len(self.coords)):\n",
    "            new_coords.append(self.coords[i] + other.coords[i])\n",
    "        return Vector(new_coords)       \n",
    "    \n",
    "    def __repr__(self):\n",
    "        return f'{self.coords}'\n"
   ]
  },
  {
   "cell_type": "code",
   "execution_count": 168,
   "id": "8bb18e62-0c33-4256-9a22-d9a2b3acf28c",
   "metadata": {},
   "outputs": [
    {
     "name": "stdout",
     "output_type": "stream",
     "text": [
      "[1, 2, 3]\n"
     ]
    }
   ],
   "source": [
    "print(Vector([1, 2, 3]))"
   ]
  },
  {
   "cell_type": "code",
   "execution_count": 169,
   "id": "97813833-3f1a-4d15-9ce7-6f0f5e08ddb0",
   "metadata": {},
   "outputs": [
    {
     "name": "stdout",
     "output_type": "stream",
     "text": [
      "[1]\n"
     ]
    }
   ],
   "source": [
    "vec = Vector([1])\n",
    "print(vec)"
   ]
  },
  {
   "cell_type": "code",
   "execution_count": 271,
   "id": "973d5186-730a-4a83-868d-c992d7ea44b1",
   "metadata": {},
   "outputs": [],
   "source": [
    "'''\n",
    "Продолжаем улучшать вектор. Добавьте в класс возможность умножать вектор на вектор и вектор на число. Не забудьте сохранять координаты вектора в self.coords.\n",
    "\n",
    "Vector([1, 2, 3]) * Vector([2, 5, -2])  # даст 6\n",
    "# 1 * 2 + 2 * 5 + 3 * (-2) = 6\n",
    "\n",
    "Vector([1, 2]) * Vector([2, 3, 4])\n",
    "# ValueError: left and right lengths differ: 2 != 3\n",
    "\n",
    "Vector([2, 3, 5, 8]) * 5  # даст Vector([10, 15, 25, 40])\n",
    "\n",
    "Для проверки типов используйте isinstance(object, class).\n",
    "'''\n",
    "class Vector:\n",
    "    def __init__(self,coords):\n",
    "        self.coords=coords\n",
    "        \n",
    "    def __add__(self,other):\n",
    "        new_coords=[]\n",
    "        if len(self.coords) != len(other.coords):\n",
    "            raise ValueError(f'left and right lengths differ: {len(self.coords)} != {len(other.coords)}')\n",
    "        for i in range(len(self.coords)):\n",
    "            new_coords.append(self.coords[i] + other.coords[i])\n",
    "        return Vector(new_coords)       \n",
    "\n",
    "    def __mul__(self, other):\n",
    "        new_coords=[]\n",
    "        if isinstance(other, Vector):\n",
    "            if len(self.coords) != len(other.coords):\n",
    "                raise ValueError(f'left and right lengths differ: {len(self.coords)} != {len(other.coords)}')\n",
    "            result=0\n",
    "            for i in range(len(self.coords)):\n",
    "                new_coords.append(self.coords[i] * other.coords[i])  \n",
    "                result+= new_coords[i]   \n",
    "            return result\n",
    "        \n",
    "        elif isinstance(other, (int, float)):\n",
    "            for i in range(len(self.coords)):\n",
    "                new_coords.append(self.coords[i] * other)\n",
    "            return Vector(new_coords)       \n",
    "\n",
    "    #def __repr__(self):\n",
    "    #    return f'{self.coords}'\n",
    "    \n",
    "    def __str__(self):\n",
    "        return \"[\"+\", \".join(map(str, self.coords))+\"]\"\n"
   ]
  },
  {
   "cell_type": "code",
   "execution_count": 288,
   "id": "d3c2d6f3-d51d-408d-8386-afa6ec69276f",
   "metadata": {},
   "outputs": [
    {
     "data": {
      "text/plain": [
       "<__main__.Vector at 0x7fa7647b8400>"
      ]
     },
     "execution_count": 288,
     "metadata": {},
     "output_type": "execute_result"
    }
   ],
   "source": [
    "Vector([2, 3, 5, 8]) * 5"
   ]
  },
  {
   "cell_type": "code",
   "execution_count": 289,
   "id": "ecf52cd5-a365-48c8-a03a-24ea05fcca91",
   "metadata": {},
   "outputs": [
    {
     "data": {
      "text/plain": [
       "6"
      ]
     },
     "execution_count": 289,
     "metadata": {},
     "output_type": "execute_result"
    }
   ],
   "source": [
    "Vector([1, 2, 3]) * Vector([2, 5, -2])"
   ]
  },
  {
   "cell_type": "code",
   "execution_count": 290,
   "id": "a7526039-6f49-46a9-8be3-133ac542b97e",
   "metadata": {},
   "outputs": [
    {
     "ename": "ValueError",
     "evalue": "left and right lengths differ: 2 != 3",
     "output_type": "error",
     "traceback": [
      "\u001b[0;31m---------------------------------------------------------------------------\u001b[0m",
      "\u001b[0;31mValueError\u001b[0m                                Traceback (most recent call last)",
      "\u001b[0;32m/tmp/ipykernel_63/1304668719.py\u001b[0m in \u001b[0;36m<module>\u001b[0;34m\u001b[0m\n\u001b[0;32m----> 1\u001b[0;31m \u001b[0mVector\u001b[0m\u001b[0;34m(\u001b[0m\u001b[0;34m[\u001b[0m\u001b[0;36m1\u001b[0m\u001b[0;34m,\u001b[0m \u001b[0;36m2\u001b[0m\u001b[0;34m]\u001b[0m\u001b[0;34m)\u001b[0m \u001b[0;34m*\u001b[0m \u001b[0mVector\u001b[0m\u001b[0;34m(\u001b[0m\u001b[0;34m[\u001b[0m\u001b[0;36m2\u001b[0m\u001b[0;34m,\u001b[0m \u001b[0;36m3\u001b[0m\u001b[0;34m,\u001b[0m \u001b[0;36m4\u001b[0m\u001b[0;34m]\u001b[0m\u001b[0;34m)\u001b[0m\u001b[0;34m\u001b[0m\u001b[0;34m\u001b[0m\u001b[0m\n\u001b[0m",
      "\u001b[0;32m/tmp/ipykernel_63/323533810.py\u001b[0m in \u001b[0;36m__mul__\u001b[0;34m(self, other)\u001b[0m\n\u001b[1;32m     29\u001b[0m         \u001b[0;32mif\u001b[0m \u001b[0misinstance\u001b[0m\u001b[0;34m(\u001b[0m\u001b[0mother\u001b[0m\u001b[0;34m,\u001b[0m \u001b[0mVector\u001b[0m\u001b[0;34m)\u001b[0m\u001b[0;34m:\u001b[0m\u001b[0;34m\u001b[0m\u001b[0;34m\u001b[0m\u001b[0m\n\u001b[1;32m     30\u001b[0m             \u001b[0;32mif\u001b[0m \u001b[0mlen\u001b[0m\u001b[0;34m(\u001b[0m\u001b[0mself\u001b[0m\u001b[0;34m.\u001b[0m\u001b[0mcoords\u001b[0m\u001b[0;34m)\u001b[0m \u001b[0;34m!=\u001b[0m \u001b[0mlen\u001b[0m\u001b[0;34m(\u001b[0m\u001b[0mother\u001b[0m\u001b[0;34m.\u001b[0m\u001b[0mcoords\u001b[0m\u001b[0;34m)\u001b[0m\u001b[0;34m:\u001b[0m\u001b[0;34m\u001b[0m\u001b[0;34m\u001b[0m\u001b[0m\n\u001b[0;32m---> 31\u001b[0;31m                 \u001b[0;32mraise\u001b[0m \u001b[0mValueError\u001b[0m\u001b[0;34m(\u001b[0m\u001b[0;34mf'left and right lengths differ: {len(self.coords)} != {len(other.coords)}'\u001b[0m\u001b[0;34m)\u001b[0m\u001b[0;34m\u001b[0m\u001b[0;34m\u001b[0m\u001b[0m\n\u001b[0m\u001b[1;32m     32\u001b[0m             \u001b[0mresult\u001b[0m\u001b[0;34m=\u001b[0m\u001b[0;36m0\u001b[0m\u001b[0;34m\u001b[0m\u001b[0;34m\u001b[0m\u001b[0m\n\u001b[1;32m     33\u001b[0m             \u001b[0;32mfor\u001b[0m \u001b[0mi\u001b[0m \u001b[0;32min\u001b[0m \u001b[0mrange\u001b[0m\u001b[0;34m(\u001b[0m\u001b[0mlen\u001b[0m\u001b[0;34m(\u001b[0m\u001b[0mself\u001b[0m\u001b[0;34m.\u001b[0m\u001b[0mcoords\u001b[0m\u001b[0;34m)\u001b[0m\u001b[0;34m)\u001b[0m\u001b[0;34m:\u001b[0m\u001b[0;34m\u001b[0m\u001b[0;34m\u001b[0m\u001b[0m\n",
      "\u001b[0;31mValueError\u001b[0m: left and right lengths differ: 2 != 3"
     ]
    }
   ],
   "source": [
    "Vector([1, 2]) * Vector([2, 3, 4])"
   ]
  },
  {
   "cell_type": "code",
   "execution_count": 281,
   "id": "327803a6-bf9d-4e74-bd93-9a2398f4be25",
   "metadata": {},
   "outputs": [],
   "source": [
    "'''\n",
    "Последние штрихи для нашего вектора.\n",
    "\n",
    "Добавьте в класс возможности сравнивать два вектора между собой и считать abs (это длина вектора, в Евклидовой метрике).\n",
    "\n",
    "abs(Vector([-12, 5]))  # Должно быть 13\n",
    "\n",
    "Vector([1, 3, 5]) == Vector([1])  # False\n",
    "Vector([1, 3, 5]) == Vector([-1, 3, 5])  # False\n",
    "Vector([1, 3, 5]) == Vector([1, 3, 5])  # True\n",
    "\n",
    "\n",
    "По итогу мы получим вектора, которые можно складывать, умножать, печатать, считать длину и сравнивать на равенство друг с другом.\n",
    "'''\n",
    "class Vector:\n",
    "    def __init__(self,coords):\n",
    "        self.coords=coords\n",
    "        \n",
    "    def __add__(self,other):\n",
    "        new_coords=[]\n",
    "        if len(self.coords) != len(other.coords):\n",
    "            raise ValueError(f'left and right lengths differ: {len(self.coords)} != {len(other.coords)}')\n",
    "        for i in range(len(self.coords)):\n",
    "            new_coords.append(self.coords[i] + other.coords[i])\n",
    "        return Vector(new_coords)       \n",
    "\n",
    "    def __mul__(self, other):\n",
    "        new_coords=[]\n",
    "        if isinstance(other, Vector):\n",
    "            if len(self.coords) != len(other.coords):\n",
    "                raise ValueError(f'left and right lengths differ: {len(self.coords)} != {len(other.coords)}')\n",
    "            result=0\n",
    "            for i in range(len(self.coords)):\n",
    "                new_coords.append(self.coords[i] * other.coords[i])  \n",
    "                result+= new_coords[i]   \n",
    "            return result\n",
    "        \n",
    "        elif isinstance(other, (int, float)):\n",
    "            for i in range(len(self.coords)):\n",
    "                new_coords.append(self.coords[i] * other)\n",
    "            return Vector(new_coords)       \n",
    "    \n",
    "    def __abs__(self):\n",
    "        #return int((sum([x**2 for x in self.coords]))**0.5)\n",
    "        sum_squares = 0\n",
    "        for i in self.coords:\n",
    "            sum_squares += i ** 2\n",
    "        return int(sum_squares ** 0.5)\n",
    "    \n",
    "    def __eq__(self,other):\n",
    "        if len(self.coords) != len(other.coords):\n",
    "            return False\n",
    "        else:\n",
    "            for i in range(len(self.coords)):\n",
    "                if self.coords[i] != other.coords[i]:\n",
    "                    return False\n",
    "        return True\n",
    "    \n",
    "    def __str__(self):\n",
    "        return \"[\"+\", \".join(map(str, self.coords))+\"]\""
   ]
  },
  {
   "cell_type": "code",
   "execution_count": 284,
   "id": "5859f496-6cc2-4a62-9769-1d74044f72b0",
   "metadata": {},
   "outputs": [
    {
     "data": {
      "text/plain": [
       "13"
      ]
     },
     "execution_count": 284,
     "metadata": {},
     "output_type": "execute_result"
    }
   ],
   "source": [
    "abs(Vector([-12, 5]))  # Должно быть 13"
   ]
  },
  {
   "cell_type": "code",
   "execution_count": 285,
   "id": "0c3782d8-7803-4703-9883-cac072998dd8",
   "metadata": {},
   "outputs": [
    {
     "data": {
      "text/plain": [
       "False"
      ]
     },
     "execution_count": 285,
     "metadata": {},
     "output_type": "execute_result"
    }
   ],
   "source": [
    "Vector([1, 3, 5]) == Vector([1])  # False"
   ]
  },
  {
   "cell_type": "code",
   "execution_count": 286,
   "id": "83f4021c-8957-4e52-84d1-6a4ce02f0670",
   "metadata": {},
   "outputs": [
    {
     "data": {
      "text/plain": [
       "False"
      ]
     },
     "execution_count": 286,
     "metadata": {},
     "output_type": "execute_result"
    }
   ],
   "source": [
    "Vector([1, 3, 5]) == Vector([-1, 3, 5])  # False"
   ]
  },
  {
   "cell_type": "code",
   "execution_count": 287,
   "id": "0f5146c3-e71e-47cb-8305-698c776c1753",
   "metadata": {},
   "outputs": [
    {
     "data": {
      "text/plain": [
       "True"
      ]
     },
     "execution_count": 287,
     "metadata": {},
     "output_type": "execute_result"
    }
   ],
   "source": [
    "Vector([1, 3, 5]) == Vector([1, 3, 5])  # True"
   ]
  },
  {
   "cell_type": "code",
   "execution_count": 309,
   "id": "60bd31eb-6b75-4b1a-bf29-0e9d7231ccbe",
   "metadata": {},
   "outputs": [],
   "source": [
    "'''\n",
    "Попробуем сделать множественное наследование аккуратно и так, как его обычно делают в популярных библиотеках.\n",
    "\n",
    "Обычно множественное наследование используют в т.н. Mixins. Mixin (рус. миксины) - это класс, не имеющий полей и имеющий один или более не абстрактных методов (т.е. методов с реализацией). Обычно миксины используют для того, чтобы модульно раздавать различные функциональности различным объектам.\n",
    "\n",
    "В лекции был пример с Connectable и PostgresqlConnection. Connectable как раз был одной из Mixin.\n",
    "\n",
    "Вас перевели из тех.директора сложного проекта в бекенд-разработчика. Встала задача разработать класс, которому на вход будет приходить разобранный запрос от пользователя. Запрос имеет вид:\n",
    "\n",
    "# будет приходить запрос в виде словаря\n",
    "request = {\n",
    "  \"cookies\": {key_1: value_1, key_2: value_2, ...},\n",
    "  \"body\": \"a long time ago, in a Galaxy far, far away\",\n",
    "  \"headers\": {\"content-type\": \"application/json\", \"Accept\": \"application/json\"}\n",
    "}\n",
    "\n",
    "# и этот словарь будет передаваться в конструктор класса\n",
    "handler = Handler(request)\n",
    "\n",
    "\n",
    "Разным классам в приложении потребуется разная функциональность: кому-то потребуется проверять, есть ли в headers ключ \"Accept\", \n",
    "кому-то потребуется читать body, а кому-то понадобится проверять пустоту cookies. Будут и классы, которым потребуется несколько возможностей сразу.\n",
    "\n",
    "Напишите классы ParsesCookies, ParsesBody, ParsesHeaders по условиям:\n",
    "\n",
    "Класс ParsesCookies имеет метод cookies(), возвращающий все по ключу cookies из словаря self.request.\n",
    "Класс ParsesCookies имеет метод is_authed(), который будет проверять, что в словаре cookies будет ключ auth_key (ни в коем случае не используйте такую авторизацию в реальных проектах).\n",
    "Класс ParsesBody имеет метод body(), возвращающий текст по ключу body в self.request.\n",
    "Класс ParsesHeaders имеет метод headers(), возвращающий все по ключу headers из словаря self.request.\n",
    "Класс ParsesHeaders имеет метод need_json(), который возвращает True, если в headers по ключу \"content-type\" лежит значение \"application/json\", иначе False.\n",
    "'''\n",
    "class ParsesCookies:\n",
    "    def cookies(self):\n",
    "        return self.request[\"cookies\"]\n",
    "    def is_authed(self):\n",
    "        return 'auth_key' in self.cookies().keys()\n",
    "    \n",
    "class ParsesBody:\n",
    "    def body(self):\n",
    "        return self.request[\"body\"]\n",
    "\n",
    "class ParsesHeaders:\n",
    "    def headers(self):\n",
    "        return self.request[\"headers\"]\n",
    "    def need_json(self):\n",
    "        return self.headers().get('content-type') == 'application/json'    "
   ]
  },
  {
   "cell_type": "code",
   "execution_count": 310,
   "id": "0eff0f9d-19a3-4e75-b9ec-90586272bfd0",
   "metadata": {},
   "outputs": [],
   "source": [
    "'''\n",
    "Используя миксины из прошлого пункта, напишите класс JsonHandler, который будет наследоваться от классов ParsesBody и ParsesHeaders , \n",
    "иметь метод process() и конструктор, принимающий аргумент request и сохраняющий в self.request. В этом задании нужно использовать библиотеку json.\n",
    "\n",
    "Метод process() должен работать следующим образом:\n",
    "\n",
    "Если need_json() дает False, то возвращать None\n",
    "Иначе получать тело через body(), пытаться считать его как json.loads(...) и возвращать число ключей в словаре. Если считать не удалось, то вернуть None.\n",
    "\n",
    "Отправьте реализацию класса JsonHandler в LMS. Классы ParsesBody и ParsesHeaders отправлять не нужно.\n",
    "\n",
    "Обратите внимание, что с помощью миксин функциональность проверки headers и получения body была вынесена за JsonHandler - наш класс сосредоточился именно на обработке.\n",
    "\n",
    "# Пример использования\n",
    "r = {'body': '{\"a\": 123, \"b\": 1234}',\n",
    "     'headers': {'content-type': 'application/json'}\n",
    "    }\n",
    "print(JsonHandler(r).process())\n",
    "'''\n",
    "import json \n",
    "\n",
    "class JsonHandler(ParsesBody,ParsesHeaders):\n",
    "    def __init__(self,request):\n",
    "        self.request = request\n",
    "        \n",
    "    def process(self):\n",
    "        if self.need_json():\n",
    "            try:\n",
    "                return len(json.loads(self.body()))\n",
    "            except ValueError:\n",
    "                return None\n",
    "        else:\n",
    "            return None\n",
    "    "
   ]
  },
  {
   "cell_type": "code",
   "execution_count": 311,
   "id": "94e048f8-9049-4fa0-b6dd-c8998087f0e4",
   "metadata": {},
   "outputs": [
    {
     "name": "stdout",
     "output_type": "stream",
     "text": [
      "None\n"
     ]
    }
   ],
   "source": [
    "r = {'body': '{\"a\": 123, \"b\": 1234}',\n",
    "     'headers': {'content-type': 'application/json'}\n",
    "    }\n",
    "print(JsonHandler(request).process())"
   ]
  },
  {
   "cell_type": "code",
   "execution_count": 320,
   "id": "2d68177d-a4f1-4bdb-95d7-90b99e7deae4",
   "metadata": {},
   "outputs": [],
   "source": [
    "'''\n",
    "Используя миксины из прошлого пункта, напишите класс SecureTextHandler, который будет наследоваться от классов ParsesBody, ParsesHeaders и ParsesCookies , \n",
    "иметь метод process() и конструктор, принимающий один аргумент и сохраняющий его в нужное поле класса.\n",
    "\n",
    "Метод process() должен работать следующим образом:\n",
    "\n",
    "Если is_authed() дает False, то возвращать None.\n",
    "Иначе получать тело через body() и возвращать его длину.\n",
    "Добейтесь работоспособности на примере и реализацию класса SecureTextHandler отправьте в LMS. Классы ParsesBody и ParsesHeaders, ParsesCookie отправлять не нужно.\n",
    "\n",
    "# Примеры\n",
    "r = {'cookies': {'auth_key': '123'},\n",
    "     'body': 'hello'\n",
    "    }\n",
    "print(SecureTextHandler(r).process())\n",
    "# 5\n",
    "\n",
    "r = {'cookies': {},\n",
    "     'body': 'hello'\n",
    "    }\n",
    "print(SecureTextHandler(r).process())\n",
    "# None\n",
    "\n",
    "\n",
    "Обратите внимание, что здесь мы комбинируем другие миксины, чтобы получить другую функциональность без дублирования логики.\n",
    "'''\n",
    "class SecureTextHandler(ParsesBody, ParsesHeaders, ParsesCookies):\n",
    "    def __init__(self,request):\n",
    "        self.request = request\n",
    "    def process(self):\n",
    "        if self.is_authed() == False:\n",
    "            None\n",
    "        else:\n",
    "            return len(self.body())     "
   ]
  },
  {
   "cell_type": "code",
   "execution_count": 321,
   "id": "dff1829a-f191-455e-a7e8-8a84bc10e296",
   "metadata": {},
   "outputs": [
    {
     "name": "stdout",
     "output_type": "stream",
     "text": [
      "5\n"
     ]
    }
   ],
   "source": [
    "r = {'cookies': {'auth_key': '123'},\n",
    "     'body': 'hello'\n",
    "    }\n",
    "print(SecureTextHandler(r).process())"
   ]
  },
  {
   "cell_type": "code",
   "execution_count": 322,
   "id": "c15df10d-df1d-4916-9d56-a310147017ef",
   "metadata": {},
   "outputs": [
    {
     "name": "stdout",
     "output_type": "stream",
     "text": [
      "None\n"
     ]
    }
   ],
   "source": [
    "r = {'cookies': {},\n",
    "     'body': 'hello'\n",
    "    }\n",
    "print(SecureTextHandler(r).process())"
   ]
  },
  {
   "cell_type": "code",
   "execution_count": null,
   "id": "c70b1507-e935-417d-baa1-4b5c4277b8d0",
   "metadata": {},
   "outputs": [],
   "source": []
  }
 ],
 "metadata": {
  "kernelspec": {
   "display_name": "Python 3 (ipykernel)",
   "language": "python",
   "name": "python3"
  },
  "language_info": {
   "codemirror_mode": {
    "name": "ipython",
    "version": 3
   },
   "file_extension": ".py",
   "mimetype": "text/x-python",
   "name": "python",
   "nbconvert_exporter": "python",
   "pygments_lexer": "ipython3",
   "version": "3.8.10"
  }
 },
 "nbformat": 4,
 "nbformat_minor": 5
}
