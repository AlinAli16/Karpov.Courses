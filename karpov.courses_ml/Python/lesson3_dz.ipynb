{
 "cells": [
  {
   "cell_type": "code",
   "execution_count": 1,
   "id": "85b9e52f-5cac-4d57-9069-6885ba3b5abe",
   "metadata": {},
   "outputs": [],
   "source": [
    "\"\"\"\n",
    "Начнем с простого, для начала импортируйте библиотеку datetime (она встроена в python, поэтому устанавливать ее отдельно не нужно), \n",
    "затем создайте объект date из модуля datetime, передав на вход три аргумента day=10, month=2, year=2022. \n",
    "Запишите этот объект в переменную launch_date. \n",
    "Вспомните, что для создания объекта мы просто вызывали его тип как функцию, т.е. в духе date(arg1, arg2).\n",
    "\"\"\"\n",
    "import datetime\n",
    "launch_date=datetime.date(day=10, month=2, year=2022)"
   ]
  },
  {
   "cell_type": "code",
   "execution_count": 3,
   "id": "e933aeda-d082-4835-ae77-a673d8aeb8cf",
   "metadata": {},
   "outputs": [
    {
     "name": "stdout",
     "output_type": "stream",
     "text": [
      "2022-03-24\n"
     ]
    }
   ],
   "source": [
    "\"\"\"\n",
    "Поэкспериментируем с арифметикой дат. Прибавьте к объекту даты, созданному ранее, 42 дня. \n",
    "Для этого сложите  ваш объект даты с объектом timedelta из datetime. Запишите результат в переменную some_future.\n",
    "\"\"\"\n",
    "some_future = launch_date + datetime.timedelta(days=42)\n",
    "print(some_future)"
   ]
  },
  {
   "cell_type": "code",
   "execution_count": 4,
   "id": "12d9a26b-ca33-416d-8225-bdb7b19ff579",
   "metadata": {},
   "outputs": [
    {
     "name": "stdout",
     "output_type": "stream",
     "text": [
      "2022-03-11 05:06:00\n"
     ]
    }
   ],
   "source": [
    "\"\"\"\n",
    "В прошлом задании вы наверняка импортировали через import datetime, затем через точку обращались к нужным объектам. Это могло быть неудобно.\n",
    "\n",
    "Используя синтаксис from ... import ..., сделайте следующий код рабочим:\n",
    "\n",
    "datetime(month=3, day=8, year=2022) + timedelta(days=3, hours=5, minutes=6)\n",
    "\n",
    "Обратите внимание на вызов datetime как функции внутри модуля.\n",
    "\n",
    "Запишите  результат в переменную times\n",
    "\"\"\"\n",
    "from datetime import datetime, timedelta\n",
    "times = datetime(month=3, day=8, year=2022) + timedelta(days=3, hours=5, minutes=6)\n",
    "print(times)"
   ]
  },
  {
   "cell_type": "code",
   "execution_count": null,
   "id": "18e4623b-3363-4fd1-bb3f-a6517985d797",
   "metadata": {},
   "outputs": [],
   "source": []
  }
 ],
 "metadata": {
  "kernelspec": {
   "display_name": "Python 3 (ipykernel)",
   "language": "python",
   "name": "python3"
  },
  "language_info": {
   "codemirror_mode": {
    "name": "ipython",
    "version": 3
   },
   "file_extension": ".py",
   "mimetype": "text/x-python",
   "name": "python",
   "nbconvert_exporter": "python",
   "pygments_lexer": "ipython3",
   "version": "3.8.10"
  }
 },
 "nbformat": 4,
 "nbformat_minor": 5
}
