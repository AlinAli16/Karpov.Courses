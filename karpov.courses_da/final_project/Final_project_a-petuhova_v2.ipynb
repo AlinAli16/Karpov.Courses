{
 "cells": [
  {
   "cell_type": "markdown",
   "metadata": {},
   "source": [
    "# <u> Финальный проект: Karpov.Courses </u>\n",
    
    "<hr>\n",
    "\n",
    "## Задание 1. A/B–тестирование\n",
    "\n",
    "### 1.1 Условие\n",
    "\n",
    "Одной из основных задач аналитика в нашей команде является корректное проведение экспериментов. Для этого мы применяем метод A/B–тестирования. В ходе тестирования одной гипотезы целевой группе была предложена новая механика оплаты услуг на сайте, у контрольной группы оставалась базовая механика. В качестве задания Вам необходимо проанализировать итоги эксперимента и сделать вывод, стоит ли запускать новую механику оплаты на всех пользователей.\n",
    "\n",
    "### 1.2 Входные данные\n",
    "\n",
    "В качестве входных данных имеется 4 csv-файла:\n",
    "\n",
    "<li> <b>groups.csv</b> - файл с информацией о принадлежности пользователя к контрольной или экспериментальной группе (А – контроль, B – целевая группа) \n",
    "<li> <b>groups_add.csv</b> - дополнительный файл с пользователями, который вам прислали спустя 2 дня после передачи данных\n",
    "<li> <b>active_studs.csv</b> - файл с информацией о пользователях, которые зашли на платформу в дни проведения эксперимента. \n",
    "<li> <b>checks.csv</b> - файл с информацией об оплатах пользователей в дни проведения эксперимента. <p>\n",
    "\n",
    "### 1.3 Вопросы для рассмотрения:\n",
    "\n",
    "1. На какие метрики Вы смотрите в ходе анализа и почему?\n",
    "2. Имеются ли различия в показателях и с чем они могут быть связаны?\n",
    "3. Стоит ли запускать новую механику на всех пользователей?\n",
    "4. Данный список вопросов не является обязательным, и Вы можете при своём ответе опираться на собственный план.\n",
    "\n",
    "### 1.4 Требования к ответу\n",
    "\n",
    "При выполнении тестового задания необходимо использовать язык программирования Python. \n",
    "В файле обязательно должны быть комментарии к тем действиям, которые Вы выполняете с данными. \n",
    "Файл должен представлять собой законченный отчёт с выводами, сделанными в ходе исследования."
   ]
  },
  {
   "cell_type": "markdown",
   "metadata": {},
   "source": [
    "### Подготовка данных"
   ]
  },
  {
   "cell_type": "code",
   "execution_count": 73,
   "metadata": {},
   "outputs": [],
   "source": [
    "# Загружаем необходимые библиотеки и модули\n",
    "import pandas as pd\n",
    "import matplotlib.pyplot as plt\n",
    "import seaborn as sns\n",
    "import numpy as np\n",
    "from scipy.stats import norm, chi2_contingency\n",
    "from math import sqrt\n",
    "import requests\n",
    "from urllib.parse import urlencode\n",
    "from tqdm.auto import tqdm\n",
    "import pandahouse as ph\n",
    "import datetime\n",
    "import time"
   ]
  },
  {
   "cell_type": "code",
   "execution_count": 2,
   "metadata": {},
   "outputs": [],
   "source": [
    "# загружаем данные\n",
    "base_url = 'https://cloud-api.yandex.net/v1/disk/public/resources/download?'\n",
    "# ссылки на данные с указанием разделителя csv-файла\n",
    "links_dic = {\n",
    "    'groups':       ['https://disk.yandex.ru/d/UhyYx41rTt3clQ', ';'],\n",
    "    'groups_add':   ['https://disk.yandex.ru/d/5Kxrz02m3IBUwQ', ','],\n",
    "    'active_studs': ['https://disk.yandex.ru/d/Tbs44Bm6H_FwFQ', ','],\n",
    "    'checks':       ['https://disk.yandex.ru/d/pH1q-VqcxXjsVA', ';']\n",
    "            }\n",
    "\n",
    "# скачиваем файлы\n",
    "for csv_filename, csv_link in links_dic.items():\n",
    "    final_url               = base_url + urlencode(dict(public_key=csv_link[0]))\n",
    "    response                = requests.get(final_url)\n",
    "    download_url            = response.json()['href']\n",
    "    globals()[csv_filename] = pd.read_csv(download_url, sep=csv_link[1])"
   ]
  },
  {
   "cell_type": "code",
   "execution_count": 3,
   "metadata": {},
   "outputs": [
    {
     "data": {
      "text/html": [
       "<div>\n",
       "<style scoped>\n",
       "    .dataframe tbody tr th:only-of-type {\n",
       "        vertical-align: middle;\n",
       "    }\n",
       "\n",
       "    .dataframe tbody tr th {\n",
       "        vertical-align: top;\n",
       "    }\n",
       "\n",
       "    .dataframe thead th {\n",
       "        text-align: right;\n",
       "    }\n",
       "</style>\n",
       "<table border=\"1\" class=\"dataframe\">\n",
       "  <thead>\n",
       "    <tr style=\"text-align: right;\">\n",
       "      <th></th>\n",
       "      <th>id</th>\n",
       "      <th>grp</th>\n",
       "    </tr>\n",
       "  </thead>\n",
       "  <tbody>\n",
       "    <tr>\n",
       "      <th>0</th>\n",
       "      <td>5694584</td>\n",
       "      <td>B</td>\n",
       "    </tr>\n",
       "    <tr>\n",
       "      <th>1</th>\n",
       "      <td>5694830</td>\n",
       "      <td>B</td>\n",
       "    </tr>\n",
       "    <tr>\n",
       "      <th>2</th>\n",
       "      <td>5695057</td>\n",
       "      <td>B</td>\n",
       "    </tr>\n",
       "    <tr>\n",
       "      <th>3</th>\n",
       "      <td>5698872</td>\n",
       "      <td>B</td>\n",
       "    </tr>\n",
       "    <tr>\n",
       "      <th>4</th>\n",
       "      <td>5699067</td>\n",
       "      <td>B</td>\n",
       "    </tr>\n",
       "  </tbody>\n",
       "</table>\n",
       "</div>"
      ],
      "text/plain": [
       "        id grp\n",
       "0  5694584   B\n",
       "1  5694830   B\n",
       "2  5695057   B\n",
       "3  5698872   B\n",
       "4  5699067   B"
      ]
     },
     "execution_count": 3,
     "metadata": {},
     "output_type": "execute_result"
    }
   ],
   "source": [
    "groups_add.head()"
   ]
  },
  {
   "cell_type": "code",
   "execution_count": 4,
   "metadata": {},
   "outputs": [
    {
     "data": {
      "text/html": [
       "<div>\n",
       "<style scoped>\n",
       "    .dataframe tbody tr th:only-of-type {\n",
       "        vertical-align: middle;\n",
       "    }\n",
       "\n",
       "    .dataframe tbody tr th {\n",
       "        vertical-align: top;\n",
       "    }\n",
       "\n",
       "    .dataframe thead th {\n",
       "        text-align: right;\n",
       "    }\n",
       "</style>\n",
       "<table border=\"1\" class=\"dataframe\">\n",
       "  <thead>\n",
       "    <tr style=\"text-align: right;\">\n",
       "      <th></th>\n",
       "      <th>student_id</th>\n",
       "    </tr>\n",
       "  </thead>\n",
       "  <tbody>\n",
       "    <tr>\n",
       "      <th>0</th>\n",
       "      <td>581585</td>\n",
       "    </tr>\n",
       "    <tr>\n",
       "      <th>1</th>\n",
       "      <td>5723133</td>\n",
       "    </tr>\n",
       "    <tr>\n",
       "      <th>2</th>\n",
       "      <td>3276743</td>\n",
       "    </tr>\n",
       "    <tr>\n",
       "      <th>3</th>\n",
       "      <td>4238589</td>\n",
       "    </tr>\n",
       "    <tr>\n",
       "      <th>4</th>\n",
       "      <td>4475369</td>\n",
       "    </tr>\n",
       "  </tbody>\n",
       "</table>\n",
       "</div>"
      ],
      "text/plain": [
       "   student_id\n",
       "0      581585\n",
       "1     5723133\n",
       "2     3276743\n",
       "3     4238589\n",
       "4     4475369"
      ]
     },
     "execution_count": 4,
     "metadata": {},
     "output_type": "execute_result"
    }
   ],
   "source": [
    "active_studs.head()"
   ]
  },
  {
   "cell_type": "code",
   "execution_count": 5,
   "metadata": {},
   "outputs": [
    {
     "data": {
      "text/html": [
       "<div>\n",
       "<style scoped>\n",
       "    .dataframe tbody tr th:only-of-type {\n",
       "        vertical-align: middle;\n",
       "    }\n",
       "\n",
       "    .dataframe tbody tr th {\n",
       "        vertical-align: top;\n",
       "    }\n",
       "\n",
       "    .dataframe thead th {\n",
       "        text-align: right;\n",
       "    }\n",
       "</style>\n",
       "<table border=\"1\" class=\"dataframe\">\n",
       "  <thead>\n",
       "    <tr style=\"text-align: right;\">\n",
       "      <th></th>\n",
       "      <th>student_id</th>\n",
       "      <th>rev</th>\n",
       "    </tr>\n",
       "  </thead>\n",
       "  <tbody>\n",
       "    <tr>\n",
       "      <th>0</th>\n",
       "      <td>1627</td>\n",
       "      <td>990.0</td>\n",
       "    </tr>\n",
       "    <tr>\n",
       "      <th>1</th>\n",
       "      <td>3185</td>\n",
       "      <td>690.0</td>\n",
       "    </tr>\n",
       "    <tr>\n",
       "      <th>2</th>\n",
       "      <td>25973</td>\n",
       "      <td>690.0</td>\n",
       "    </tr>\n",
       "    <tr>\n",
       "      <th>3</th>\n",
       "      <td>26280</td>\n",
       "      <td>690.0</td>\n",
       "    </tr>\n",
       "    <tr>\n",
       "      <th>4</th>\n",
       "      <td>100300</td>\n",
       "      <td>990.0</td>\n",
       "    </tr>\n",
       "  </tbody>\n",
       "</table>\n",
       "</div>"
      ],
      "text/plain": [
       "   student_id    rev\n",
       "0        1627  990.0\n",
       "1        3185  690.0\n",
       "2       25973  690.0\n",
       "3       26280  690.0\n",
       "4      100300  990.0"
      ]
     },
     "execution_count": 5,
     "metadata": {},
     "output_type": "execute_result"
    }
   ],
   "source": [
    "checks.head()"
   ]
  },
  {
   "cell_type": "code",
   "execution_count": 6,
   "metadata": {},
   "outputs": [],
   "source": [
    "# переименуем student_id в id для удобства (так все таблицы будут иметь одинаковое наименование id пользователей)\n",
    "active_studs=active_studs.rename(columns={'student_id': 'id'})\n",
    "checks=checks.rename(columns={'student_id': 'id'})"
   ]
  },
  {
   "cell_type": "code",
   "execution_count": 7,
   "metadata": {},
   "outputs": [
    {
     "data": {
      "text/html": [
       "<div>\n",
       "<style scoped>\n",
       "    .dataframe tbody tr th:only-of-type {\n",
       "        vertical-align: middle;\n",
       "    }\n",
       "\n",
       "    .dataframe tbody tr th {\n",
       "        vertical-align: top;\n",
       "    }\n",
       "\n",
       "    .dataframe thead th {\n",
       "        text-align: right;\n",
       "    }\n",
       "</style>\n",
       "<table border=\"1\" class=\"dataframe\">\n",
       "  <thead>\n",
       "    <tr style=\"text-align: right;\">\n",
       "      <th></th>\n",
       "      <th>id</th>\n",
       "    </tr>\n",
       "  </thead>\n",
       "  <tbody>\n",
       "    <tr>\n",
       "      <th>0</th>\n",
       "      <td>581585</td>\n",
       "    </tr>\n",
       "    <tr>\n",
       "      <th>1</th>\n",
       "      <td>5723133</td>\n",
       "    </tr>\n",
       "    <tr>\n",
       "      <th>2</th>\n",
       "      <td>3276743</td>\n",
       "    </tr>\n",
       "    <tr>\n",
       "      <th>3</th>\n",
       "      <td>4238589</td>\n",
       "    </tr>\n",
       "    <tr>\n",
       "      <th>4</th>\n",
       "      <td>4475369</td>\n",
       "    </tr>\n",
       "  </tbody>\n",
       "</table>\n",
       "</div>"
      ],
      "text/plain": [
       "        id\n",
       "0   581585\n",
       "1  5723133\n",
       "2  3276743\n",
       "3  4238589\n",
       "4  4475369"
      ]
     },
     "execution_count": 7,
     "metadata": {},
     "output_type": "execute_result"
    }
   ],
   "source": [
    "active_studs.head()"
   ]
  },
  {
   "cell_type": "code",
   "execution_count": 8,
   "metadata": {},
   "outputs": [
    {
     "data": {
      "text/html": [
       "<div>\n",
       "<style scoped>\n",
       "    .dataframe tbody tr th:only-of-type {\n",
       "        vertical-align: middle;\n",
       "    }\n",
       "\n",
       "    .dataframe tbody tr th {\n",
       "        vertical-align: top;\n",
       "    }\n",
       "\n",
       "    .dataframe thead th {\n",
       "        text-align: right;\n",
       "    }\n",
       "</style>\n",
       "<table border=\"1\" class=\"dataframe\">\n",
       "  <thead>\n",
       "    <tr style=\"text-align: right;\">\n",
       "      <th></th>\n",
       "      <th>id</th>\n",
       "      <th>rev</th>\n",
       "    </tr>\n",
       "  </thead>\n",
       "  <tbody>\n",
       "    <tr>\n",
       "      <th>0</th>\n",
       "      <td>1627</td>\n",
       "      <td>990.0</td>\n",
       "    </tr>\n",
       "    <tr>\n",
       "      <th>1</th>\n",
       "      <td>3185</td>\n",
       "      <td>690.0</td>\n",
       "    </tr>\n",
       "    <tr>\n",
       "      <th>2</th>\n",
       "      <td>25973</td>\n",
       "      <td>690.0</td>\n",
       "    </tr>\n",
       "    <tr>\n",
       "      <th>3</th>\n",
       "      <td>26280</td>\n",
       "      <td>690.0</td>\n",
       "    </tr>\n",
       "    <tr>\n",
       "      <th>4</th>\n",
       "      <td>100300</td>\n",
       "      <td>990.0</td>\n",
       "    </tr>\n",
       "  </tbody>\n",
       "</table>\n",
       "</div>"
      ],
      "text/plain": [
       "       id    rev\n",
       "0    1627  990.0\n",
       "1    3185  690.0\n",
       "2   25973  690.0\n",
       "3   26280  690.0\n",
       "4  100300  990.0"
      ]
     },
     "execution_count": 8,
     "metadata": {},
     "output_type": "execute_result"
    }
   ],
   "source": [
    "checks.head()"
   ]
  },
  {
   "cell_type": "markdown",
   "metadata": {},
   "source": [
    "### Исследование данных"
   ]
  },
  {
   "cell_type": "code",
   "execution_count": 9,
   "metadata": {},
   "outputs": [
    {
     "name": "stdout",
     "output_type": "stream",
     "text": [
      "Размер groups     (74484, 2)\n",
      "Размер groups_add     (92, 2)\n",
      "Размер active_studs   (8341, 1)\n",
      "Размер checks         (541, 2)\n"
     ]
    }
   ],
   "source": [
    "# Размер таблиц\n",
    "print(f'Размер groups     {groups.shape}')\n",
    "print(f'Размер groups_add     {groups_add.shape}')\n",
    "print(f'Размер active_studs   {active_studs.shape}')\n",
    "print(f'Размер checks         {checks.shape}')"
   ]
  },
  {
   "cell_type": "code",
   "execution_count": 10,
   "metadata": {},
   "outputs": [
    {
     "data": {
      "text/html": [
       "<div>\n",
       "<style scoped>\n",
       "    .dataframe tbody tr th:only-of-type {\n",
       "        vertical-align: middle;\n",
       "    }\n",
       "\n",
       "    .dataframe tbody tr th {\n",
       "        vertical-align: top;\n",
       "    }\n",
       "\n",
       "    .dataframe thead th {\n",
       "        text-align: right;\n",
       "    }\n",
       "</style>\n",
       "<table border=\"1\" class=\"dataframe\">\n",
       "  <thead>\n",
       "    <tr style=\"text-align: right;\">\n",
       "      <th></th>\n",
       "      <th>id</th>\n",
       "      <th>grp</th>\n",
       "    </tr>\n",
       "  </thead>\n",
       "  <tbody>\n",
       "    <tr>\n",
       "      <th>0</th>\n",
       "      <td>1489</td>\n",
       "      <td>B</td>\n",
       "    </tr>\n",
       "    <tr>\n",
       "      <th>1</th>\n",
       "      <td>1627</td>\n",
       "      <td>A</td>\n",
       "    </tr>\n",
       "    <tr>\n",
       "      <th>2</th>\n",
       "      <td>1768</td>\n",
       "      <td>B</td>\n",
       "    </tr>\n",
       "    <tr>\n",
       "      <th>3</th>\n",
       "      <td>1783</td>\n",
       "      <td>B</td>\n",
       "    </tr>\n",
       "    <tr>\n",
       "      <th>4</th>\n",
       "      <td>1794</td>\n",
       "      <td>A</td>\n",
       "    </tr>\n",
       "    <tr>\n",
       "      <th>...</th>\n",
       "      <td>...</td>\n",
       "      <td>...</td>\n",
       "    </tr>\n",
       "    <tr>\n",
       "      <th>87</th>\n",
       "      <td>200247820</td>\n",
       "      <td>B</td>\n",
       "    </tr>\n",
       "    <tr>\n",
       "      <th>88</th>\n",
       "      <td>201032527</td>\n",
       "      <td>B</td>\n",
       "    </tr>\n",
       "    <tr>\n",
       "      <th>89</th>\n",
       "      <td>201067612</td>\n",
       "      <td>B</td>\n",
       "    </tr>\n",
       "    <tr>\n",
       "      <th>90</th>\n",
       "      <td>201067653</td>\n",
       "      <td>B</td>\n",
       "    </tr>\n",
       "    <tr>\n",
       "      <th>91</th>\n",
       "      <td>201067659</td>\n",
       "      <td>B</td>\n",
       "    </tr>\n",
       "  </tbody>\n",
       "</table>\n",
       "<p>74576 rows × 2 columns</p>\n",
       "</div>"
      ],
      "text/plain": [
       "           id grp\n",
       "0        1489   B\n",
       "1        1627   A\n",
       "2        1768   B\n",
       "3        1783   B\n",
       "4        1794   A\n",
       "..        ...  ..\n",
       "87  200247820   B\n",
       "88  201032527   B\n",
       "89  201067612   B\n",
       "90  201067653   B\n",
       "91  201067659   B\n",
       "\n",
       "[74576 rows x 2 columns]"
      ]
     },
     "execution_count": 10,
     "metadata": {},
     "output_type": "execute_result"
    }
   ],
   "source": [
    "# Т.к. groups_add является дополнением groups, то соединим их и получим общую таблицу со всеми пользователями и их группами\n",
    "groups_all = pd.concat([groups, groups_add])\n",
    "groups_all"
   ]
  },
  {
   "cell_type": "code",
   "execution_count": 11,
   "metadata": {},
   "outputs": [
    {
     "name": "stdout",
     "output_type": "stream",
     "text": [
      "Размер таблицы всех пользователей:(74576, 2)\n"
     ]
    }
   ],
   "source": [
    "print(f'Размер таблицы всех пользователей:{groups_all.shape}')"
   ]
  },
  {
   "cell_type": "code",
   "execution_count": 12,
   "metadata": {},
   "outputs": [
    {
     "name": "stdout",
     "output_type": "stream",
     "text": [
      "Распределение всех пользователей по группам: \n",
      "Группа A: 14693 \n",
      "Группа B: 59883 \n",
      "Всего: 74576\n"
     ]
    }
   ],
   "source": [
    "# По таблице видим распределение по группа A и B. Посмотрим как именно распределены пользователи (id).\n",
    "print(f'Распределение всех пользователей по группам: \\nГруппа A: {groups_all.grp.value_counts()[1]} \\nГруппа B: {groups_all.grp.value_counts()[0]} \\nВсего: {groups_all.grp.value_counts()[1] +groups_all.grp.value_counts()[0]}')"
   ]
  },
  {
   "cell_type": "markdown",
   "metadata": {},
   "source": [
    "Отметим, что группы распределены неравнозначно. Число id в группе B намного превышает группу A. "
   ]
  },
  {
   "cell_type": "code",
   "execution_count": 13,
   "metadata": {},
   "outputs": [
    {
     "data": {
      "text/plain": [
       "0"
      ]
     },
     "execution_count": 13,
     "metadata": {},
     "output_type": "execute_result"
    }
   ],
   "source": [
    "groups_all.duplicated().sum()"
   ]
  },
  {
   "cell_type": "code",
   "execution_count": 14,
   "metadata": {},
   "outputs": [
    {
     "data": {
      "text/plain": [
       "id     74576\n",
       "grp        2\n",
       "dtype: int64"
      ]
     },
     "execution_count": 14,
     "metadata": {},
     "output_type": "execute_result"
    }
   ],
   "source": [
    "groups_all.nunique()"
   ]
  },
  {
   "cell_type": "markdown",
   "metadata": {},
   "source": [
    "Дубликатов нет, все пользователи уникальны.<br>\n",
    "#### Рассмотрим список активных пользователей и оплативших:"
   ]
  },
  {
   "cell_type": "code",
   "execution_count": 15,
   "metadata": {},
   "outputs": [
    {
     "name": "stdout",
     "output_type": "stream",
     "text": [
      "Количество пользователей из списка активных, но не вошедших в общий список: 0 \n",
      "Количество оплативших пользователей, отсутствующих в общем списке: 0 \n",
      "Количество оплативших пользователей, отсутствующих в списке активных в дни проведения теста: 149\n"
     ]
    }
   ],
   "source": [
    "paid_not_active = checks.query('id not in @active_studs.id')\n",
    "print('Количество пользователей из списка активных, но не вошедших в общий список:', \n",
    "      active_studs.query('id not in @groups_all.id').shape[0],\n",
    "      '\\nКоличество оплативших пользователей, отсутствующих в общем списке:',\n",
    "      checks.query('id not in @groups_all.id').shape[0],\n",
    "      '\\nКоличество оплативших пользователей, отсутствующих в списке активных в дни проведения теста:',\n",
    "      paid_not_active.shape[0])"
   ]
  },
  {
   "cell_type": "markdown",
   "metadata": {},
   "source": [
    "Странный момент: присутствуют пользователи с оплатой, но которые не были активны в дни проведения теста. Это может быть либо ошибка, либо вариант автоплатежа. Посмотрим как в таком случаи неактивные оплатившие будут распределены по группам"
   ]
  },
  {
   "cell_type": "code",
   "execution_count": 16,
   "metadata": {},
   "outputs": [
    {
     "name": "stdout",
     "output_type": "stream",
     "text": [
      "Оплатили, но не в списке активных, количество по группам:\n",
      "Группа A: 29 \n",
      "Группа B: 120\n"
     ]
    }
   ],
   "source": [
    "print('Оплатили, но не в списке активных, количество по группам:\\nГруппа A:', \n",
    "      groups_all.query('id in @paid_not_active.id').grp.value_counts()[1], '\\nГруппа B:',\n",
    "      groups_all.query('id in @paid_not_active.id').grp.value_counts()[0])"
   ]
  },
  {
   "cell_type": "markdown",
   "metadata": {},
   "source": [
    "К сожалению по имеющимся данным нет возможности уточнить ситуацию с оплатившими, но неактивными пользователями, поэтому отметим этот момент и пойдем дальше.<br>\n",
    "Рассмотрим остальные случаи"
   ]
  },
  {
   "cell_type": "code",
   "execution_count": 17,
   "metadata": {},
   "outputs": [
    {
     "name": "stdout",
     "output_type": "stream",
     "text": [
      "Активные оплатившие пользователи, количество по группам: \n",
      "Группа A: 78 \n",
      "Группа B: 314 \n",
      "Всего:    392\n"
     ]
    }
   ],
   "source": [
    "print('Активные оплатившие пользователи, количество по группам: \\nГруппа A:', \n",
    "     groups_all.query('id in @active_studs.id & id in @checks.id').grp.value_counts()[1], '\\nГруппа B:',\n",
    "      groups_all.query('id in @active_studs.id & id in @checks.id').grp.value_counts()[0], '\\nВсего:   ',\n",
    "      groups_all.query('id in @active_studs.id & id in @checks.id').grp.value_counts()[1] +\n",
    "      groups_all.query('id in @active_studs.id & id in @checks.id').grp.value_counts()[0])"
   ]
  },
  {
   "cell_type": "code",
   "execution_count": 18,
   "metadata": {},
   "outputs": [
    {
     "name": "stdout",
     "output_type": "stream",
     "text": [
      "Активные, но не оплатившие пользователи, количество по группам: \n",
      "Группа A: 1460 \n",
      "Группа B: 6489 \n",
      "Всего:    7949\n"
     ]
    }
   ],
   "source": [
    "print('Активные, но не оплатившие пользователи, количество по группам: \\nГруппа A:', \n",
    "      groups_all.query('id in @active_studs.id & id not in @checks.id').grp.value_counts()[1], '\\nГруппа B:',\n",
    "      groups_all.query('id in @active_studs.id & id not in @checks.id').grp.value_counts()[0], '\\nВсего:   ',\n",
    "      groups_all.query('id in @active_studs.id & id not in @checks.id').grp.value_counts()[1] +\n",
    "      groups_all.query('id in @active_studs.id & id not in @checks.id').grp.value_counts()[0])"
   ]
  },
  {
   "cell_type": "markdown",
   "metadata": {},
   "source": [
    "Сведем все рассмотренные данные"
   ]
  },
  {
   "cell_type": "code",
   "execution_count": 19,
   "metadata": {},
   "outputs": [
    {
     "data": {
      "text/html": [
       "<div>\n",
       "<style scoped>\n",
       "    .dataframe tbody tr th:only-of-type {\n",
       "        vertical-align: middle;\n",
       "    }\n",
       "\n",
       "    .dataframe tbody tr th {\n",
       "        vertical-align: top;\n",
       "    }\n",
       "\n",
       "    .dataframe thead th {\n",
       "        text-align: right;\n",
       "    }\n",
       "</style>\n",
       "<table border=\"1\" class=\"dataframe\">\n",
       "  <thead>\n",
       "    <tr style=\"text-align: right;\">\n",
       "      <th></th>\n",
       "      <th>id</th>\n",
       "      <th>rev</th>\n",
       "    </tr>\n",
       "  </thead>\n",
       "  <tbody>\n",
       "    <tr>\n",
       "      <th>0</th>\n",
       "      <td>581585</td>\n",
       "      <td>NaN</td>\n",
       "    </tr>\n",
       "    <tr>\n",
       "      <th>1</th>\n",
       "      <td>5723133</td>\n",
       "      <td>NaN</td>\n",
       "    </tr>\n",
       "    <tr>\n",
       "      <th>2</th>\n",
       "      <td>3276743</td>\n",
       "      <td>NaN</td>\n",
       "    </tr>\n",
       "    <tr>\n",
       "      <th>3</th>\n",
       "      <td>4238589</td>\n",
       "      <td>NaN</td>\n",
       "    </tr>\n",
       "    <tr>\n",
       "      <th>4</th>\n",
       "      <td>4475369</td>\n",
       "      <td>NaN</td>\n",
       "    </tr>\n",
       "    <tr>\n",
       "      <th>...</th>\n",
       "      <td>...</td>\n",
       "      <td>...</td>\n",
       "    </tr>\n",
       "    <tr>\n",
       "      <th>8336</th>\n",
       "      <td>1794344</td>\n",
       "      <td>NaN</td>\n",
       "    </tr>\n",
       "    <tr>\n",
       "      <th>8337</th>\n",
       "      <td>296883</td>\n",
       "      <td>NaN</td>\n",
       "    </tr>\n",
       "    <tr>\n",
       "      <th>8338</th>\n",
       "      <td>3598448</td>\n",
       "      <td>NaN</td>\n",
       "    </tr>\n",
       "    <tr>\n",
       "      <th>8339</th>\n",
       "      <td>3610547</td>\n",
       "      <td>290.0</td>\n",
       "    </tr>\n",
       "    <tr>\n",
       "      <th>8340</th>\n",
       "      <td>205705</td>\n",
       "      <td>NaN</td>\n",
       "    </tr>\n",
       "  </tbody>\n",
       "</table>\n",
       "<p>8341 rows × 2 columns</p>\n",
       "</div>"
      ],
      "text/plain": [
       "           id    rev\n",
       "0      581585    NaN\n",
       "1     5723133    NaN\n",
       "2     3276743    NaN\n",
       "3     4238589    NaN\n",
       "4     4475369    NaN\n",
       "...       ...    ...\n",
       "8336  1794344    NaN\n",
       "8337   296883    NaN\n",
       "8338  3598448    NaN\n",
       "8339  3610547  290.0\n",
       "8340   205705    NaN\n",
       "\n",
       "[8341 rows x 2 columns]"
      ]
     },
     "execution_count": 19,
     "metadata": {},
     "output_type": "execute_result"
    }
   ],
   "source": [
    "# Объединим список активных пользователей со списком оплативших, отбросив из последних тех, кого нет в списке активных:\n",
    "active_checks = active_studs.merge(checks, how='left', on='id')\n",
    "active_checks"
   ]
  },
  {
   "cell_type": "code",
   "execution_count": 20,
   "metadata": {},
   "outputs": [
    {
     "data": {
      "text/html": [
       "<div>\n",
       "<style scoped>\n",
       "    .dataframe tbody tr th:only-of-type {\n",
       "        vertical-align: middle;\n",
       "    }\n",
       "\n",
       "    .dataframe tbody tr th {\n",
       "        vertical-align: top;\n",
       "    }\n",
       "\n",
       "    .dataframe thead th {\n",
       "        text-align: right;\n",
       "    }\n",
       "</style>\n",
       "<table border=\"1\" class=\"dataframe\">\n",
       "  <thead>\n",
       "    <tr style=\"text-align: right;\">\n",
       "      <th></th>\n",
       "      <th>id</th>\n",
       "      <th>rev</th>\n",
       "    </tr>\n",
       "  </thead>\n",
       "  <tbody>\n",
       "    <tr>\n",
       "      <th>0</th>\n",
       "      <td>581585</td>\n",
       "      <td>NaN</td>\n",
       "    </tr>\n",
       "    <tr>\n",
       "      <th>1</th>\n",
       "      <td>5723133</td>\n",
       "      <td>NaN</td>\n",
       "    </tr>\n",
       "    <tr>\n",
       "      <th>2</th>\n",
       "      <td>3276743</td>\n",
       "      <td>NaN</td>\n",
       "    </tr>\n",
       "    <tr>\n",
       "      <th>3</th>\n",
       "      <td>4238589</td>\n",
       "      <td>NaN</td>\n",
       "    </tr>\n",
       "    <tr>\n",
       "      <th>4</th>\n",
       "      <td>4475369</td>\n",
       "      <td>NaN</td>\n",
       "    </tr>\n",
       "    <tr>\n",
       "      <th>...</th>\n",
       "      <td>...</td>\n",
       "      <td>...</td>\n",
       "    </tr>\n",
       "    <tr>\n",
       "      <th>8336</th>\n",
       "      <td>1794344</td>\n",
       "      <td>NaN</td>\n",
       "    </tr>\n",
       "    <tr>\n",
       "      <th>8337</th>\n",
       "      <td>296883</td>\n",
       "      <td>NaN</td>\n",
       "    </tr>\n",
       "    <tr>\n",
       "      <th>8338</th>\n",
       "      <td>3598448</td>\n",
       "      <td>NaN</td>\n",
       "    </tr>\n",
       "    <tr>\n",
       "      <th>8339</th>\n",
       "      <td>3610547</td>\n",
       "      <td>290.0</td>\n",
       "    </tr>\n",
       "    <tr>\n",
       "      <th>8340</th>\n",
       "      <td>205705</td>\n",
       "      <td>NaN</td>\n",
       "    </tr>\n",
       "  </tbody>\n",
       "</table>\n",
       "<p>8341 rows × 2 columns</p>\n",
       "</div>"
      ],
      "text/plain": [
       "           id    rev\n",
       "0      581585    NaN\n",
       "1     5723133    NaN\n",
       "2     3276743    NaN\n",
       "3     4238589    NaN\n",
       "4     4475369    NaN\n",
       "...       ...    ...\n",
       "8336  1794344    NaN\n",
       "8337   296883    NaN\n",
       "8338  3598448    NaN\n",
       "8339  3610547  290.0\n",
       "8340   205705    NaN\n",
       "\n",
       "[8341 rows x 2 columns]"
      ]
     },
     "execution_count": 20,
     "metadata": {},
     "output_type": "execute_result"
    }
   ],
   "source": [
    "# Объединим активных оплативших из предыдущего шага с groups_all, оставив только активных:\n",
    "active_all = active_checks.merge(groups_all, how='left', on='id')\n",
    "active_checks"
   ]
  },
  {
   "cell_type": "code",
   "execution_count": 21,
   "metadata": {},
   "outputs": [
    {
     "data": {
      "text/html": [
       "<div>\n",
       "<style scoped>\n",
       "    .dataframe tbody tr th:only-of-type {\n",
       "        vertical-align: middle;\n",
       "    }\n",
       "\n",
       "    .dataframe tbody tr th {\n",
       "        vertical-align: top;\n",
       "    }\n",
       "\n",
       "    .dataframe thead th {\n",
       "        text-align: right;\n",
       "    }\n",
       "</style>\n",
       "<table border=\"1\" class=\"dataframe\">\n",
       "  <thead>\n",
       "    <tr style=\"text-align: right;\">\n",
       "      <th></th>\n",
       "      <th>id</th>\n",
       "      <th>rev</th>\n",
       "      <th>grp</th>\n",
       "      <th>payment</th>\n",
       "    </tr>\n",
       "  </thead>\n",
       "  <tbody>\n",
       "    <tr>\n",
       "      <th>0</th>\n",
       "      <td>581585</td>\n",
       "      <td>NaN</td>\n",
       "      <td>A</td>\n",
       "      <td>0</td>\n",
       "    </tr>\n",
       "    <tr>\n",
       "      <th>1</th>\n",
       "      <td>5723133</td>\n",
       "      <td>NaN</td>\n",
       "      <td>A</td>\n",
       "      <td>0</td>\n",
       "    </tr>\n",
       "    <tr>\n",
       "      <th>2</th>\n",
       "      <td>3276743</td>\n",
       "      <td>NaN</td>\n",
       "      <td>B</td>\n",
       "      <td>0</td>\n",
       "    </tr>\n",
       "    <tr>\n",
       "      <th>3</th>\n",
       "      <td>4238589</td>\n",
       "      <td>NaN</td>\n",
       "      <td>A</td>\n",
       "      <td>0</td>\n",
       "    </tr>\n",
       "    <tr>\n",
       "      <th>4</th>\n",
       "      <td>4475369</td>\n",
       "      <td>NaN</td>\n",
       "      <td>B</td>\n",
       "      <td>0</td>\n",
       "    </tr>\n",
       "  </tbody>\n",
       "</table>\n",
       "</div>"
      ],
      "text/plain": [
       "        id  rev grp  payment\n",
       "0   581585  NaN   A        0\n",
       "1  5723133  NaN   A        0\n",
       "2  3276743  NaN   B        0\n",
       "3  4238589  NaN   A        0\n",
       "4  4475369  NaN   B        0"
      ]
     },
     "execution_count": 21,
     "metadata": {},
     "output_type": "execute_result"
    }
   ],
   "source": [
    "# Добавим колонку со статусом оплаты (0 - не оплачен, 1 - оплачен):\n",
    "active_all['payment'] = active_all.rev.apply(lambda x: 0 if np.isnan(x) else 1)\n",
    "active_all.query('rev.isna()').head()"
   ]
  },
  {
   "cell_type": "code",
   "execution_count": 22,
   "metadata": {},
   "outputs": [
    {
     "data": {
      "text/html": [
       "<div>\n",
       "<style scoped>\n",
       "    .dataframe tbody tr th:only-of-type {\n",
       "        vertical-align: middle;\n",
       "    }\n",
       "\n",
       "    .dataframe tbody tr th {\n",
       "        vertical-align: top;\n",
       "    }\n",
       "\n",
       "    .dataframe thead th {\n",
       "        text-align: right;\n",
       "    }\n",
       "</style>\n",
       "<table border=\"1\" class=\"dataframe\">\n",
       "  <thead>\n",
       "    <tr style=\"text-align: right;\">\n",
       "      <th></th>\n",
       "      <th>id</th>\n",
       "      <th>rev</th>\n",
       "      <th>grp</th>\n",
       "      <th>payment</th>\n",
       "    </tr>\n",
       "  </thead>\n",
       "  <tbody>\n",
       "    <tr>\n",
       "      <th>0</th>\n",
       "      <td>581585</td>\n",
       "      <td>0.0</td>\n",
       "      <td>A</td>\n",
       "      <td>0</td>\n",
       "    </tr>\n",
       "    <tr>\n",
       "      <th>1</th>\n",
       "      <td>5723133</td>\n",
       "      <td>0.0</td>\n",
       "      <td>A</td>\n",
       "      <td>0</td>\n",
       "    </tr>\n",
       "    <tr>\n",
       "      <th>2</th>\n",
       "      <td>3276743</td>\n",
       "      <td>0.0</td>\n",
       "      <td>B</td>\n",
       "      <td>0</td>\n",
       "    </tr>\n",
       "    <tr>\n",
       "      <th>3</th>\n",
       "      <td>4238589</td>\n",
       "      <td>0.0</td>\n",
       "      <td>A</td>\n",
       "      <td>0</td>\n",
       "    </tr>\n",
       "    <tr>\n",
       "      <th>4</th>\n",
       "      <td>4475369</td>\n",
       "      <td>0.0</td>\n",
       "      <td>B</td>\n",
       "      <td>0</td>\n",
       "    </tr>\n",
       "    <tr>\n",
       "      <th>...</th>\n",
       "      <td>...</td>\n",
       "      <td>...</td>\n",
       "      <td>...</td>\n",
       "      <td>...</td>\n",
       "    </tr>\n",
       "    <tr>\n",
       "      <th>8336</th>\n",
       "      <td>1794344</td>\n",
       "      <td>0.0</td>\n",
       "      <td>B</td>\n",
       "      <td>0</td>\n",
       "    </tr>\n",
       "    <tr>\n",
       "      <th>8337</th>\n",
       "      <td>296883</td>\n",
       "      <td>0.0</td>\n",
       "      <td>B</td>\n",
       "      <td>0</td>\n",
       "    </tr>\n",
       "    <tr>\n",
       "      <th>8338</th>\n",
       "      <td>3598448</td>\n",
       "      <td>0.0</td>\n",
       "      <td>B</td>\n",
       "      <td>0</td>\n",
       "    </tr>\n",
       "    <tr>\n",
       "      <th>8339</th>\n",
       "      <td>3610547</td>\n",
       "      <td>290.0</td>\n",
       "      <td>B</td>\n",
       "      <td>1</td>\n",
       "    </tr>\n",
       "    <tr>\n",
       "      <th>8340</th>\n",
       "      <td>205705</td>\n",
       "      <td>0.0</td>\n",
       "      <td>B</td>\n",
       "      <td>0</td>\n",
       "    </tr>\n",
       "  </tbody>\n",
       "</table>\n",
       "<p>8341 rows × 4 columns</p>\n",
       "</div>"
      ],
      "text/plain": [
       "           id    rev grp  payment\n",
       "0      581585    0.0   A        0\n",
       "1     5723133    0.0   A        0\n",
       "2     3276743    0.0   B        0\n",
       "3     4238589    0.0   A        0\n",
       "4     4475369    0.0   B        0\n",
       "...       ...    ...  ..      ...\n",
       "8336  1794344    0.0   B        0\n",
       "8337   296883    0.0   B        0\n",
       "8338  3598448    0.0   B        0\n",
       "8339  3610547  290.0   B        1\n",
       "8340   205705    0.0   B        0\n",
       "\n",
       "[8341 rows x 4 columns]"
      ]
     },
     "execution_count": 22,
     "metadata": {},
     "output_type": "execute_result"
    }
   ],
   "source": [
    "# Заменим Nan на 0\n",
    "active_all['rev'] = active_all.rev.fillna(0)\n",
    "active_all"
   ]
  },
  {
   "cell_type": "markdown",
   "metadata": {},
   "source": [
    "Разобьем активных на группы"
   ]
  },
  {
   "cell_type": "code",
   "execution_count": 23,
   "metadata": {},
   "outputs": [
    {
     "data": {
      "text/html": [
       "<div>\n",
       "<style scoped>\n",
       "    .dataframe tbody tr th:only-of-type {\n",
       "        vertical-align: middle;\n",
       "    }\n",
       "\n",
       "    .dataframe tbody tr th {\n",
       "        vertical-align: top;\n",
       "    }\n",
       "\n",
       "    .dataframe thead th {\n",
       "        text-align: right;\n",
       "    }\n",
       "</style>\n",
       "<table border=\"1\" class=\"dataframe\">\n",
       "  <thead>\n",
       "    <tr style=\"text-align: right;\">\n",
       "      <th></th>\n",
       "      <th>id</th>\n",
       "      <th>rev</th>\n",
       "      <th>grp</th>\n",
       "      <th>payment</th>\n",
       "    </tr>\n",
       "  </thead>\n",
       "  <tbody>\n",
       "    <tr>\n",
       "      <th>0</th>\n",
       "      <td>581585</td>\n",
       "      <td>0.0</td>\n",
       "      <td>A</td>\n",
       "      <td>0</td>\n",
       "    </tr>\n",
       "    <tr>\n",
       "      <th>1</th>\n",
       "      <td>5723133</td>\n",
       "      <td>0.0</td>\n",
       "      <td>A</td>\n",
       "      <td>0</td>\n",
       "    </tr>\n",
       "    <tr>\n",
       "      <th>3</th>\n",
       "      <td>4238589</td>\n",
       "      <td>0.0</td>\n",
       "      <td>A</td>\n",
       "      <td>0</td>\n",
       "    </tr>\n",
       "    <tr>\n",
       "      <th>7</th>\n",
       "      <td>1394612</td>\n",
       "      <td>0.0</td>\n",
       "      <td>A</td>\n",
       "      <td>0</td>\n",
       "    </tr>\n",
       "    <tr>\n",
       "      <th>21</th>\n",
       "      <td>5194768</td>\n",
       "      <td>0.0</td>\n",
       "      <td>A</td>\n",
       "      <td>0</td>\n",
       "    </tr>\n",
       "    <tr>\n",
       "      <th>...</th>\n",
       "      <td>...</td>\n",
       "      <td>...</td>\n",
       "      <td>...</td>\n",
       "      <td>...</td>\n",
       "    </tr>\n",
       "    <tr>\n",
       "      <th>8317</th>\n",
       "      <td>3208984</td>\n",
       "      <td>0.0</td>\n",
       "      <td>A</td>\n",
       "      <td>0</td>\n",
       "    </tr>\n",
       "    <tr>\n",
       "      <th>8320</th>\n",
       "      <td>2900558</td>\n",
       "      <td>0.0</td>\n",
       "      <td>A</td>\n",
       "      <td>0</td>\n",
       "    </tr>\n",
       "    <tr>\n",
       "      <th>8326</th>\n",
       "      <td>1161774</td>\n",
       "      <td>0.0</td>\n",
       "      <td>A</td>\n",
       "      <td>0</td>\n",
       "    </tr>\n",
       "    <tr>\n",
       "      <th>8330</th>\n",
       "      <td>5006972</td>\n",
       "      <td>0.0</td>\n",
       "      <td>A</td>\n",
       "      <td>0</td>\n",
       "    </tr>\n",
       "    <tr>\n",
       "      <th>8334</th>\n",
       "      <td>4037274</td>\n",
       "      <td>0.0</td>\n",
       "      <td>A</td>\n",
       "      <td>0</td>\n",
       "    </tr>\n",
       "  </tbody>\n",
       "</table>\n",
       "<p>1538 rows × 4 columns</p>\n",
       "</div>"
      ],
      "text/plain": [
       "           id  rev grp  payment\n",
       "0      581585  0.0   A        0\n",
       "1     5723133  0.0   A        0\n",
       "3     4238589  0.0   A        0\n",
       "7     1394612  0.0   A        0\n",
       "21    5194768  0.0   A        0\n",
       "...       ...  ...  ..      ...\n",
       "8317  3208984  0.0   A        0\n",
       "8320  2900558  0.0   A        0\n",
       "8326  1161774  0.0   A        0\n",
       "8330  5006972  0.0   A        0\n",
       "8334  4037274  0.0   A        0\n",
       "\n",
       "[1538 rows x 4 columns]"
      ]
     },
     "execution_count": 23,
     "metadata": {},
     "output_type": "execute_result"
    }
   ],
   "source": [
    "# группа А\n",
    "a_group=active_all.query('grp==\"A\"')\n",
    "a_group"
   ]
  },
  {
   "cell_type": "code",
   "execution_count": 24,
   "metadata": {},
   "outputs": [
    {
     "data": {
      "text/html": [
       "<div>\n",
       "<style scoped>\n",
       "    .dataframe tbody tr th:only-of-type {\n",
       "        vertical-align: middle;\n",
       "    }\n",
       "\n",
       "    .dataframe tbody tr th {\n",
       "        vertical-align: top;\n",
       "    }\n",
       "\n",
       "    .dataframe thead th {\n",
       "        text-align: right;\n",
       "    }\n",
       "</style>\n",
       "<table border=\"1\" class=\"dataframe\">\n",
       "  <thead>\n",
       "    <tr style=\"text-align: right;\">\n",
       "      <th></th>\n",
       "      <th>id</th>\n",
       "      <th>rev</th>\n",
       "      <th>grp</th>\n",
       "      <th>payment</th>\n",
       "    </tr>\n",
       "  </thead>\n",
       "  <tbody>\n",
       "    <tr>\n",
       "      <th>2</th>\n",
       "      <td>3276743</td>\n",
       "      <td>0.0</td>\n",
       "      <td>B</td>\n",
       "      <td>0</td>\n",
       "    </tr>\n",
       "    <tr>\n",
       "      <th>4</th>\n",
       "      <td>4475369</td>\n",
       "      <td>0.0</td>\n",
       "      <td>B</td>\n",
       "      <td>0</td>\n",
       "    </tr>\n",
       "    <tr>\n",
       "      <th>5</th>\n",
       "      <td>5481015</td>\n",
       "      <td>0.0</td>\n",
       "      <td>B</td>\n",
       "      <td>0</td>\n",
       "    </tr>\n",
       "    <tr>\n",
       "      <th>6</th>\n",
       "      <td>1353433</td>\n",
       "      <td>0.0</td>\n",
       "      <td>B</td>\n",
       "      <td>0</td>\n",
       "    </tr>\n",
       "    <tr>\n",
       "      <th>8</th>\n",
       "      <td>1170611</td>\n",
       "      <td>0.0</td>\n",
       "      <td>B</td>\n",
       "      <td>0</td>\n",
       "    </tr>\n",
       "    <tr>\n",
       "      <th>...</th>\n",
       "      <td>...</td>\n",
       "      <td>...</td>\n",
       "      <td>...</td>\n",
       "      <td>...</td>\n",
       "    </tr>\n",
       "    <tr>\n",
       "      <th>8336</th>\n",
       "      <td>1794344</td>\n",
       "      <td>0.0</td>\n",
       "      <td>B</td>\n",
       "      <td>0</td>\n",
       "    </tr>\n",
       "    <tr>\n",
       "      <th>8337</th>\n",
       "      <td>296883</td>\n",
       "      <td>0.0</td>\n",
       "      <td>B</td>\n",
       "      <td>0</td>\n",
       "    </tr>\n",
       "    <tr>\n",
       "      <th>8338</th>\n",
       "      <td>3598448</td>\n",
       "      <td>0.0</td>\n",
       "      <td>B</td>\n",
       "      <td>0</td>\n",
       "    </tr>\n",
       "    <tr>\n",
       "      <th>8339</th>\n",
       "      <td>3610547</td>\n",
       "      <td>290.0</td>\n",
       "      <td>B</td>\n",
       "      <td>1</td>\n",
       "    </tr>\n",
       "    <tr>\n",
       "      <th>8340</th>\n",
       "      <td>205705</td>\n",
       "      <td>0.0</td>\n",
       "      <td>B</td>\n",
       "      <td>0</td>\n",
       "    </tr>\n",
       "  </tbody>\n",
       "</table>\n",
       "<p>6803 rows × 4 columns</p>\n",
       "</div>"
      ],
      "text/plain": [
       "           id    rev grp  payment\n",
       "2     3276743    0.0   B        0\n",
       "4     4475369    0.0   B        0\n",
       "5     5481015    0.0   B        0\n",
       "6     1353433    0.0   B        0\n",
       "8     1170611    0.0   B        0\n",
       "...       ...    ...  ..      ...\n",
       "8336  1794344    0.0   B        0\n",
       "8337   296883    0.0   B        0\n",
       "8338  3598448    0.0   B        0\n",
       "8339  3610547  290.0   B        1\n",
       "8340   205705    0.0   B        0\n",
       "\n",
       "[6803 rows x 4 columns]"
      ]
     },
     "execution_count": 24,
     "metadata": {},
     "output_type": "execute_result"
    }
   ],
   "source": [
    "# группа B\n",
    "b_group=active_all.query('grp==\"B\"')\n",
    "b_group"
   ]
  },
  {
   "cell_type": "code",
   "execution_count": 25,
   "metadata": {},
   "outputs": [
    {
     "data": {
      "text/html": [
       "<div>\n",
       "<style scoped>\n",
       "    .dataframe tbody tr th:only-of-type {\n",
       "        vertical-align: middle;\n",
       "    }\n",
       "\n",
       "    .dataframe tbody tr th {\n",
       "        vertical-align: top;\n",
       "    }\n",
       "\n",
       "    .dataframe thead th {\n",
       "        text-align: right;\n",
       "    }\n",
       "</style>\n",
       "<table border=\"1\" class=\"dataframe\">\n",
       "  <thead>\n",
       "    <tr style=\"text-align: right;\">\n",
       "      <th></th>\n",
       "      <th>id</th>\n",
       "      <th>rev</th>\n",
       "      <th>grp</th>\n",
       "      <th>payment</th>\n",
       "    </tr>\n",
       "  </thead>\n",
       "  <tbody>\n",
       "    <tr>\n",
       "      <th>62</th>\n",
       "      <td>1184303</td>\n",
       "      <td>1530.0000</td>\n",
       "      <td>A</td>\n",
       "      <td>1</td>\n",
       "    </tr>\n",
       "    <tr>\n",
       "      <th>67</th>\n",
       "      <td>3354191</td>\n",
       "      <td>1900.0001</td>\n",
       "      <td>B</td>\n",
       "      <td>1</td>\n",
       "    </tr>\n",
       "    <tr>\n",
       "      <th>77</th>\n",
       "      <td>3278734</td>\n",
       "      <td>1900.0000</td>\n",
       "      <td>B</td>\n",
       "      <td>1</td>\n",
       "    </tr>\n",
       "    <tr>\n",
       "      <th>99</th>\n",
       "      <td>720651</td>\n",
       "      <td>1980.0000</td>\n",
       "      <td>A</td>\n",
       "      <td>1</td>\n",
       "    </tr>\n",
       "    <tr>\n",
       "      <th>193</th>\n",
       "      <td>1232221</td>\n",
       "      <td>1900.0000</td>\n",
       "      <td>B</td>\n",
       "      <td>1</td>\n",
       "    </tr>\n",
       "    <tr>\n",
       "      <th>...</th>\n",
       "      <td>...</td>\n",
       "      <td>...</td>\n",
       "      <td>...</td>\n",
       "      <td>...</td>\n",
       "    </tr>\n",
       "    <tr>\n",
       "      <th>8201</th>\n",
       "      <td>3890326</td>\n",
       "      <td>199.0000</td>\n",
       "      <td>B</td>\n",
       "      <td>1</td>\n",
       "    </tr>\n",
       "    <tr>\n",
       "      <th>8204</th>\n",
       "      <td>1390994</td>\n",
       "      <td>398.0000</td>\n",
       "      <td>A</td>\n",
       "      <td>1</td>\n",
       "    </tr>\n",
       "    <tr>\n",
       "      <th>8263</th>\n",
       "      <td>1516339</td>\n",
       "      <td>290.0000</td>\n",
       "      <td>A</td>\n",
       "      <td>1</td>\n",
       "    </tr>\n",
       "    <tr>\n",
       "      <th>8277</th>\n",
       "      <td>3910596</td>\n",
       "      <td>597.0000</td>\n",
       "      <td>B</td>\n",
       "      <td>1</td>\n",
       "    </tr>\n",
       "    <tr>\n",
       "      <th>8339</th>\n",
       "      <td>3610547</td>\n",
       "      <td>290.0000</td>\n",
       "      <td>B</td>\n",
       "      <td>1</td>\n",
       "    </tr>\n",
       "  </tbody>\n",
       "</table>\n",
       "<p>392 rows × 4 columns</p>\n",
       "</div>"
      ],
      "text/plain": [
       "           id        rev grp  payment\n",
       "62    1184303  1530.0000   A        1\n",
       "67    3354191  1900.0001   B        1\n",
       "77    3278734  1900.0000   B        1\n",
       "99     720651  1980.0000   A        1\n",
       "193   1232221  1900.0000   B        1\n",
       "...       ...        ...  ..      ...\n",
       "8201  3890326   199.0000   B        1\n",
       "8204  1390994   398.0000   A        1\n",
       "8263  1516339   290.0000   A        1\n",
       "8277  3910596   597.0000   B        1\n",
       "8339  3610547   290.0000   B        1\n",
       "\n",
       "[392 rows x 4 columns]"
      ]
     },
     "execution_count": 25,
     "metadata": {},
     "output_type": "execute_result"
    }
   ],
   "source": [
    "# Активные и оплатившие\n",
    "active_paid=active_all.query('rev>0')\n",
    "active_paid"
   ]
  },
  {
   "cell_type": "code",
   "execution_count": 26,
   "metadata": {},
   "outputs": [
    {
     "data": {
      "text/html": [
       "<div>\n",
       "<style scoped>\n",
       "    .dataframe tbody tr th:only-of-type {\n",
       "        vertical-align: middle;\n",
       "    }\n",
       "\n",
       "    .dataframe tbody tr th {\n",
       "        vertical-align: top;\n",
       "    }\n",
       "\n",
       "    .dataframe thead th {\n",
       "        text-align: right;\n",
       "    }\n",
       "</style>\n",
       "<table border=\"1\" class=\"dataframe\">\n",
       "  <thead>\n",
       "    <tr style=\"text-align: right;\">\n",
       "      <th></th>\n",
       "      <th>id</th>\n",
       "      <th>rev</th>\n",
       "      <th>grp</th>\n",
       "      <th>payment</th>\n",
       "    </tr>\n",
       "  </thead>\n",
       "  <tbody>\n",
       "    <tr>\n",
       "      <th>62</th>\n",
       "      <td>1184303</td>\n",
       "      <td>1530.0</td>\n",
       "      <td>A</td>\n",
       "      <td>1</td>\n",
       "    </tr>\n",
       "    <tr>\n",
       "      <th>99</th>\n",
       "      <td>720651</td>\n",
       "      <td>1980.0</td>\n",
       "      <td>A</td>\n",
       "      <td>1</td>\n",
       "    </tr>\n",
       "    <tr>\n",
       "      <th>306</th>\n",
       "      <td>4337103</td>\n",
       "      <td>580.0</td>\n",
       "      <td>A</td>\n",
       "      <td>1</td>\n",
       "    </tr>\n",
       "    <tr>\n",
       "      <th>392</th>\n",
       "      <td>332387</td>\n",
       "      <td>2910.0</td>\n",
       "      <td>A</td>\n",
       "      <td>1</td>\n",
       "    </tr>\n",
       "    <tr>\n",
       "      <th>439</th>\n",
       "      <td>1659434</td>\n",
       "      <td>690.0</td>\n",
       "      <td>A</td>\n",
       "      <td>1</td>\n",
       "    </tr>\n",
       "    <tr>\n",
       "      <th>...</th>\n",
       "      <td>...</td>\n",
       "      <td>...</td>\n",
       "      <td>...</td>\n",
       "      <td>...</td>\n",
       "    </tr>\n",
       "    <tr>\n",
       "      <th>7950</th>\n",
       "      <td>445767</td>\n",
       "      <td>3660.0</td>\n",
       "      <td>A</td>\n",
       "      <td>1</td>\n",
       "    </tr>\n",
       "    <tr>\n",
       "      <th>8025</th>\n",
       "      <td>1202202</td>\n",
       "      <td>2910.0</td>\n",
       "      <td>A</td>\n",
       "      <td>1</td>\n",
       "    </tr>\n",
       "    <tr>\n",
       "      <th>8027</th>\n",
       "      <td>2306271</td>\n",
       "      <td>290.0</td>\n",
       "      <td>A</td>\n",
       "      <td>1</td>\n",
       "    </tr>\n",
       "    <tr>\n",
       "      <th>8204</th>\n",
       "      <td>1390994</td>\n",
       "      <td>398.0</td>\n",
       "      <td>A</td>\n",
       "      <td>1</td>\n",
       "    </tr>\n",
       "    <tr>\n",
       "      <th>8263</th>\n",
       "      <td>1516339</td>\n",
       "      <td>290.0</td>\n",
       "      <td>A</td>\n",
       "      <td>1</td>\n",
       "    </tr>\n",
       "  </tbody>\n",
       "</table>\n",
       "<p>78 rows × 4 columns</p>\n",
       "</div>"
      ],
      "text/plain": [
       "           id     rev grp  payment\n",
       "62    1184303  1530.0   A        1\n",
       "99     720651  1980.0   A        1\n",
       "306   4337103   580.0   A        1\n",
       "392    332387  2910.0   A        1\n",
       "439   1659434   690.0   A        1\n",
       "...       ...     ...  ..      ...\n",
       "7950   445767  3660.0   A        1\n",
       "8025  1202202  2910.0   A        1\n",
       "8027  2306271   290.0   A        1\n",
       "8204  1390994   398.0   A        1\n",
       "8263  1516339   290.0   A        1\n",
       "\n",
       "[78 rows x 4 columns]"
      ]
     },
     "execution_count": 26,
     "metadata": {},
     "output_type": "execute_result"
    }
   ],
   "source": [
    "# Активные и оплатившие в группе А\n",
    "a_group_paid=a_group.query('payment==1')\n",
    "a_group_paid"
   ]
  },
  {
   "cell_type": "code",
   "execution_count": 27,
   "metadata": {},
   "outputs": [
    {
     "data": {
      "text/html": [
       "<div>\n",
       "<style scoped>\n",
       "    .dataframe tbody tr th:only-of-type {\n",
       "        vertical-align: middle;\n",
       "    }\n",
       "\n",
       "    .dataframe tbody tr th {\n",
       "        vertical-align: top;\n",
       "    }\n",
       "\n",
       "    .dataframe thead th {\n",
       "        text-align: right;\n",
       "    }\n",
       "</style>\n",
       "<table border=\"1\" class=\"dataframe\">\n",
       "  <thead>\n",
       "    <tr style=\"text-align: right;\">\n",
       "      <th></th>\n",
       "      <th>id</th>\n",
       "      <th>rev</th>\n",
       "      <th>grp</th>\n",
       "      <th>payment</th>\n",
       "    </tr>\n",
       "  </thead>\n",
       "  <tbody>\n",
       "    <tr>\n",
       "      <th>67</th>\n",
       "      <td>3354191</td>\n",
       "      <td>1900.0001</td>\n",
       "      <td>B</td>\n",
       "      <td>1</td>\n",
       "    </tr>\n",
       "    <tr>\n",
       "      <th>77</th>\n",
       "      <td>3278734</td>\n",
       "      <td>1900.0000</td>\n",
       "      <td>B</td>\n",
       "      <td>1</td>\n",
       "    </tr>\n",
       "    <tr>\n",
       "      <th>193</th>\n",
       "      <td>1232221</td>\n",
       "      <td>1900.0000</td>\n",
       "      <td>B</td>\n",
       "      <td>1</td>\n",
       "    </tr>\n",
       "    <tr>\n",
       "      <th>195</th>\n",
       "      <td>3821501</td>\n",
       "      <td>1900.0000</td>\n",
       "      <td>B</td>\n",
       "      <td>1</td>\n",
       "    </tr>\n",
       "    <tr>\n",
       "      <th>211</th>\n",
       "      <td>1036096</td>\n",
       "      <td>1900.0000</td>\n",
       "      <td>B</td>\n",
       "      <td>1</td>\n",
       "    </tr>\n",
       "    <tr>\n",
       "      <th>...</th>\n",
       "      <td>...</td>\n",
       "      <td>...</td>\n",
       "      <td>...</td>\n",
       "      <td>...</td>\n",
       "    </tr>\n",
       "    <tr>\n",
       "      <th>8109</th>\n",
       "      <td>2692209</td>\n",
       "      <td>1900.0001</td>\n",
       "      <td>B</td>\n",
       "      <td>1</td>\n",
       "    </tr>\n",
       "    <tr>\n",
       "      <th>8191</th>\n",
       "      <td>2081846</td>\n",
       "      <td>1900.0000</td>\n",
       "      <td>B</td>\n",
       "      <td>1</td>\n",
       "    </tr>\n",
       "    <tr>\n",
       "      <th>8201</th>\n",
       "      <td>3890326</td>\n",
       "      <td>199.0000</td>\n",
       "      <td>B</td>\n",
       "      <td>1</td>\n",
       "    </tr>\n",
       "    <tr>\n",
       "      <th>8277</th>\n",
       "      <td>3910596</td>\n",
       "      <td>597.0000</td>\n",
       "      <td>B</td>\n",
       "      <td>1</td>\n",
       "    </tr>\n",
       "    <tr>\n",
       "      <th>8339</th>\n",
       "      <td>3610547</td>\n",
       "      <td>290.0000</td>\n",
       "      <td>B</td>\n",
       "      <td>1</td>\n",
       "    </tr>\n",
       "  </tbody>\n",
       "</table>\n",
       "<p>314 rows × 4 columns</p>\n",
       "</div>"
      ],
      "text/plain": [
       "           id        rev grp  payment\n",
       "67    3354191  1900.0001   B        1\n",
       "77    3278734  1900.0000   B        1\n",
       "193   1232221  1900.0000   B        1\n",
       "195   3821501  1900.0000   B        1\n",
       "211   1036096  1900.0000   B        1\n",
       "...       ...        ...  ..      ...\n",
       "8109  2692209  1900.0001   B        1\n",
       "8191  2081846  1900.0000   B        1\n",
       "8201  3890326   199.0000   B        1\n",
       "8277  3910596   597.0000   B        1\n",
       "8339  3610547   290.0000   B        1\n",
       "\n",
       "[314 rows x 4 columns]"
      ]
     },
     "execution_count": 27,
     "metadata": {},
     "output_type": "execute_result"
    }
   ],
   "source": [
    "# Активные и оплaтившие в группе B\n",
    "b_group_paid=b_group.query('payment==1')\n",
    "b_group_paid"
   ]
  },
  {
   "cell_type": "code",
   "execution_count": 28,
   "metadata": {},
   "outputs": [
    {
     "data": {
      "text/html": [
       "<div>\n",
       "<style scoped>\n",
       "    .dataframe tbody tr th:only-of-type {\n",
       "        vertical-align: middle;\n",
       "    }\n",
       "\n",
       "    .dataframe tbody tr th {\n",
       "        vertical-align: top;\n",
       "    }\n",
       "\n",
       "    .dataframe thead th {\n",
       "        text-align: right;\n",
       "    }\n",
       "</style>\n",
       "<table border=\"1\" class=\"dataframe\">\n",
       "  <thead>\n",
       "    <tr style=\"text-align: right;\">\n",
       "      <th></th>\n",
       "      <th>id</th>\n",
       "      <th>rev</th>\n",
       "      <th>grp</th>\n",
       "      <th>payment</th>\n",
       "    </tr>\n",
       "  </thead>\n",
       "  <tbody>\n",
       "    <tr>\n",
       "      <th>0</th>\n",
       "      <td>581585</td>\n",
       "      <td>0.0</td>\n",
       "      <td>A</td>\n",
       "      <td>0</td>\n",
       "    </tr>\n",
       "    <tr>\n",
       "      <th>1</th>\n",
       "      <td>5723133</td>\n",
       "      <td>0.0</td>\n",
       "      <td>A</td>\n",
       "      <td>0</td>\n",
       "    </tr>\n",
       "    <tr>\n",
       "      <th>2</th>\n",
       "      <td>3276743</td>\n",
       "      <td>0.0</td>\n",
       "      <td>B</td>\n",
       "      <td>0</td>\n",
       "    </tr>\n",
       "    <tr>\n",
       "      <th>3</th>\n",
       "      <td>4238589</td>\n",
       "      <td>0.0</td>\n",
       "      <td>A</td>\n",
       "      <td>0</td>\n",
       "    </tr>\n",
       "    <tr>\n",
       "      <th>4</th>\n",
       "      <td>4475369</td>\n",
       "      <td>0.0</td>\n",
       "      <td>B</td>\n",
       "      <td>0</td>\n",
       "    </tr>\n",
       "    <tr>\n",
       "      <th>...</th>\n",
       "      <td>...</td>\n",
       "      <td>...</td>\n",
       "      <td>...</td>\n",
       "      <td>...</td>\n",
       "    </tr>\n",
       "    <tr>\n",
       "      <th>8335</th>\n",
       "      <td>264371</td>\n",
       "      <td>0.0</td>\n",
       "      <td>B</td>\n",
       "      <td>0</td>\n",
       "    </tr>\n",
       "    <tr>\n",
       "      <th>8336</th>\n",
       "      <td>1794344</td>\n",
       "      <td>0.0</td>\n",
       "      <td>B</td>\n",
       "      <td>0</td>\n",
       "    </tr>\n",
       "    <tr>\n",
       "      <th>8337</th>\n",
       "      <td>296883</td>\n",
       "      <td>0.0</td>\n",
       "      <td>B</td>\n",
       "      <td>0</td>\n",
       "    </tr>\n",
       "    <tr>\n",
       "      <th>8338</th>\n",
       "      <td>3598448</td>\n",
       "      <td>0.0</td>\n",
       "      <td>B</td>\n",
       "      <td>0</td>\n",
       "    </tr>\n",
       "    <tr>\n",
       "      <th>8340</th>\n",
       "      <td>205705</td>\n",
       "      <td>0.0</td>\n",
       "      <td>B</td>\n",
       "      <td>0</td>\n",
       "    </tr>\n",
       "  </tbody>\n",
       "</table>\n",
       "<p>7949 rows × 4 columns</p>\n",
       "</div>"
      ],
      "text/plain": [
       "           id  rev grp  payment\n",
       "0      581585  0.0   A        0\n",
       "1     5723133  0.0   A        0\n",
       "2     3276743  0.0   B        0\n",
       "3     4238589  0.0   A        0\n",
       "4     4475369  0.0   B        0\n",
       "...       ...  ...  ..      ...\n",
       "8335   264371  0.0   B        0\n",
       "8336  1794344  0.0   B        0\n",
       "8337   296883  0.0   B        0\n",
       "8338  3598448  0.0   B        0\n",
       "8340   205705  0.0   B        0\n",
       "\n",
       "[7949 rows x 4 columns]"
      ]
     },
     "execution_count": 28,
     "metadata": {},
     "output_type": "execute_result"
    }
   ],
   "source": [
    "# Активные и не оплатившие\n",
    "active_not_paid=active_all.query('rev==0')\n",
    "active_not_paid"
   ]
  },
  {
   "cell_type": "code",
   "execution_count": 29,
   "metadata": {},
   "outputs": [
    {
     "data": {
      "text/html": [
       "<div>\n",
       "<style scoped>\n",
       "    .dataframe tbody tr th:only-of-type {\n",
       "        vertical-align: middle;\n",
       "    }\n",
       "\n",
       "    .dataframe tbody tr th {\n",
       "        vertical-align: top;\n",
       "    }\n",
       "\n",
       "    .dataframe thead th {\n",
       "        text-align: right;\n",
       "    }\n",
       "</style>\n",
       "<table border=\"1\" class=\"dataframe\">\n",
       "  <thead>\n",
       "    <tr style=\"text-align: right;\">\n",
       "      <th></th>\n",
       "      <th>id</th>\n",
       "      <th>rev</th>\n",
       "      <th>grp</th>\n",
       "      <th>payment</th>\n",
       "    </tr>\n",
       "  </thead>\n",
       "  <tbody>\n",
       "    <tr>\n",
       "      <th>0</th>\n",
       "      <td>581585</td>\n",
       "      <td>0.0</td>\n",
       "      <td>A</td>\n",
       "      <td>0</td>\n",
       "    </tr>\n",
       "    <tr>\n",
       "      <th>1</th>\n",
       "      <td>5723133</td>\n",
       "      <td>0.0</td>\n",
       "      <td>A</td>\n",
       "      <td>0</td>\n",
       "    </tr>\n",
       "    <tr>\n",
       "      <th>3</th>\n",
       "      <td>4238589</td>\n",
       "      <td>0.0</td>\n",
       "      <td>A</td>\n",
       "      <td>0</td>\n",
       "    </tr>\n",
       "    <tr>\n",
       "      <th>7</th>\n",
       "      <td>1394612</td>\n",
       "      <td>0.0</td>\n",
       "      <td>A</td>\n",
       "      <td>0</td>\n",
       "    </tr>\n",
       "    <tr>\n",
       "      <th>21</th>\n",
       "      <td>5194768</td>\n",
       "      <td>0.0</td>\n",
       "      <td>A</td>\n",
       "      <td>0</td>\n",
       "    </tr>\n",
       "    <tr>\n",
       "      <th>...</th>\n",
       "      <td>...</td>\n",
       "      <td>...</td>\n",
       "      <td>...</td>\n",
       "      <td>...</td>\n",
       "    </tr>\n",
       "    <tr>\n",
       "      <th>8317</th>\n",
       "      <td>3208984</td>\n",
       "      <td>0.0</td>\n",
       "      <td>A</td>\n",
       "      <td>0</td>\n",
       "    </tr>\n",
       "    <tr>\n",
       "      <th>8320</th>\n",
       "      <td>2900558</td>\n",
       "      <td>0.0</td>\n",
       "      <td>A</td>\n",
       "      <td>0</td>\n",
       "    </tr>\n",
       "    <tr>\n",
       "      <th>8326</th>\n",
       "      <td>1161774</td>\n",
       "      <td>0.0</td>\n",
       "      <td>A</td>\n",
       "      <td>0</td>\n",
       "    </tr>\n",
       "    <tr>\n",
       "      <th>8330</th>\n",
       "      <td>5006972</td>\n",
       "      <td>0.0</td>\n",
       "      <td>A</td>\n",
       "      <td>0</td>\n",
       "    </tr>\n",
       "    <tr>\n",
       "      <th>8334</th>\n",
       "      <td>4037274</td>\n",
       "      <td>0.0</td>\n",
       "      <td>A</td>\n",
       "      <td>0</td>\n",
       "    </tr>\n",
       "  </tbody>\n",
       "</table>\n",
       "<p>1460 rows × 4 columns</p>\n",
       "</div>"
      ],
      "text/plain": [
       "           id  rev grp  payment\n",
       "0      581585  0.0   A        0\n",
       "1     5723133  0.0   A        0\n",
       "3     4238589  0.0   A        0\n",
       "7     1394612  0.0   A        0\n",
       "21    5194768  0.0   A        0\n",
       "...       ...  ...  ..      ...\n",
       "8317  3208984  0.0   A        0\n",
       "8320  2900558  0.0   A        0\n",
       "8326  1161774  0.0   A        0\n",
       "8330  5006972  0.0   A        0\n",
       "8334  4037274  0.0   A        0\n",
       "\n",
       "[1460 rows x 4 columns]"
      ]
     },
     "execution_count": 29,
     "metadata": {},
     "output_type": "execute_result"
    }
   ],
   "source": [
    "# Активные и не оплатившие в группе А\n",
    "a_group_not_paid=a_group.query('payment==0')\n",
    "a_group_not_paid"
   ]
  },
  {
   "cell_type": "code",
   "execution_count": 30,
   "metadata": {},
   "outputs": [
    {
     "data": {
      "text/html": [
       "<div>\n",
       "<style scoped>\n",
       "    .dataframe tbody tr th:only-of-type {\n",
       "        vertical-align: middle;\n",
       "    }\n",
       "\n",
       "    .dataframe tbody tr th {\n",
       "        vertical-align: top;\n",
       "    }\n",
       "\n",
       "    .dataframe thead th {\n",
       "        text-align: right;\n",
       "    }\n",
       "</style>\n",
       "<table border=\"1\" class=\"dataframe\">\n",
       "  <thead>\n",
       "    <tr style=\"text-align: right;\">\n",
       "      <th></th>\n",
       "      <th>id</th>\n",
       "      <th>rev</th>\n",
       "      <th>grp</th>\n",
       "      <th>payment</th>\n",
       "    </tr>\n",
       "  </thead>\n",
       "  <tbody>\n",
       "    <tr>\n",
       "      <th>2</th>\n",
       "      <td>3276743</td>\n",
       "      <td>0.0</td>\n",
       "      <td>B</td>\n",
       "      <td>0</td>\n",
       "    </tr>\n",
       "    <tr>\n",
       "      <th>4</th>\n",
       "      <td>4475369</td>\n",
       "      <td>0.0</td>\n",
       "      <td>B</td>\n",
       "      <td>0</td>\n",
       "    </tr>\n",
       "    <tr>\n",
       "      <th>5</th>\n",
       "      <td>5481015</td>\n",
       "      <td>0.0</td>\n",
       "      <td>B</td>\n",
       "      <td>0</td>\n",
       "    </tr>\n",
       "    <tr>\n",
       "      <th>6</th>\n",
       "      <td>1353433</td>\n",
       "      <td>0.0</td>\n",
       "      <td>B</td>\n",
       "      <td>0</td>\n",
       "    </tr>\n",
       "    <tr>\n",
       "      <th>8</th>\n",
       "      <td>1170611</td>\n",
       "      <td>0.0</td>\n",
       "      <td>B</td>\n",
       "      <td>0</td>\n",
       "    </tr>\n",
       "    <tr>\n",
       "      <th>...</th>\n",
       "      <td>...</td>\n",
       "      <td>...</td>\n",
       "      <td>...</td>\n",
       "      <td>...</td>\n",
       "    </tr>\n",
       "    <tr>\n",
       "      <th>8335</th>\n",
       "      <td>264371</td>\n",
       "      <td>0.0</td>\n",
       "      <td>B</td>\n",
       "      <td>0</td>\n",
       "    </tr>\n",
       "    <tr>\n",
       "      <th>8336</th>\n",
       "      <td>1794344</td>\n",
       "      <td>0.0</td>\n",
       "      <td>B</td>\n",
       "      <td>0</td>\n",
       "    </tr>\n",
       "    <tr>\n",
       "      <th>8337</th>\n",
       "      <td>296883</td>\n",
       "      <td>0.0</td>\n",
       "      <td>B</td>\n",
       "      <td>0</td>\n",
       "    </tr>\n",
       "    <tr>\n",
       "      <th>8338</th>\n",
       "      <td>3598448</td>\n",
       "      <td>0.0</td>\n",
       "      <td>B</td>\n",
       "      <td>0</td>\n",
       "    </tr>\n",
       "    <tr>\n",
       "      <th>8340</th>\n",
       "      <td>205705</td>\n",
       "      <td>0.0</td>\n",
       "      <td>B</td>\n",
       "      <td>0</td>\n",
       "    </tr>\n",
       "  </tbody>\n",
       "</table>\n",
       "<p>6489 rows × 4 columns</p>\n",
       "</div>"
      ],
      "text/plain": [
       "           id  rev grp  payment\n",
       "2     3276743  0.0   B        0\n",
       "4     4475369  0.0   B        0\n",
       "5     5481015  0.0   B        0\n",
       "6     1353433  0.0   B        0\n",
       "8     1170611  0.0   B        0\n",
       "...       ...  ...  ..      ...\n",
       "8335   264371  0.0   B        0\n",
       "8336  1794344  0.0   B        0\n",
       "8337   296883  0.0   B        0\n",
       "8338  3598448  0.0   B        0\n",
       "8340   205705  0.0   B        0\n",
       "\n",
       "[6489 rows x 4 columns]"
      ]
     },
     "execution_count": 30,
     "metadata": {},
     "output_type": "execute_result"
    }
   ],
   "source": [
    "# Активные и не оплатившие в группе B\n",
    "b_group_not_paid=b_group.query('payment==0')\n",
    "b_group_not_paid"
   ]
  },
  {
   "cell_type": "markdown",
   "metadata": {},
   "source": [
    "### Построим распределения по группам и посмотрим информацию для определения метрик"
   ]
  },
  {
   "cell_type": "code",
   "execution_count": 31,
   "metadata": {},
   "outputs": [
    {
     "data": {
      "text/plain": [
       "<matplotlib.axes._subplots.AxesSubplot at 0x7f96aca36390>"
      ]
     },
     "execution_count": 31,
     "metadata": {},
     "output_type": "execute_result"
    },
    {
     "data": {
      "image/png": "[encoded data removed]",
      "text/plain": [
       "<Figure size 432x288 with 1 Axes>"
      ]
     },
     "metadata": {
      "needs_background": "light"
     },
     "output_type": "display_data"
    }
   ],
   "source": [
    "# Распределение А группы\n",
    "a_group.rev.hist(bins=50)"
   ]
  },
  {
   "cell_type": "code",
   "execution_count": 32,
   "metadata": {},
   "outputs": [
    {
     "data": {
      "text/plain": [
       "<matplotlib.axes._subplots.AxesSubplot at 0x7f96ac93f198>"
      ]
     },
     "execution_count": 32,
     "metadata": {},
     "output_type": "execute_result"
    },
    {
     "data": {
      "image/png": "[encoded data removed]",
      "text/plain": [
       "<Figure size 432x288 with 1 Axes>"
      ]
     },
     "metadata": {
      "needs_background": "light"
     },
     "output_type": "display_data"
    }
   ],
   "source": [
    "# Распределение B группы\n",
    "b_group.rev.hist(bins=50)"
   ]
  },
  {
   "cell_type": "code",
   "execution_count": 33,
   "metadata": {},
   "outputs": [
    {
     "data": {
      "text/plain": [
       "<matplotlib.axes._subplots.AxesSubplot at 0x7f96a7d6fcc0>"
      ]
     },
     "execution_count": 33,
     "metadata": {},
     "output_type": "execute_result"
    },
    {
     "data": {
      "image/png": "[encoded data removed]",
      "text/plain": [
       "<Figure size 432x288 with 1 Axes>"
      ]
     },
     "metadata": {
      "needs_background": "light"
     },
     "output_type": "display_data"
    }
   ],
   "source": [
    "# Распределение А группы оплативших\n",
    "a_group_paid.rev.hist(bins=50)"
   ]
  },
  {
   "cell_type": "code",
   "execution_count": 34,
   "metadata": {},
   "outputs": [
    {
     "data": {
      "text/plain": [
       "<matplotlib.axes._subplots.AxesSubplot at 0x7f96a7c68550>"
      ]
     },
     "execution_count": 34,
     "metadata": {},
     "output_type": "execute_result"
    },
    {
     "data": {
      "image/png": "[encoded data removed]",
      "text/plain": [
       "<Figure size 432x288 with 1 Axes>"
      ]
     },
     "metadata": {
      "needs_background": "light"
     },
     "output_type": "display_data"
    }
   ],
   "source": [
    "# Распределение B группы оплативших\n",
    "b_group_paid.rev.hist(bins=50)"
   ]
  },
  {
   "cell_type": "code",
   "execution_count": 35,
   "metadata": {},
   "outputs": [
    {
     "data": {
      "text/plain": [
       "<matplotlib.axes._subplots.AxesSubplot at 0x7f96a7bb5208>"
      ]
     },
     "execution_count": 35,
     "metadata": {},
     "output_type": "execute_result"
    },
    {
     "data": {
      "image/png": "[encoded data removed]",
      "text/plain": [
       "<Figure size 432x288 with 1 Axes>"
      ]
     },
     "metadata": {
      "needs_background": "light"
     },
     "output_type": "display_data"
    }
   ],
   "source": [
    "# Посмотрим на выбросы активных\n",
    "sns.boxplot(data=active_all, y='rev', x='grp')"
   ]
  },
  {
   "cell_type": "code",
   "execution_count": 36,
   "metadata": {},
   "outputs": [
    {
     "data": {
      "text/plain": [
       "<matplotlib.axes._subplots.AxesSubplot at 0x7f96a7b39a20>"
      ]
     },
     "execution_count": 36,
     "metadata": {},
     "output_type": "execute_result"
    },
    {
     "data": {
      "image/png": "[encoded data removed]",
      "text/plain": [
       "<Figure size 432x288 with 1 Axes>"
      ]
     },
     "metadata": {
      "needs_background": "light"
     },
     "output_type": "display_data"
    }
   ],
   "source": [
    "# Посмотрим на выбросы активных оплативших\n",
    "sns.boxplot(data=active_paid, y='rev', x='grp')"
   ]
  },
  {
   "cell_type": "markdown",
   "metadata": {},
   "source": [
    "Рассмотрим описательные характеристики по группам"
   ]
  },
  {
   "cell_type": "code",
   "execution_count": 37,
   "metadata": {},
   "outputs": [
    {
     "data": {
      "text/html": [
       "<div>\n",
       "<style scoped>\n",
       "    .dataframe tbody tr th:only-of-type {\n",
       "        vertical-align: middle;\n",
       "    }\n",
       "\n",
       "    .dataframe tbody tr th {\n",
       "        vertical-align: top;\n",
       "    }\n",
       "\n",
       "    .dataframe thead th {\n",
       "        text-align: right;\n",
       "    }\n",
       "</style>\n",
       "<table border=\"1\" class=\"dataframe\">\n",
       "  <thead>\n",
       "    <tr style=\"text-align: right;\">\n",
       "      <th></th>\n",
       "      <th>Группа А</th>\n",
       "      <th>Группа В</th>\n",
       "    </tr>\n",
       "  </thead>\n",
       "  <tbody>\n",
       "    <tr>\n",
       "      <th>count</th>\n",
       "      <td>1538.000000</td>\n",
       "      <td>6803.000000</td>\n",
       "    </tr>\n",
       "    <tr>\n",
       "      <th>mean</th>\n",
       "      <td>47.347204</td>\n",
       "      <td>58.058798</td>\n",
       "    </tr>\n",
       "    <tr>\n",
       "      <th>std</th>\n",
       "      <td>290.490632</td>\n",
       "      <td>313.770201</td>\n",
       "    </tr>\n",
       "    <tr>\n",
       "      <th>min</th>\n",
       "      <td>0.000000</td>\n",
       "      <td>0.000000</td>\n",
       "    </tr>\n",
       "    <tr>\n",
       "      <th>25%</th>\n",
       "      <td>0.000000</td>\n",
       "      <td>0.000000</td>\n",
       "    </tr>\n",
       "    <tr>\n",
       "      <th>50%</th>\n",
       "      <td>0.000000</td>\n",
       "      <td>0.000000</td>\n",
       "    </tr>\n",
       "    <tr>\n",
       "      <th>75%</th>\n",
       "      <td>0.000000</td>\n",
       "      <td>0.000000</td>\n",
       "    </tr>\n",
       "    <tr>\n",
       "      <th>max</th>\n",
       "      <td>3660.000000</td>\n",
       "      <td>4650.000000</td>\n",
       "    </tr>\n",
       "  </tbody>\n",
       "</table>\n",
       "</div>"
      ],
      "text/plain": [
       "          Группа А     Группа В\n",
       "count  1538.000000  6803.000000\n",
       "mean     47.347204    58.058798\n",
       "std     290.490632   313.770201\n",
       "min       0.000000     0.000000\n",
       "25%       0.000000     0.000000\n",
       "50%       0.000000     0.000000\n",
       "75%       0.000000     0.000000\n",
       "max    3660.000000  4650.000000"
      ]
     },
     "execution_count": 37,
     "metadata": {},
     "output_type": "execute_result"
    }
   ],
   "source": [
    "# Активные\n",
    "a_group_info = a_group.rev.describe().to_frame().rename(columns={'rev': 'Группа А'})\n",
    "b_group_info = b_group.rev.describe().to_frame().rename(columns={'rev': 'Группа В'})\n",
    "pd.concat([a_group_info, b_group_info], axis=1)"
   ]
  },
  {
   "cell_type": "code",
   "execution_count": 38,
   "metadata": {},
   "outputs": [
    {
     "data": {
      "text/html": [
       "<div>\n",
       "<style scoped>\n",
       "    .dataframe tbody tr th:only-of-type {\n",
       "        vertical-align: middle;\n",
       "    }\n",
       "\n",
       "    .dataframe tbody tr th {\n",
       "        vertical-align: top;\n",
       "    }\n",
       "\n",
       "    .dataframe thead th {\n",
       "        text-align: right;\n",
       "    }\n",
       "</style>\n",
       "<table border=\"1\" class=\"dataframe\">\n",
       "  <thead>\n",
       "    <tr style=\"text-align: right;\">\n",
       "      <th></th>\n",
       "      <th>Группа А</th>\n",
       "      <th>Группа В</th>\n",
       "    </tr>\n",
       "  </thead>\n",
       "  <tbody>\n",
       "    <tr>\n",
       "      <th>count</th>\n",
       "      <td>78.000000</td>\n",
       "      <td>314.000000</td>\n",
       "    </tr>\n",
       "    <tr>\n",
       "      <th>mean</th>\n",
       "      <td>933.589744</td>\n",
       "      <td>1257.878992</td>\n",
       "    </tr>\n",
       "    <tr>\n",
       "      <th>std</th>\n",
       "      <td>919.932711</td>\n",
       "      <td>790.864254</td>\n",
       "    </tr>\n",
       "    <tr>\n",
       "      <th>min</th>\n",
       "      <td>199.000000</td>\n",
       "      <td>199.000000</td>\n",
       "    </tr>\n",
       "    <tr>\n",
       "      <th>25%</th>\n",
       "      <td>290.000000</td>\n",
       "      <td>511.750000</td>\n",
       "    </tr>\n",
       "    <tr>\n",
       "      <th>50%</th>\n",
       "      <td>585.000000</td>\n",
       "      <td>1140.000000</td>\n",
       "    </tr>\n",
       "    <tr>\n",
       "      <th>75%</th>\n",
       "      <td>1114.750000</td>\n",
       "      <td>1900.000000</td>\n",
       "    </tr>\n",
       "    <tr>\n",
       "      <th>max</th>\n",
       "      <td>3660.000000</td>\n",
       "      <td>4650.000000</td>\n",
       "    </tr>\n",
       "  </tbody>\n",
       "</table>\n",
       "</div>"
      ],
      "text/plain": [
       "          Группа А     Группа В\n",
       "count    78.000000   314.000000\n",
       "mean    933.589744  1257.878992\n",
       "std     919.932711   790.864254\n",
       "min     199.000000   199.000000\n",
       "25%     290.000000   511.750000\n",
       "50%     585.000000  1140.000000\n",
       "75%    1114.750000  1900.000000\n",
       "max    3660.000000  4650.000000"
      ]
     },
     "execution_count": 38,
     "metadata": {},
     "output_type": "execute_result"
    }
   ],
   "source": [
    "# Активные и оплатившие\n",
    "a_group_paid_info = a_group_paid.rev.describe().to_frame().rename(columns={'rev': 'Группа А'})\n",
    "b_group_paid_info = b_group_paid.rev.describe().to_frame().rename(columns={'rev': 'Группа В'})\n",
    "pd.concat([a_group_paid_info, b_group_paid_info], axis=1)"
   ]
  },
  {
   "cell_type": "markdown",
   "metadata": {},
   "source": [
    "Проведя исследования представленных данных, можно подвести итог: <br>\n",
    "Среди пользователей есть те пользователи, что заходили на сайт в дни теста - активные и те, кто произвели оплату. Активные пользователи могли совершить платеж, однако среди данных были обнаружены пользователи, что не были активными, но факт оплаты был. Это могли быть автоплатежи или же ошибка. Понять нет возможности, поэтому отложили их в сторону. \n",
    "Из распределения активных пользователей по группа отметим их неравномерность (группа B численно больше, чем группа A). \n",
    "\n",
    "После изучения распределений и описательной статистики по группам выберем метрики для проверки.<br>\n",
    "<li>Для рассмотрения отношения количества оплативших пользователей к общему числу активных пользователей выберем метрику <b> CR </b>, т.е. проверим на сколько отличается коэффициент конверсии между группами при переходе от активных к активным и оплатившим. Там где CR будет выше, там будет преимущество при оплате.\n",
    "<li>Наличие оплаты делает важным показатель средней выручки с одного платящего пользователя, т.е. отношение общей суммы на количество активных оплативших пользователей. Поэтому также выбераем метрику <b> ARPPU </b>.\n",
    "<li>Аналогично для рассмотрения какая группа приносит больше денег выберем отношение общей суммы на количество активных пользователей, т.е. метрику <b> ARPU </b>. В данном случае среднее значение является показателем метрики (средняя выручка с одного платящего пользователя).<br>\n",
    "Т.к. рассматриваем новую механику оплаты, то метрики рассматриваем по группам оплативших."
   ]
  },
  {
   "cell_type": "markdown",
   "metadata": {},
   "source": [
    "### Рассчитаем выбранные метрики"
   ]
  },
  {
   "cell_type": "code",
   "execution_count": 39,
   "metadata": {},
   "outputs": [
    {
     "name": "stdout",
     "output_type": "stream",
     "text": [
      "CR: \n",
      "Группа А: 0.051 \n",
      "Группа B: 0.046\n",
      "Конверсия группы B больше группы A на 9.8%\n"
     ]
    }
   ],
   "source": [
    "CR_A=round(a_group_paid.id.count() / a_group.id.count(), 3)\n",
    "CR_B=round(b_group_paid.id.count() / b_group.id.count(), 3)\n",
    "print(f'CR: \\nГруппа А: {CR_A} \\nГруппа B: {CR_B}')\n",
    "# Конверсия группы B относительно группы А\n",
    "CR=round((round(b_group_paid.id.count() / b_group.id.count(), 3) - round(a_group_paid.id.count() / a_group.id.count(), 3)) / \n",
    "      round(a_group_paid.id.count() / a_group.id.count(), 3), 3) * 100\n",
    "if CR>0:\n",
    "    print(f'Конверсия группы A больше группы B на {CR}%')\n",
    "else:\n",
    "    print(f'Конверсия группы B больше группы A на {abs(CR)}%')"
   ]
  },
  {
   "cell_type": "code",
   "execution_count": 40,
   "metadata": {},
   "outputs": [
    {
     "name": "stdout",
     "output_type": "stream",
     "text": [
      "ARPU: \n",
      "Группа А: 47.35 \n",
      "Группа B: 58.06\n",
      "ARPU группы B больше группы A на 23.0%\n"
     ]
    }
   ],
   "source": [
    "ARPU_A=round(a_group_paid.rev.sum() / a_group.id.count(), 2)\n",
    "ARPU_B=round(b_group_paid.rev.sum() / b_group.id.count(), 2)\n",
    "print(f'ARPU: \\nГруппа А: {ARPU_A} \\nГруппа B: {ARPU_B}')\n",
    "\n",
    "ARPU=round((round(b_group_paid.rev.sum() / b_group.id.count(), 2) - round(a_group_paid.rev.sum() / a_group.id.count(), 2)) /\n",
    "      round(a_group_paid.rev.sum() / a_group.id.count(), 2), 2)*100\n",
    "if ARPU>0:\n",
    "    print(f'ARPU группы B больше группы A на {ARPU}%')\n",
    "else:\n",
    "    print(f'ARPU группы A больше группы B на {abs(ARPU)}%')"
   ]
  },
  {
   "cell_type": "code",
   "execution_count": 41,
   "metadata": {},
   "outputs": [
    {
     "name": "stdout",
     "output_type": "stream",
     "text": [
      "ARPPU: \n",
      "Группа А: 933.59 \n",
      "Группа B: 1257.88\n",
      "ARPPU группы B больше группы A на 35.0%\n"
     ]
    }
   ],
   "source": [
    "ARPPU_A=round(a_group_paid.rev.mean(), 2)\n",
    "ARPPU_B=round(b_group_paid.rev.mean(), 2)\n",
    "print(f'ARPPU: \\nГруппа А: {ARPPU_A} \\nГруппа B: {ARPPU_B}')\n",
    "\n",
    "ARPPU=round(round(b_group_paid.rev.mean() - a_group_paid.rev.mean(), 2) / round(a_group_paid.rev.mean(), 2), 2) * 100\n",
    "if ARPPU>0:\n",
    "    print(f'ARPPU группы B больше группы A на {ARPPU}%')\n",
    "else:\n",
    "    print(f'ARPPU группы A больше группы B на {abs(ARPPU)}%')"
   ]
  },
  {
   "cell_type": "markdown",
   "metadata": {},
   "source": [
    "### Имеются ли различия в показателях и с чем они могут быть связаны?\n",
    "Наблюдаем отрицательный эффект CR, и положительные эффекты в ARPU и ARPPU. Т.е. конверсия падает, но доход на пользователя растёт. Это может быть связано c тем, что средний чек растет, а часть пользователей, платящие малые суммы отсекается.\n",
    "\n",
    "### Являются ли эти различия статистически значимыми?"
   ]
  },
  {
   "cell_type": "code",
   "execution_count": 42,
   "metadata": {},
   "outputs": [],
   "source": [
    "# Функция для bootstrap\n",
    "def get_bootstrap(\n",
    "    data_column_1,\n",
    "    data_column_2,\n",
    "    boot_it=1000,\n",
    "    statistic=np.mean,\n",
    "    bootstrap_conf_level=0.95\n",
    "):\n",
    "    boot_data = []\n",
    "    for i in tqdm(range(boot_it)):\n",
    "        samples_1 = data_column_1.sample(\n",
    "            len(data_column_1), \n",
    "            replace=True\n",
    "        ).values\n",
    "        \n",
    "        samples_2 = data_column_2.sample(\n",
    "            len(data_column_1), \n",
    "            replace=True\n",
    "        ).values\n",
    "        \n",
    "        boot_data.append(statistic(samples_1) - statistic(samples_2))\n",
    "        \n",
    "    pd_boot_data = pd.DataFrame(boot_data)\n",
    "        \n",
    "    left_quant = (1 - bootstrap_conf_level) / 2\n",
    "    right_quant = 1 - (1 - bootstrap_conf_level) / 2\n",
    "    quants = pd_boot_data.quantile([left_quant, right_quant])\n",
    "        \n",
    "    p_1 = norm.cdf(\n",
    "        x=0, \n",
    "        loc=np.mean(boot_data), \n",
    "        scale=np.std(boot_data)\n",
    "    )\n",
    "    p_2 = norm.cdf(\n",
    "        x=0, \n",
    "        loc=-np.mean(boot_data), \n",
    "        scale=np.std(boot_data)\n",
    "    )\n",
    "    p_value = min(p_1, p_2) * 2\n",
    "        \n",
    "    # Визуализация\n",
    "    _, _, bars = plt.hist(pd_boot_data[0], bins=50)\n",
    "    for bar in bars:\n",
    "        if bar.get_x() <= quants.iloc[0][0] or bar.get_x() >= quants.iloc[1][0]:\n",
    "            bar.set_facecolor('red')\n",
    "        else: \n",
    "            bar.set_facecolor('grey')\n",
    "            bar.set_edgecolor('black')\n",
    "    \n",
    "    plt.style.use('ggplot')\n",
    "    plt.vlines(quants, ymin=0, ymax=50, linestyle='--')\n",
    "    plt.xlabel('boot_data')\n",
    "    plt.ylabel('frequency')\n",
    "    plt.title(\"Histogram of boot_data\")\n",
    "    plt.show()\n",
    "       \n",
    "    return {\"quants\": quants, \n",
    "            \"p_value\": p_value}"
   ]
  },
  {
   "cell_type": "markdown",
   "metadata": {},
   "source": [
    "### CR\n",
    "Для рассмотрения конверсии воспользуемся методом хи-квадрат, т.к. можем считать конверсию категориальной переменной\n",
    "\n",
    "H0: Взаимосвязи между группой и статусом оплаты нет <br>\n",
    "H1: Взаимосвязь между группой и статусом есть"
   ]
  },
  {
   "cell_type": "code",
   "execution_count": 71,
   "metadata": {},
   "outputs": [
    {
     "name": "stdout",
     "output_type": "stream",
     "text": [
      "Результат хи-теста: \n",
      " chi_value: 0.48480826522557896   df: 1   p-value: 0.48625240457231045\n"
     ]
    }
   ],
   "source": [
    "# Таблица сопряженности: встречаемость\n",
    "crosstab_table = pd.crosstab(active_all.grp, active_all.payment)\n",
    "\n",
    "# Таблица сопряженности: проценты по всему\n",
    "crosstab_table_percentage = round(pd.crosstab(active_all.grp,\n",
    "                                              active_all.payment,\n",
    "                                              normalize='all'),2)\n",
    "\n",
    "# Хи-тест\n",
    "c, p, dof, expected = chi2_contingency(crosstab_table)\n",
    "print('Результат хи-теста: \\n', 'chi_value:', c, '  df:', dof,'  p-value:', p)"
   ]
  },
  {
   "attachments": {},
   "cell_type": "markdown",
   "metadata": {},
   "source": [
    "Таким образом, результат хи-теста показал:\n",
    "p_value: 0.48 отклоняем альтернативную гипотезу H1: взаимосвязи между Статусом и Группой нет"
   ]
  },
  {
   "attachments": {},
   "cell_type": "markdown",
   "metadata": {},
   "source": [
    "Следующие метрики будем рассматривать методом bootstrap. Отдельно также посмотрим CR методом bootstrap, чтобы подтвердить или опровергнуть ранее полученный результат."
   ]
  },
  {
   "cell_type": "markdown",
   "metadata": {},
   "source": [
    "Для рассмотрения статистической значимости выберем метод bootstrap."
   ]
  },
  {
   "cell_type": "markdown",
   "metadata": {},
   "source": [
    "Сформулируем нулевую и альтернативную гипотезы:\n",
    "\n",
    "<li> H0: CR в двух группах одинаковые.\n",
    "<li> H1: CR в двух группах различаются."
   ]
  },
  {
   "cell_type": "code",
   "execution_count": 43,
   "metadata": {},
   "outputs": [
    {
     "data": {
      "application/vnd.jupyter.widget-view+json": {
       "model_id": "ce40c80f1c7948a7a2ab43bf351bf6aa",
       "version_major": 2,
       "version_minor": 0
      },
      "text/plain": [
       "HBox(children=(FloatProgress(value=0.0, max=1000.0), HTML(value='')))"
      ]
     },
     "metadata": {},
     "output_type": "display_data"
    },
    {
     "name": "stdout",
     "output_type": "stream",
     "text": [
      "\n"
     ]
    },
    {
     "data": {
      "image/png": "[encoded data removed]",
      "text/plain": [
       "<Figure size 432x288 with 1 Axes>"
      ]
     },
     "metadata": {
      "needs_background": "light"
     },
     "output_type": "display_data"
    },
    {
     "data": {
      "text/plain": [
       "{'quants':               0\n",
       " 0.025 -0.011053\n",
       " 0.975  0.020156,\n",
       " 'p_value': 0.5706231995466335}"
      ]
     },
     "execution_count": 43,
     "metadata": {},
     "output_type": "execute_result"
    }
   ],
   "source": [
    "get_bootstrap(a_group.payment, b_group.payment, statistic = np.mean)"
   ]
  },
  {
   "cell_type": "markdown",
   "metadata": {},
   "source": [
    "В доверительный интервал попадает нулевое значение разницы между средними двух групп.\n",
    "\n",
    "p-value > 0.05 говорит о том, что при условии верности нулевой гипотезы о равенстве средних в двух группах вероятность получить такое или еще большее отклонение разницы между средними бутстрап-выборок от 0 составляет более 5%. Значит, мы не имеем весомых оснований отвергнуть нулевую гипотезу.\n",
    "Нельзя утверждать, что различия CR в двух группах есть. Поэтому можно сказать, что ранее рассчитанное отрицательное значения CR не подтвердилось."
   ]
  },
  {
   "cell_type": "markdown",
   "metadata": {},
   "source": [
    "### ARPPU\n",
    "Сформулируем нулевую и альтернативную гипотезы:\n",
    "\n",
    "<li> H0: ARPPU в двух группах одинаковые.\n",
    "<li> H1: ARPPU в двух группах различаются."
   ]
  },
  {
   "cell_type": "code",
   "execution_count": 44,
   "metadata": {},
   "outputs": [
    {
     "data": {
      "application/vnd.jupyter.widget-view+json": {
       "model_id": "e31a524476fd4d15820c89f79ead0be4",
       "version_major": 2,
       "version_minor": 0
      },
      "text/plain": [
       "HBox(children=(FloatProgress(value=0.0, max=1000.0), HTML(value='')))"
      ]
     },
     "metadata": {},
     "output_type": "display_data"
    },
    {
     "name": "stdout",
     "output_type": "stream",
     "text": [
      "\n"
     ]
    },
    {
     "data": {
      "image/png": "[encoded data removed]",
      "text/plain": [
       "<Figure size 432x288 with 1 Axes>"
      ]
     },
     "metadata": {},
     "output_type": "display_data"
    },
    {
     "data": {
      "text/plain": [
       "{'quants':                 0\n",
       " 0.025 -605.289759\n",
       " 0.975  -63.215071,\n",
       " 'p_value': 0.02465976827232559}"
      ]
     },
     "execution_count": 44,
     "metadata": {},
     "output_type": "execute_result"
    }
   ],
   "source": [
    "get_bootstrap(a_group.rev[a_group.rev > 0], b_group.rev[b_group.rev > 0], statistic = np.mean)"
   ]
  },
  {
   "cell_type": "markdown",
   "metadata": {},
   "source": [
    "Доверительный интервал не попадает в 0, можем отвергнуть нулевую гипотезу. ARPPU в двух группах различаются.\n",
    "\n",
    "### ARPU\n",
    "Сформулируем нулевую и альтернативную гипотезы:\n",
    "\n",
    "<li> H0: ARPU в двух группах одинаковые.\n",
    "<li> H1: ARPU в двух группах различаются."
   ]
  },
  {
   "cell_type": "code",
   "execution_count": 45,
   "metadata": {},
   "outputs": [
    {
     "data": {
      "application/vnd.jupyter.widget-view+json": {
       "model_id": "396730e702c64390aaa712f811872056",
       "version_major": 2,
       "version_minor": 0
      },
      "text/plain": [
       "HBox(children=(FloatProgress(value=0.0, max=1000.0), HTML(value='')))"
      ]
     },
     "metadata": {},
     "output_type": "display_data"
    },
    {
     "name": "stdout",
     "output_type": "stream",
     "text": [
      "\n"
     ]
    },
    {
     "data": {
      "image/png": "[encoded data removed]",
      "text/plain": [
       "<Figure size 432x288 with 1 Axes>"
      ]
     },
     "metadata": {},
     "output_type": "display_data"
    },
    {
     "data": {
      "text/plain": [
       "{'quants':                0\n",
       " 0.025 -32.088427\n",
       " 0.975   9.990946,\n",
       " 'p_value': 0.32241623057826296}"
      ]
     },
     "execution_count": 45,
     "metadata": {},
     "output_type": "execute_result"
    }
   ],
   "source": [
    "get_bootstrap(a_group.rev, b_group.rev, statistic = np.mean)"
   ]
  },
  {
   "cell_type": "markdown",
   "metadata": {},
   "source": [
    "Доверительный интервал не попадает в 0, можем отвергнуть нулевую гипотезу. ARPU в двух группах различаются.\n",
    "\n",
    "### Стоит ли запускать новую механику на всех пользователей?\n",
    "Новую механику оплату можно запускать, т.к. она дает статистически значимый прирост в метриках ARPU и ARPPU, отрицательное изменение метрики CR хоть и замечено, но не подтвердилось. <br>\n",
    "В качестве рекомендаций стоит следить за CR. Возможно в дальнейшем эта метрика проявит себя лучше."
   ]
  },
  {
   "cell_type": "markdown",
   "metadata": {},
   "source": [
    "# Задание 2. SQL\n",
    "\n",
    "## 2.1 Очень усердные ученики.\n",
    "\n",
    "### 2.1.1 Условие\n",
    "\n",
    "Образовательные курсы состоят из различных уроков, каждый из которых состоит из нескольких маленьких заданий. Каждое такое маленькое задание называется \"горошиной\".\n",
    "\n",
    "Назовём очень усердным учеником того пользователя, который хотя бы раз за текущий месяц правильно решил 20 горошин.\n",
    "\n",
    "### 2.1.2 Задача\n",
    "\n",
    "Необходимо написать оптимальный запрос, который даст информацию о количестве очень усердных студентов.\n",
    "\n",
    "NB! Под очень усердным студентом мы понимаем студента, который правильно решил 20 задач за текущий месяц."
   ]
  },
  {
   "cell_type": "code",
   "execution_count": 46,
   "metadata": {},
   "outputs": [],
   "source": [
    "# Объявляем параметры подключения к clickhouse\n",
    "connection = dict(database='default',\n",
    "                  host='https://clickhouse.lab.karpov.courses',\n",
    "                  user='student',\n",
    "                  password='dpo_python_2020')"
   ]
  },
  {
   "cell_type": "code",
   "execution_count": 47,
   "metadata": {},
   "outputs": [
    {
     "data": {
      "text/html": [
       "<div>\n",
       "<style scoped>\n",
       "    .dataframe tbody tr th:only-of-type {\n",
       "        vertical-align: middle;\n",
       "    }\n",
       "\n",
       "    .dataframe tbody tr th {\n",
       "        vertical-align: top;\n",
       "    }\n",
       "\n",
       "    .dataframe thead th {\n",
       "        text-align: right;\n",
       "    }\n",
       "</style>\n",
       "<table border=\"1\" class=\"dataframe\">\n",
       "  <thead>\n",
       "    <tr style=\"text-align: right;\">\n",
       "      <th></th>\n",
       "      <th>min_data</th>\n",
       "      <th>max_data</th>\n",
       "    </tr>\n",
       "  </thead>\n",
       "  <tbody>\n",
       "    <tr>\n",
       "      <th>0</th>\n",
       "      <td>2021-10-30</td>\n",
       "      <td>2021-10-31</td>\n",
       "    </tr>\n",
       "  </tbody>\n",
       "</table>\n",
       "</div>"
      ],
      "text/plain": [
       "    min_data   max_data\n",
       "0 2021-10-30 2021-10-31"
      ]
     },
     "execution_count": 47,
     "metadata": {},
     "output_type": "execute_result"
    }
   ],
   "source": [
    "# При рассмотрении данных было замечено, что данных представлено всего за два дня\n",
    "# Чтобы показать это был составлен следующий запрос:\n",
    "query_min_max = \"\"\"\n",
    "SELECT\n",
    "    MIN(toStartOfDay(timest)) AS min_data,\n",
    "    MAX(toStartOfDay(timest)) AS max_data\n",
    "FROM peas\n",
    "\"\"\"\n",
    "min_max = ph.read_clickhouse(query_min_max, connection=connection)\n",
    "min_max"
   ]
  },
  {
   "cell_type": "markdown",
   "metadata": {},
   "source": [
    "По заданию необходимо назвать усердных студентов за текущий месяц, однако как отмечено выше данные представлены только за 2 дня в октябре 2021 года. За текущий месяц данных нет. Однако рассмотрим запрос о  нахождении очень усердных студентов за последний месяц."
   ]
  },
  {
   "cell_type": "code",
   "execution_count": 48,
   "metadata": {},
   "outputs": [
    {
     "name": "stdout",
     "output_type": "stream",
     "text": [
      "Количество очень усердных студентов: 136\n"
     ]
    }
   ],
   "source": [
    "# Количество очень усердных студентов за последний месяц\n",
    "query_count_hw_st = \"\"\"\n",
    "SELECT\n",
    "  COUNT(DISTINCT st_id) AS hardworking_students\n",
    "FROM\n",
    "  (\n",
    "    SELECT st_id, \n",
    "    SUM(correct)\n",
    "    FROM peas\n",
    "    GROUP BY st_id\n",
    "    HAVING SUM(correct)>=20 AND toStartOfMonth(timest)\n",
    "        IN (SELECT \n",
    "                toStartOfMonth(MAX(timest))\n",
    "            FROM peas)\n",
    "  )\n",
    "\n",
    "\"\"\"\n",
    "count_hw_st = ph.read_clickhouse(query_count_hw_st, connection=connection)\n",
    "print(\"Количество очень усердных студентов:\", count_hw_st.iat[0, 0])"
   ]
  },
  {
   "cell_type": "markdown",
   "metadata": {},
   "source": [
    "## 2.2 Оптимизация воронки\n",
    "\n",
    "### 2.2.1 Условие\n",
    "\n",
    "Образовательная платформа предлагает пройти студентам курсы по модели trial: студент может решить бесплатно лишь 30 горошин в день. Для неограниченного количества заданий в определенной дисциплине студенту необходимо приобрести полный доступ. Команда провела эксперимент, где был протестирован новый экран оплаты.\n",
    "\n",
    "### 2.2.2 Задача\n",
    "\n",
    "Необходимо в одном запросе выгрузить следующую информацию о группах пользователей:\n",
    "\n",
    "<li> ARPU \n",
    "<li> ARPAU \n",
    "<li> CR в покупку \n",
    "<li> СR активного пользователя в покупку \n",
    "<li> CR пользователя из активности по математике (subject = ’math’) в покупку курса по математике<p>\n",
    "\n",
    "ARPU считается относительно всех пользователей, попавших в группы.<br>\n",
    "Активным считается пользователь, за все время решивший больше 10 задач правильно в любых дисциплинах.<br>\n",
    "Активным по математике считается пользователь, за все время решивший 2 или больше задач правильно по математике.<br>\n",
    "Активным будем считать тех, кто хотя бы раз выполнил 30 заданий в день. Т.е. те, кто столкнулся с лимитом выполнения задач.<p>\n",
    "\n",
    "Рассмотрим метрики, которые необходимо рассчитать:<p>\n",
    "<b>ARPU (Average Revenue Per User )</b> - отношение выручки к общему количеству пользователей.<br>\n",
    "    ARPU=SUM(money) / COUNT(money) <p>   \n",
    "    \n",
    "<b>ARPAU (Average Revenue Per Active User)</b> - отношение выручки активных пользователей(набравших более 10 баллов) к количеству активных пользователей.<br>\n",
    "    ARPAU=SUM(money_10) / SUM(score > 10)<p>\n",
    "    \n",
    "<b>CR в покупку </b>- отношение количества купивших пользователей к общему количеству пользователей.<br>\n",
    "   CR=SUM(money > 0) / COUNT(money)<p> \n",
    "    \n",
    "<b>СR активного пользователя в покупку </b>- отношение количества купивших активных пользователей(т.е. оплативших и набравших более 10 баллов) к общему количеству активных пользователей.<br>\n",
    "    CR_score_10=SUM(money > 0 AND score > 10) / SUM(score > 10)<p>\n",
    "    \n",
    "<b>CR пользователя из активности по математике (subject = ’math’) в покупку курса по математике </b>- отношение количества купивших активных в математике пользователей к общему количеству активных в математике пользователей.<br>\n",
    "    CR_math=SUM(math =1 AND math_pay = 1) / SUM(math = 1) <p>"
   ]
  },
  {
   "cell_type": "markdown",
   "metadata": {},
   "source": [
    "Отдельно рассмотрим подзапросы, которые понадобятся для расчета метрик.\n",
    "1. Посчитаем баллы всех студентов по всем предметам (score) и выделим активных по математике (subject ='Math', присвоим таким студентам отметку -'1', иначе '0') из таблицы peas (активные по математике набрали число баллов по математике от 2 и выше)\n",
    "            \n",
    "            SELECT\n",
    "              st_id,\n",
    "              SUM(correct) AS score,\n",
    "              CASE\n",
    "                WHEN subject = 'Math'\n",
    "                and score >= 2 THEN 1\n",
    "                ELSE 0\n",
    "              END AS math\n",
    "            FROM\n",
    "              peas\n",
    "            GROUP BY\n",
    "              st_id,\n",
    "              subject\n",
    "\n",
    "2. Используя данные подзапроса из п. 1, посчитаем успешных студентов с математикой (просуммируем отметки из п.1). <b>Этот подзапрос обозначим как 'с'.</b>\n",
    "    \n",
    "        SELECT\n",
    "          st_id,\n",
    "          SUM(score) AS score,\n",
    "          SUM(math) AS math\n",
    "        FROM\n",
    "          (\n",
    "            SELECT\n",
    "              st_id,\n",
    "              SUM(correct) AS score,\n",
    "              CASE\n",
    "                WHEN subject = 'Math'\n",
    "                and score >= 2 THEN 1\n",
    "                ELSE 0\n",
    "              END AS math\n",
    "            FROM\n",
    "              peas\n",
    "            GROUP BY\n",
    "              st_id,\n",
    "              subject\n",
    "          )\n",
    "        GROUP BY\n",
    "          st_id\n",
    "    \n",
    "\n",
    "3. Создадим подзапрос, где посчитаем платежи по математике (math_pay) для каждого студента. Если оплачена математика - отметка '1', иначе '0'. <b>Этот подзапрос обозначим как 'b'.</b>\n",
    "\n",
    "         SELECT\n",
    "          st_id,\n",
    "          SUM(money) AS money,\n",
    "          MAX(\n",
    "            CASE\n",
    "              WHEN subject = 'Math' THEN 1\n",
    "              ELSE 0\n",
    "            END\n",
    "          ) AS math_pay\n",
    "        FROM\n",
    "          final_project_check\n",
    "        GROUP BY\n",
    "          st_id\n",
    "\n",
    "4. Отберем баллы(score>10) и платежи активных студентов (money_10). <b>Этот подзапрос обозначим как 'a'.</b>\n",
    "\n",
    "        SELECT\n",
    "          a.st_id AS id,\n",
    "          a.test_grp AS grp,\n",
    "          b.money AS money,\n",
    "          c.score AS score,\n",
    "          CASE\n",
    "            WHEN c.score > 10 THEN b.money --среди подсчитанных баллов отбираем активных\n",
    "            ELSE 0\n",
    "          END AS money_10,\n",
    "          b.math_pay AS math_pay,\n",
    "          c.math AS math\n",
    "        FROM\n",
    "          studs AS a\n",
    "          \n",
    "5. Сджойним подзапросы a,b и с по st_id. Левый джойн здесь подойдет, т.к. к крайней левой a будем прибавлять b и c.\n",
    "6. Из общего запроса рассчитываем метрики по формулам, рассмотренным выше.           "
   ]
  },
  {
   "cell_type": "code",
   "execution_count": 49,
   "metadata": {},
   "outputs": [
    {
     "data": {
      "text/html": [
       "<div>\n",
       "<style scoped>\n",
       "    .dataframe tbody tr th:only-of-type {\n",
       "        vertical-align: middle;\n",
       "    }\n",
       "\n",
       "    .dataframe tbody tr th {\n",
       "        vertical-align: top;\n",
       "    }\n",
       "\n",
       "    .dataframe thead th {\n",
       "        text-align: right;\n",
       "    }\n",
       "</style>\n",
       "<table border=\"1\" class=\"dataframe\">\n",
       "  <thead>\n",
       "    <tr style=\"text-align: right;\">\n",
       "      <th></th>\n",
       "      <th>group_value</th>\n",
       "      <th>ARPU</th>\n",
       "      <th>ARPAU</th>\n",
       "      <th>CR</th>\n",
       "      <th>CR_score_10</th>\n",
       "      <th>CR_math</th>\n",
       "    </tr>\n",
       "  </thead>\n",
       "  <tbody>\n",
       "    <tr>\n",
       "      <th>0</th>\n",
       "      <td>control</td>\n",
       "      <td>4540.98</td>\n",
       "      <td>10393.70</td>\n",
       "      <td>0.05</td>\n",
       "      <td>0.11</td>\n",
       "      <td>0.06</td>\n",
       "    </tr>\n",
       "    <tr>\n",
       "      <th>1</th>\n",
       "      <td>pilot</td>\n",
       "      <td>11508.47</td>\n",
       "      <td>29739.58</td>\n",
       "      <td>0.11</td>\n",
       "      <td>0.26</td>\n",
       "      <td>0.10</td>\n",
       "    </tr>\n",
       "  </tbody>\n",
       "</table>\n",
       "</div>"
      ],
      "text/plain": [
       "  group_value      ARPU     ARPAU    CR  CR_score_10  CR_math\n",
       "0     control   4540.98  10393.70  0.05         0.11     0.06\n",
       "1       pilot  11508.47  29739.58  0.11         0.26     0.10"
      ]
     },
     "execution_count": 49,
     "metadata": {},
     "output_type": "execute_result"
    }
   ],
   "source": [
    "# Общий запрос\n",
    "query_metrics = \"\"\"\n",
    "SELECT\n",
    "  grp AS group_value,\n",
    "  SUM(money) / COUNT(money) AS ARPU,\n",
    "  SUM(money_10) / SUM(score > 10) AS ARPAU,\n",
    "  SUM(money > 0) / COUNT(money) AS CR,\n",
    "  SUM(money > 0 AND score > 10) / SUM(score > 10) AS CR_score_10,\n",
    "  SUM(math =1 AND math_pay = 1) / SUM(math = 1) AS CR_math\n",
    "FROM\n",
    "  (\n",
    "    SELECT\n",
    "      a.st_id AS id,\n",
    "      a.test_grp AS grp,\n",
    "      b.money AS money,\n",
    "      c.score AS score,\n",
    "      CASE\n",
    "        WHEN c.score > 10 THEN b.money --среди подсчитанных баллов отбираем активных\n",
    "        ELSE 0\n",
    "      END AS money_10,\n",
    "      b.math_pay AS math_pay,\n",
    "      c.math AS math\n",
    "    FROM\n",
    "      studs AS a\n",
    "      LEFT JOIN (\n",
    "        SELECT\n",
    "          st_id,\n",
    "          SUM(money) AS money,\n",
    "          MAX(\n",
    "            CASE\n",
    "              WHEN subject = 'Math' THEN 1\n",
    "              ELSE 0\n",
    "            END\n",
    "          ) AS math_pay\n",
    "        FROM\n",
    "          final_project_check\n",
    "        GROUP BY\n",
    "          st_id\n",
    "      ) AS b ON a.st_id = b.st_id\n",
    "      LEFT JOIN (\n",
    "        SELECT\n",
    "          st_id,\n",
    "          SUM(score) AS score,\n",
    "          SUM(math) AS math\n",
    "        FROM\n",
    "          (\n",
    "            SELECT\n",
    "              st_id,\n",
    "              SUM(correct) AS score,\n",
    "              CASE\n",
    "                WHEN subject = 'Math'\n",
    "                and score >= 2 THEN 1\n",
    "                ELSE 0\n",
    "              END AS math\n",
    "            FROM\n",
    "              peas\n",
    "            GROUP BY\n",
    "              st_id,\n",
    "              subject\n",
    "          )\n",
    "        GROUP BY\n",
    "          st_id\n",
    "      ) AS c ON a.st_id = c.st_id\n",
    "  )\n",
    "  GROUP BY grp\n",
    "\"\"\"\n",
    "metrics = ph.read_clickhouse(query_metrics, connection=connection)\n",
    "# выведем полученные значения с 2 знаками после запятой\n",
    "metrics.round(2)"
   ]
  },
  {
   "cell_type": "markdown",
   "metadata": {},
   "source": [
    "# Задание 3. Python\n",
    "\n",
    "## 3.1 Задача\n",
    "\n",
    "1. Реализация функции, которая будет автоматически подгружать информацию из дополнительного файла groups_add.csv (заголовки могут отличаться) и на основании дополнительных параметров пересчитывать метрики. <p>\n",
    "\n",
    "2. Реализация функции, которая будет строить графики по получаемым метрикам."
   ]
  },
  {
   "cell_type": "code",
   "execution_count": 50,
   "metadata": {},
   "outputs": [],
   "source": [
    "def get_update(add_link):\n",
    "    # загружаем первоначальные данные по ссылкам с указанием разделителя\n",
    "    base_url = 'https://cloud-api.yandex.net/v1/disk/public/resources/download?'\n",
    "    links_dic = {\n",
    "        'groups':       ['https://disk.yandex.ru/d/UhyYx41rTt3clQ', ';'],\n",
    "        'active_studs': ['https://disk.yandex.ru/d/Tbs44Bm6H_FwFQ', ','],\n",
    "        'checks':       ['https://disk.yandex.ru/d/pH1q-VqcxXjsVA', ';']\n",
    "                }\n",
    "    for csv_filename, csv_link in links_dic.items():\n",
    "        final_url               = base_url + urlencode(dict(public_key=csv_link[0]))\n",
    "        response                = requests.get(final_url)\n",
    "        download_url            = response.json()['href']\n",
    "        globals()[csv_filename] = pd.read_csv(download_url, sep=csv_link[1])\n",
    "    \n",
    "    \n",
    "    # подгружаем доп. файл по ссылке add_link\n",
    "    final_url = base_url + urlencode(dict(public_key=add_link))\n",
    "    response = requests.get(final_url)\n",
    "    download_url = response.json()['href']\n",
    "    df_add = pd.read_csv(download_url,sep=',')\n",
    "    \n",
    "    # соединяем первоначальный файл groups с подгружаемым group_add\n",
    "    df_groups=groups.append(df_add)\n",
    "    \n",
    "    # присоединяем к дф данные active_studs и checks\n",
    "    # все id приводим к единому наименованию\n",
    "    total_df = df_groups\\\n",
    "        .merge(active_studs.assign(activity=1).rename(columns={'student_id': 'id'}),on='id', how='outer')\\\n",
    "        .merge(checks.assign(payment = 1)\\\n",
    "        .rename(columns={'student_id': 'id'}),on='id', how='outer')\n",
    "   \n",
    "    # перевод Nan в 0\n",
    "    total_df.activity=total_df.activity.fillna(0)\n",
    "    total_df.rev=total_df.rev.fillna(0)\n",
    "    total_df.payment=total_df.payment.fillna(0)\n",
    "    \n",
    "    # результат расчета метрик будем заносить в таблицу table\n",
    "    table = pd.DataFrame()\n",
    "    # Фильтруем необходимые данные для метрик (выделяем активных, оплативших и разделяем по группам)\n",
    "    total_df=total_df.query('activity==1')\n",
    "    a_group=total_df.query('grp==\"A\"')\n",
    "    b_group=total_df.query('grp==\"B\"')\n",
    "    a_group_paid=a_group.query('payment==1')\n",
    "    b_group_paid=b_group.query('payment==1')\n",
    "        \n",
    "    # Рассчитываем метрики (по аналогичным формулам из задания 1)\n",
    "    CR_A=round(a_group_paid.id.count() / a_group.id.count(), 3)\n",
    "    CR_B=round(b_group_paid.id.count() / b_group.id.count(), 3)\n",
    "    ARPU_A=round(a_group_paid.rev.sum() / a_group.id.count(), 2)\n",
    "    ARPU_B=round(b_group_paid.rev.sum() / b_group.id.count(), 2)\n",
    "    ARPPU_A=round(a_group_paid.rev.mean(), 2)\n",
    "    ARPPU_B=round(b_group_paid.rev.mean(), 2)\n",
    "    \n",
    "    # заносим результаты расчета в таблицу\n",
    "    table = pd.DataFrame({'group':['A','B'],'CR': [CR_A, CR_B], 'ARPU': [ARPU_A, ARPU_B],'ARPPU': [ARPPU_A, ARPPU_B]})\n",
    "    \n",
    "    return table"
   ]
  },
  {
   "cell_type": "code",
   "execution_count": 51,
   "metadata": {},
   "outputs": [
    {
     "data": {
      "text/html": [
       "<div>\n",
       "<style scoped>\n",
       "    .dataframe tbody tr th:only-of-type {\n",
       "        vertical-align: middle;\n",
       "    }\n",
       "\n",
       "    .dataframe tbody tr th {\n",
       "        vertical-align: top;\n",
       "    }\n",
       "\n",
       "    .dataframe thead th {\n",
       "        text-align: right;\n",
       "    }\n",
       "</style>\n",
       "<table border=\"1\" class=\"dataframe\">\n",
       "  <thead>\n",
       "    <tr style=\"text-align: right;\">\n",
       "      <th></th>\n",
       "      <th>group</th>\n",
       "      <th>CR</th>\n",
       "      <th>ARPU</th>\n",
       "      <th>ARPPU</th>\n",
       "    </tr>\n",
       "  </thead>\n",
       "  <tbody>\n",
       "    <tr>\n",
       "      <th>0</th>\n",
       "      <td>A</td>\n",
       "      <td>0.051</td>\n",
       "      <td>47.35</td>\n",
       "      <td>933.59</td>\n",
       "    </tr>\n",
       "    <tr>\n",
       "      <th>1</th>\n",
       "      <td>B</td>\n",
       "      <td>0.046</td>\n",
       "      <td>58.06</td>\n",
       "      <td>1257.88</td>\n",
       "    </tr>\n",
       "  </tbody>\n",
       "</table>\n",
       "</div>"
      ],
      "text/plain": [
       "  group     CR   ARPU    ARPPU\n",
       "0     A  0.051  47.35   933.59\n",
       "1     B  0.046  58.06  1257.88"
      ]
     },
     "execution_count": 51,
     "metadata": {},
     "output_type": "execute_result"
    }
   ],
   "source": [
    "# Вставляем ссылку на доп. данные и вызываем функцию\n",
    "add_link='https://disk.yandex.ru/d/5Kxrz02m3IBUwQ'\n",
    "metrix = get_update(add_link)\n",
    "metrix"
   ]
  },
  {
   "cell_type": "code",
   "execution_count": 52,
   "metadata": {},
   "outputs": [],
   "source": [
    "# функция отрисовки графиков по таблице, полученной в результате get_update\n",
    "# для наглядного сравнения метрик по группам строить будем barplot\n",
    "def get_plot(table):\n",
    "    figure, ax = plt.subplots(1, 3, figsize=(20,5))\n",
    "    \n",
    "    ax_1 = sns.barplot(data=table, x='group', y='CR', hue='group',ax=ax[0])\n",
    "    ax_1.set_title('Метрика CR', fontsize=20)\n",
    "\n",
    "    ax_2 = sns.barplot(data=table, x='group', y='ARPU', hue='group',ax=ax[1])\n",
    "    ax_2.set_title('Метрика ARPU', fontsize=20)\n",
    "    \n",
    "    ax_3 = sns.barplot(data=table, x='group', y='ARPPU', hue='group',ax=ax[2])\n",
    "    ax_3.set_title('Метрика ARPPU', fontsize=20)"
   ]
  },
  {
   "cell_type": "code",
   "execution_count": 53,
   "metadata": {},
   "outputs": [
    {
     "data": {
      "image/png": "[encoded data removed]",
      "text/plain": [
       "<Figure size 1440x360 with 3 Axes>"
      ]
     },
     "metadata": {},
     "output_type": "display_data"
    }
   ],
   "source": [
    "get_plot(metrix)"
   ]
  },
  {
   "cell_type": "markdown",
   "metadata": {},
   "source": [
    "Таким образом, мы получили две функции:\n",
    "1. Функция, которая подгружает доп. данные к первоначальным и считает метрики CR, ARPU, ARPPU.\n",
    "2. Функция, которая строит графики по метрикам, полученным в ходе работы функции 1. <br>\n",
    "Несколько нажатий кнопки позволяет подгрузить доп. файл, рассчитать метрики и посмотреть их на barplot."
   ]
  },
  {
   "cell_type": "markdown",
   "metadata": {},
   "source": [
    "<hr>\n",
    "\n",
    "# Общий вывод:\n",
    "\n",
    "Данный вариант проекта был посвящен A/B тестированию, SQL и Python. Подведем итог:<p>\n",
    "<li> В ходе A/B тестирования одной гипотезы целевой группе была предложена новая механика оплаты услуг на сайте, у контрольной группы оставалась базовая механика. Были расчитаны метрики CR, ARPU, ARPPU и проверена статистическая значимость рассмотренных метрик методом bootstrap. В результате теста был сделан вывод о том, что изменения в метриках при введении новой механики не были слишком сильно выражены, но с учетом положительной тенденции ARPU и ARPPU (подтвержденной bootstrap) все же было решено ввести новую механику с рекомендации о дальнейшем слежением за ситуацией.\n",
    "<li> В блоке по SQL были написаны запросы по поиску очень усердных студентов образовательной платформы, а также при оптимизации воронки были рассчитаны метрики ARPU, ARPAU, CR в покупку, СR активного пользователя в покупку, CR пользователя из активности по математике (subject = ’math’) в покупку курса по математике. При поиске усердных студентов были взяты данные за последний месяц. В результате были найдены все необходимые значения с использованием запросов в SQL. В запросах были использованы: группировка, агрегация, фильтрация, вложенные запросы, джойны. Запросы и их результат выведены в Jupyter Notebook из Clickhouse с помощью библиотеки pandahouse.\n",
    "<li> Задача по Python представляла собой написания функции для подгрузки данных и расчета метрик(get_update), а также функции по построению графиков по метрикам(get_plot). Подгрузка дополнительных данных происходила с использованием ссылки на Яндекс.Диск. Уже имеющиеся данные объединялись с подгруженными и использовались для расчета метрик CR, ARPU, ARPPU. Графики строились благодаря отдельной фукнции. Для построения был выбран barplot, как наиболее удобный вариант для сравнения групп.<p>\n",
    "    \n",
    "Таким образом, все задания рассмотренного проекта выполнены. По каждому заданию даны комментарии и сделаны выводы."
   ]
  }
 ],
 "metadata": {
  "kernelspec": {
   "display_name": "Python 3",
   "language": "python",
   "name": "python3"
  },
  "language_info": {
   "codemirror_mode": {
    "name": "ipython",
    "version": 3
   },
   "file_extension": ".py",
   "mimetype": "text/x-python",
   "name": "python",
   "nbconvert_exporter": "python",
   "pygments_lexer": "ipython3",
   "version": "3.7.3"
  }
 },
 "nbformat": 4,
 "nbformat_minor": 4
}
